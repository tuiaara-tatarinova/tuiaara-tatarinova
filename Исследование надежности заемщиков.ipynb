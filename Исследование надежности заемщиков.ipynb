{
 "cells": [
  {
   "cell_type": "markdown",
   "id": "386f2ae7",
   "metadata": {
    "deletable": false,
    "editable": false,
    "id": "386f2ae7"
   },
   "source": [
    "# Исследование надежности заемщиков\n"
   ]
  },
  {
   "cell_type": "markdown",
   "id": "ffe86f65",
   "metadata": {
    "deletable": false,
    "editable": false,
    "id": "ffe86f65"
   },
   "source": [
    "Во второй части проекта вы выполните шаги 3 и 4. Их вручную проверит ревьюер.\n",
    "Чтобы вам не пришлось писать код заново для шагов 1 и 2, мы добавили авторские решения в ячейки с кодом. \n",
    "\n"
   ]
  },
  {
   "cell_type": "markdown",
   "id": "26613308",
   "metadata": {
    "deletable": false,
    "editable": false,
    "id": "26613308"
   },
   "source": [
    "## Откройте таблицу и изучите общую информацию о данных"
   ]
  },
  {
   "cell_type": "markdown",
   "id": "3c9f838e",
   "metadata": {
    "deletable": false,
    "editable": false,
    "id": "3c9f838e"
   },
   "source": [
    "**Задание 1. Импортируйте библиотеку pandas. Считайте данные из csv-файла в датафрейм и сохраните в переменную `data`. Путь к файлу:**\n",
    "\n",
    "`/datasets/data.csv`"
   ]
  },
  {
   "cell_type": "code",
   "execution_count": 22,
   "id": "77a68a90",
   "metadata": {
    "deletable": false,
    "id": "77a68a90"
   },
   "outputs": [],
   "source": [
    "import pandas as pd\n",
    "\n",
    "try:\n",
    "    data = pd.read_csv('/datasets/data.csv')\n",
    "except:\n",
    "    data = pd.read_csv('https://code.s3.yandex.net/datasets/data.csv')"
   ]
  },
  {
   "cell_type": "markdown",
   "id": "45365635",
   "metadata": {
    "deletable": false,
    "editable": false,
    "id": "45365635"
   },
   "source": [
    "**Задание 2. Выведите первые 20 строчек датафрейма `data` на экран.**"
   ]
  },
  {
   "cell_type": "code",
   "execution_count": 23,
   "id": "b0451a9a",
   "metadata": {
    "deletable": false,
    "id": "b0451a9a",
    "outputId": "1a8f3ef2-d323-4ec2-ddf7-89670b5944c4",
    "scrolled": true
   },
   "outputs": [
    {
     "data": {
      "text/html": [
       "<div>\n",
       "<style scoped>\n",
       "    .dataframe tbody tr th:only-of-type {\n",
       "        vertical-align: middle;\n",
       "    }\n",
       "\n",
       "    .dataframe tbody tr th {\n",
       "        vertical-align: top;\n",
       "    }\n",
       "\n",
       "    .dataframe thead th {\n",
       "        text-align: right;\n",
       "    }\n",
       "</style>\n",
       "<table border=\"1\" class=\"dataframe\">\n",
       "  <thead>\n",
       "    <tr style=\"text-align: right;\">\n",
       "      <th></th>\n",
       "      <th>children</th>\n",
       "      <th>days_employed</th>\n",
       "      <th>dob_years</th>\n",
       "      <th>education</th>\n",
       "      <th>education_id</th>\n",
       "      <th>family_status</th>\n",
       "      <th>family_status_id</th>\n",
       "      <th>gender</th>\n",
       "      <th>income_type</th>\n",
       "      <th>debt</th>\n",
       "      <th>total_income</th>\n",
       "      <th>purpose</th>\n",
       "    </tr>\n",
       "  </thead>\n",
       "  <tbody>\n",
       "    <tr>\n",
       "      <th>0</th>\n",
       "      <td>1</td>\n",
       "      <td>-8437.673028</td>\n",
       "      <td>42</td>\n",
       "      <td>высшее</td>\n",
       "      <td>0</td>\n",
       "      <td>женат / замужем</td>\n",
       "      <td>0</td>\n",
       "      <td>F</td>\n",
       "      <td>сотрудник</td>\n",
       "      <td>0</td>\n",
       "      <td>253875.639453</td>\n",
       "      <td>покупка жилья</td>\n",
       "    </tr>\n",
       "    <tr>\n",
       "      <th>1</th>\n",
       "      <td>1</td>\n",
       "      <td>-4024.803754</td>\n",
       "      <td>36</td>\n",
       "      <td>среднее</td>\n",
       "      <td>1</td>\n",
       "      <td>женат / замужем</td>\n",
       "      <td>0</td>\n",
       "      <td>F</td>\n",
       "      <td>сотрудник</td>\n",
       "      <td>0</td>\n",
       "      <td>112080.014102</td>\n",
       "      <td>приобретение автомобиля</td>\n",
       "    </tr>\n",
       "    <tr>\n",
       "      <th>2</th>\n",
       "      <td>0</td>\n",
       "      <td>-5623.422610</td>\n",
       "      <td>33</td>\n",
       "      <td>Среднее</td>\n",
       "      <td>1</td>\n",
       "      <td>женат / замужем</td>\n",
       "      <td>0</td>\n",
       "      <td>M</td>\n",
       "      <td>сотрудник</td>\n",
       "      <td>0</td>\n",
       "      <td>145885.952297</td>\n",
       "      <td>покупка жилья</td>\n",
       "    </tr>\n",
       "    <tr>\n",
       "      <th>3</th>\n",
       "      <td>3</td>\n",
       "      <td>-4124.747207</td>\n",
       "      <td>32</td>\n",
       "      <td>среднее</td>\n",
       "      <td>1</td>\n",
       "      <td>женат / замужем</td>\n",
       "      <td>0</td>\n",
       "      <td>M</td>\n",
       "      <td>сотрудник</td>\n",
       "      <td>0</td>\n",
       "      <td>267628.550329</td>\n",
       "      <td>дополнительное образование</td>\n",
       "    </tr>\n",
       "    <tr>\n",
       "      <th>4</th>\n",
       "      <td>0</td>\n",
       "      <td>340266.072047</td>\n",
       "      <td>53</td>\n",
       "      <td>среднее</td>\n",
       "      <td>1</td>\n",
       "      <td>гражданский брак</td>\n",
       "      <td>1</td>\n",
       "      <td>F</td>\n",
       "      <td>пенсионер</td>\n",
       "      <td>0</td>\n",
       "      <td>158616.077870</td>\n",
       "      <td>сыграть свадьбу</td>\n",
       "    </tr>\n",
       "    <tr>\n",
       "      <th>5</th>\n",
       "      <td>0</td>\n",
       "      <td>-926.185831</td>\n",
       "      <td>27</td>\n",
       "      <td>высшее</td>\n",
       "      <td>0</td>\n",
       "      <td>гражданский брак</td>\n",
       "      <td>1</td>\n",
       "      <td>M</td>\n",
       "      <td>компаньон</td>\n",
       "      <td>0</td>\n",
       "      <td>255763.565419</td>\n",
       "      <td>покупка жилья</td>\n",
       "    </tr>\n",
       "    <tr>\n",
       "      <th>6</th>\n",
       "      <td>0</td>\n",
       "      <td>-2879.202052</td>\n",
       "      <td>43</td>\n",
       "      <td>высшее</td>\n",
       "      <td>0</td>\n",
       "      <td>женат / замужем</td>\n",
       "      <td>0</td>\n",
       "      <td>F</td>\n",
       "      <td>компаньон</td>\n",
       "      <td>0</td>\n",
       "      <td>240525.971920</td>\n",
       "      <td>операции с жильем</td>\n",
       "    </tr>\n",
       "    <tr>\n",
       "      <th>7</th>\n",
       "      <td>0</td>\n",
       "      <td>-152.779569</td>\n",
       "      <td>50</td>\n",
       "      <td>СРЕДНЕЕ</td>\n",
       "      <td>1</td>\n",
       "      <td>женат / замужем</td>\n",
       "      <td>0</td>\n",
       "      <td>M</td>\n",
       "      <td>сотрудник</td>\n",
       "      <td>0</td>\n",
       "      <td>135823.934197</td>\n",
       "      <td>образование</td>\n",
       "    </tr>\n",
       "    <tr>\n",
       "      <th>8</th>\n",
       "      <td>2</td>\n",
       "      <td>-6929.865299</td>\n",
       "      <td>35</td>\n",
       "      <td>ВЫСШЕЕ</td>\n",
       "      <td>0</td>\n",
       "      <td>гражданский брак</td>\n",
       "      <td>1</td>\n",
       "      <td>F</td>\n",
       "      <td>сотрудник</td>\n",
       "      <td>0</td>\n",
       "      <td>95856.832424</td>\n",
       "      <td>на проведение свадьбы</td>\n",
       "    </tr>\n",
       "    <tr>\n",
       "      <th>9</th>\n",
       "      <td>0</td>\n",
       "      <td>-2188.756445</td>\n",
       "      <td>41</td>\n",
       "      <td>среднее</td>\n",
       "      <td>1</td>\n",
       "      <td>женат / замужем</td>\n",
       "      <td>0</td>\n",
       "      <td>M</td>\n",
       "      <td>сотрудник</td>\n",
       "      <td>0</td>\n",
       "      <td>144425.938277</td>\n",
       "      <td>покупка жилья для семьи</td>\n",
       "    </tr>\n",
       "    <tr>\n",
       "      <th>10</th>\n",
       "      <td>2</td>\n",
       "      <td>-4171.483647</td>\n",
       "      <td>36</td>\n",
       "      <td>высшее</td>\n",
       "      <td>0</td>\n",
       "      <td>женат / замужем</td>\n",
       "      <td>0</td>\n",
       "      <td>M</td>\n",
       "      <td>компаньон</td>\n",
       "      <td>0</td>\n",
       "      <td>113943.491460</td>\n",
       "      <td>покупка недвижимости</td>\n",
       "    </tr>\n",
       "    <tr>\n",
       "      <th>11</th>\n",
       "      <td>0</td>\n",
       "      <td>-792.701887</td>\n",
       "      <td>40</td>\n",
       "      <td>среднее</td>\n",
       "      <td>1</td>\n",
       "      <td>женат / замужем</td>\n",
       "      <td>0</td>\n",
       "      <td>F</td>\n",
       "      <td>сотрудник</td>\n",
       "      <td>0</td>\n",
       "      <td>77069.234271</td>\n",
       "      <td>покупка коммерческой недвижимости</td>\n",
       "    </tr>\n",
       "    <tr>\n",
       "      <th>12</th>\n",
       "      <td>0</td>\n",
       "      <td>NaN</td>\n",
       "      <td>65</td>\n",
       "      <td>среднее</td>\n",
       "      <td>1</td>\n",
       "      <td>гражданский брак</td>\n",
       "      <td>1</td>\n",
       "      <td>M</td>\n",
       "      <td>пенсионер</td>\n",
       "      <td>0</td>\n",
       "      <td>NaN</td>\n",
       "      <td>сыграть свадьбу</td>\n",
       "    </tr>\n",
       "    <tr>\n",
       "      <th>13</th>\n",
       "      <td>0</td>\n",
       "      <td>-1846.641941</td>\n",
       "      <td>54</td>\n",
       "      <td>неоконченное высшее</td>\n",
       "      <td>2</td>\n",
       "      <td>женат / замужем</td>\n",
       "      <td>0</td>\n",
       "      <td>F</td>\n",
       "      <td>сотрудник</td>\n",
       "      <td>0</td>\n",
       "      <td>130458.228857</td>\n",
       "      <td>приобретение автомобиля</td>\n",
       "    </tr>\n",
       "    <tr>\n",
       "      <th>14</th>\n",
       "      <td>0</td>\n",
       "      <td>-1844.956182</td>\n",
       "      <td>56</td>\n",
       "      <td>высшее</td>\n",
       "      <td>0</td>\n",
       "      <td>гражданский брак</td>\n",
       "      <td>1</td>\n",
       "      <td>F</td>\n",
       "      <td>компаньон</td>\n",
       "      <td>1</td>\n",
       "      <td>165127.911772</td>\n",
       "      <td>покупка жилой недвижимости</td>\n",
       "    </tr>\n",
       "    <tr>\n",
       "      <th>15</th>\n",
       "      <td>1</td>\n",
       "      <td>-972.364419</td>\n",
       "      <td>26</td>\n",
       "      <td>среднее</td>\n",
       "      <td>1</td>\n",
       "      <td>женат / замужем</td>\n",
       "      <td>0</td>\n",
       "      <td>F</td>\n",
       "      <td>сотрудник</td>\n",
       "      <td>0</td>\n",
       "      <td>116820.904450</td>\n",
       "      <td>строительство собственной недвижимости</td>\n",
       "    </tr>\n",
       "    <tr>\n",
       "      <th>16</th>\n",
       "      <td>0</td>\n",
       "      <td>-1719.934226</td>\n",
       "      <td>35</td>\n",
       "      <td>среднее</td>\n",
       "      <td>1</td>\n",
       "      <td>женат / замужем</td>\n",
       "      <td>0</td>\n",
       "      <td>F</td>\n",
       "      <td>сотрудник</td>\n",
       "      <td>0</td>\n",
       "      <td>289202.704229</td>\n",
       "      <td>недвижимость</td>\n",
       "    </tr>\n",
       "    <tr>\n",
       "      <th>17</th>\n",
       "      <td>0</td>\n",
       "      <td>-2369.999720</td>\n",
       "      <td>33</td>\n",
       "      <td>высшее</td>\n",
       "      <td>0</td>\n",
       "      <td>гражданский брак</td>\n",
       "      <td>1</td>\n",
       "      <td>M</td>\n",
       "      <td>сотрудник</td>\n",
       "      <td>0</td>\n",
       "      <td>90410.586745</td>\n",
       "      <td>строительство недвижимости</td>\n",
       "    </tr>\n",
       "    <tr>\n",
       "      <th>18</th>\n",
       "      <td>0</td>\n",
       "      <td>400281.136913</td>\n",
       "      <td>53</td>\n",
       "      <td>среднее</td>\n",
       "      <td>1</td>\n",
       "      <td>вдовец / вдова</td>\n",
       "      <td>2</td>\n",
       "      <td>F</td>\n",
       "      <td>пенсионер</td>\n",
       "      <td>0</td>\n",
       "      <td>56823.777243</td>\n",
       "      <td>на покупку подержанного автомобиля</td>\n",
       "    </tr>\n",
       "    <tr>\n",
       "      <th>19</th>\n",
       "      <td>0</td>\n",
       "      <td>-10038.818549</td>\n",
       "      <td>48</td>\n",
       "      <td>СРЕДНЕЕ</td>\n",
       "      <td>1</td>\n",
       "      <td>в разводе</td>\n",
       "      <td>3</td>\n",
       "      <td>F</td>\n",
       "      <td>сотрудник</td>\n",
       "      <td>0</td>\n",
       "      <td>242831.107982</td>\n",
       "      <td>на покупку своего автомобиля</td>\n",
       "    </tr>\n",
       "  </tbody>\n",
       "</table>\n",
       "</div>"
      ],
      "text/plain": [
       "    children  days_employed  dob_years            education  education_id  \\\n",
       "0          1   -8437.673028         42               высшее             0   \n",
       "1          1   -4024.803754         36              среднее             1   \n",
       "2          0   -5623.422610         33              Среднее             1   \n",
       "3          3   -4124.747207         32              среднее             1   \n",
       "4          0  340266.072047         53              среднее             1   \n",
       "5          0    -926.185831         27               высшее             0   \n",
       "6          0   -2879.202052         43               высшее             0   \n",
       "7          0    -152.779569         50              СРЕДНЕЕ             1   \n",
       "8          2   -6929.865299         35               ВЫСШЕЕ             0   \n",
       "9          0   -2188.756445         41              среднее             1   \n",
       "10         2   -4171.483647         36               высшее             0   \n",
       "11         0    -792.701887         40              среднее             1   \n",
       "12         0            NaN         65              среднее             1   \n",
       "13         0   -1846.641941         54  неоконченное высшее             2   \n",
       "14         0   -1844.956182         56               высшее             0   \n",
       "15         1    -972.364419         26              среднее             1   \n",
       "16         0   -1719.934226         35              среднее             1   \n",
       "17         0   -2369.999720         33               высшее             0   \n",
       "18         0  400281.136913         53              среднее             1   \n",
       "19         0  -10038.818549         48              СРЕДНЕЕ             1   \n",
       "\n",
       "       family_status  family_status_id gender income_type  debt  \\\n",
       "0    женат / замужем                 0      F   сотрудник     0   \n",
       "1    женат / замужем                 0      F   сотрудник     0   \n",
       "2    женат / замужем                 0      M   сотрудник     0   \n",
       "3    женат / замужем                 0      M   сотрудник     0   \n",
       "4   гражданский брак                 1      F   пенсионер     0   \n",
       "5   гражданский брак                 1      M   компаньон     0   \n",
       "6    женат / замужем                 0      F   компаньон     0   \n",
       "7    женат / замужем                 0      M   сотрудник     0   \n",
       "8   гражданский брак                 1      F   сотрудник     0   \n",
       "9    женат / замужем                 0      M   сотрудник     0   \n",
       "10   женат / замужем                 0      M   компаньон     0   \n",
       "11   женат / замужем                 0      F   сотрудник     0   \n",
       "12  гражданский брак                 1      M   пенсионер     0   \n",
       "13   женат / замужем                 0      F   сотрудник     0   \n",
       "14  гражданский брак                 1      F   компаньон     1   \n",
       "15   женат / замужем                 0      F   сотрудник     0   \n",
       "16   женат / замужем                 0      F   сотрудник     0   \n",
       "17  гражданский брак                 1      M   сотрудник     0   \n",
       "18    вдовец / вдова                 2      F   пенсионер     0   \n",
       "19         в разводе                 3      F   сотрудник     0   \n",
       "\n",
       "     total_income                                 purpose  \n",
       "0   253875.639453                           покупка жилья  \n",
       "1   112080.014102                 приобретение автомобиля  \n",
       "2   145885.952297                           покупка жилья  \n",
       "3   267628.550329              дополнительное образование  \n",
       "4   158616.077870                         сыграть свадьбу  \n",
       "5   255763.565419                           покупка жилья  \n",
       "6   240525.971920                       операции с жильем  \n",
       "7   135823.934197                             образование  \n",
       "8    95856.832424                   на проведение свадьбы  \n",
       "9   144425.938277                 покупка жилья для семьи  \n",
       "10  113943.491460                    покупка недвижимости  \n",
       "11   77069.234271       покупка коммерческой недвижимости  \n",
       "12            NaN                         сыграть свадьбу  \n",
       "13  130458.228857                 приобретение автомобиля  \n",
       "14  165127.911772              покупка жилой недвижимости  \n",
       "15  116820.904450  строительство собственной недвижимости  \n",
       "16  289202.704229                            недвижимость  \n",
       "17   90410.586745              строительство недвижимости  \n",
       "18   56823.777243      на покупку подержанного автомобиля  \n",
       "19  242831.107982            на покупку своего автомобиля  "
      ]
     },
     "execution_count": 23,
     "metadata": {},
     "output_type": "execute_result"
    }
   ],
   "source": [
    "data.head(20)"
   ]
  },
  {
   "cell_type": "markdown",
   "id": "0ed8f27f",
   "metadata": {
    "deletable": false,
    "editable": false,
    "id": "0ed8f27f"
   },
   "source": [
    "**Задание 3. Выведите основную информацию о датафрейме с помощью метода `info()`.**"
   ]
  },
  {
   "cell_type": "code",
   "execution_count": 24,
   "id": "ab3f863b",
   "metadata": {
    "deletable": false,
    "id": "ab3f863b",
    "outputId": "15376089-8dad-46c9-b520-c05248d43158"
   },
   "outputs": [
    {
     "name": "stdout",
     "output_type": "stream",
     "text": [
      "<class 'pandas.core.frame.DataFrame'>\n",
      "RangeIndex: 21525 entries, 0 to 21524\n",
      "Data columns (total 12 columns):\n",
      " #   Column            Non-Null Count  Dtype  \n",
      "---  ------            --------------  -----  \n",
      " 0   children          21525 non-null  int64  \n",
      " 1   days_employed     19351 non-null  float64\n",
      " 2   dob_years         21525 non-null  int64  \n",
      " 3   education         21525 non-null  object \n",
      " 4   education_id      21525 non-null  int64  \n",
      " 5   family_status     21525 non-null  object \n",
      " 6   family_status_id  21525 non-null  int64  \n",
      " 7   gender            21525 non-null  object \n",
      " 8   income_type       21525 non-null  object \n",
      " 9   debt              21525 non-null  int64  \n",
      " 10  total_income      19351 non-null  float64\n",
      " 11  purpose           21525 non-null  object \n",
      "dtypes: float64(2), int64(5), object(5)\n",
      "memory usage: 2.0+ MB\n"
     ]
    }
   ],
   "source": [
    "data.info()"
   ]
  },
  {
   "cell_type": "markdown",
   "id": "60e3e22d",
   "metadata": {
    "deletable": false,
    "editable": false,
    "id": "60e3e22d"
   },
   "source": [
    "## Предобработка данных"
   ]
  },
  {
   "cell_type": "markdown",
   "id": "03dc170c",
   "metadata": {
    "deletable": false,
    "editable": false,
    "id": "03dc170c"
   },
   "source": [
    "### Удаление пропусков"
   ]
  },
  {
   "cell_type": "markdown",
   "id": "a4f54eef",
   "metadata": {
    "deletable": false,
    "editable": false,
    "id": "a4f54eef"
   },
   "source": [
    "**Задание 4. Выведите количество пропущенных значений для каждого столбца. Используйте комбинацию двух методов.**"
   ]
  },
  {
   "cell_type": "code",
   "execution_count": 25,
   "id": "2dc372b2",
   "metadata": {
    "deletable": false,
    "id": "2dc372b2",
    "outputId": "81f4d817-781c-465c-ed15-91ce4446810d"
   },
   "outputs": [
    {
     "data": {
      "text/plain": [
       "children               0\n",
       "days_employed       2174\n",
       "dob_years              0\n",
       "education              0\n",
       "education_id           0\n",
       "family_status          0\n",
       "family_status_id       0\n",
       "gender                 0\n",
       "income_type            0\n",
       "debt                   0\n",
       "total_income        2174\n",
       "purpose                0\n",
       "dtype: int64"
      ]
     },
     "execution_count": 25,
     "metadata": {},
     "output_type": "execute_result"
    }
   ],
   "source": [
    "data.isna().sum()"
   ]
  },
  {
   "cell_type": "markdown",
   "id": "14f011b1",
   "metadata": {
    "deletable": false,
    "editable": false,
    "id": "14f011b1"
   },
   "source": [
    "**Задание 5. В двух столбцах есть пропущенные значения. Один из них — `days_employed`. Пропуски в этом столбце вы обработаете на следующем этапе. Другой столбец с пропущенными значениями — `total_income` — хранит данные о доходах. На сумму дохода сильнее всего влияет тип занятости, поэтому заполнить пропуски в этом столбце нужно медианным значением по каждому типу из столбца `income_type`. Например, у человека с типом занятости `сотрудник` пропуск в столбце `total_income` должен быть заполнен медианным доходом среди всех записей с тем же типом.**"
   ]
  },
  {
   "cell_type": "code",
   "execution_count": 26,
   "id": "bdabfb6e",
   "metadata": {
    "deletable": false,
    "id": "bdabfb6e"
   },
   "outputs": [],
   "source": [
    "for t in data['income_type'].unique():\n",
    "    data.loc[(data['income_type'] == t) & (data['total_income'].isna()), 'total_income'] = \\\n",
    "    data.loc[(data['income_type'] == t), 'total_income'].median()"
   ]
  },
  {
   "cell_type": "markdown",
   "id": "5be34059",
   "metadata": {
    "deletable": false,
    "editable": false,
    "id": "5be34059"
   },
   "source": [
    "### Обработка аномальных значений"
   ]
  },
  {
   "cell_type": "markdown",
   "id": "a87606cb",
   "metadata": {
    "deletable": false,
    "editable": false,
    "id": "a87606cb"
   },
   "source": [
    "**Задание 6. В данных могут встречаться артефакты (аномалии) — значения, которые не отражают действительность и появились по какой-то ошибке. таким артефактом будет отрицательное количество дней трудового стажа в столбце `days_employed`. Для реальных данных это нормально. Обработайте значения в этом столбце: замените все отрицательные значения положительными с помощью метода `abs()`.**"
   ]
  },
  {
   "cell_type": "code",
   "execution_count": 27,
   "id": "020c46cc",
   "metadata": {
    "deletable": false,
    "id": "020c46cc"
   },
   "outputs": [],
   "source": [
    "data['days_employed'] = data['days_employed'].abs()"
   ]
  },
  {
   "cell_type": "markdown",
   "id": "45538a3a",
   "metadata": {
    "deletable": false,
    "editable": false,
    "id": "45538a3a"
   },
   "source": [
    "**Задание 7. Для каждого типа занятости выведите медианное значение трудового стажа `days_employed` в днях.**"
   ]
  },
  {
   "cell_type": "code",
   "execution_count": 28,
   "id": "cd3e6328",
   "metadata": {
    "deletable": false,
    "id": "cd3e6328",
    "outputId": "801ef80e-522b-4668-f34e-565af7432bcf"
   },
   "outputs": [
    {
     "data": {
      "text/plain": [
       "income_type\n",
       "безработный        366413.652744\n",
       "в декрете            3296.759962\n",
       "госслужащий          2689.368353\n",
       "компаньон            1547.382223\n",
       "пенсионер          365213.306266\n",
       "предприниматель       520.848083\n",
       "сотрудник            1574.202821\n",
       "студент               578.751554\n",
       "Name: days_employed, dtype: float64"
      ]
     },
     "execution_count": 28,
     "metadata": {},
     "output_type": "execute_result"
    }
   ],
   "source": [
    "data.groupby('income_type')['days_employed'].agg('median')"
   ]
  },
  {
   "cell_type": "markdown",
   "id": "90c5f058",
   "metadata": {
    "deletable": false,
    "editable": false,
    "id": "90c5f058"
   },
   "source": [
    "У двух типов (безработные и пенсионеры) получатся аномально большие значения. Исправить такие значения сложно, поэтому оставьте их как есть."
   ]
  },
  {
   "cell_type": "markdown",
   "id": "9652e50d",
   "metadata": {
    "deletable": false,
    "editable": false,
    "id": "9652e50d"
   },
   "source": [
    "**Задание 8. Выведите перечень уникальных значений столбца `children`.**"
   ]
  },
  {
   "cell_type": "code",
   "execution_count": 29,
   "id": "dbb37b8e",
   "metadata": {
    "deletable": false,
    "id": "dbb37b8e",
    "outputId": "6975b15c-7f95-4697-d16d-a0c79b657b03"
   },
   "outputs": [
    {
     "data": {
      "text/plain": [
       "array([ 1,  0,  3,  2, -1,  4, 20,  5])"
      ]
     },
     "execution_count": 29,
     "metadata": {},
     "output_type": "execute_result"
    }
   ],
   "source": [
    "data['children'].unique()"
   ]
  },
  {
   "cell_type": "markdown",
   "id": "2b8b0715",
   "metadata": {
    "deletable": false,
    "editable": false,
    "id": "2b8b0715"
   },
   "source": [
    "**Задание 9. В столбце `children` есть два аномальных значения. Удалите строки, в которых встречаются такие аномальные значения из датафрейма `data`.**"
   ]
  },
  {
   "cell_type": "code",
   "execution_count": 30,
   "id": "20009df8",
   "metadata": {
    "deletable": false,
    "id": "20009df8"
   },
   "outputs": [],
   "source": [
    "data = data[(data['children'] != -1) & (data['children'] != 20)]"
   ]
  },
  {
   "cell_type": "markdown",
   "id": "8c6ac9f1",
   "metadata": {
    "deletable": false,
    "editable": false,
    "id": "8c6ac9f1"
   },
   "source": [
    "**Задание 10. Ещё раз выведите перечень уникальных значений столбца `children`, чтобы убедиться, что артефакты удалены.**"
   ]
  },
  {
   "cell_type": "code",
   "execution_count": 31,
   "id": "07337b81",
   "metadata": {
    "deletable": false,
    "id": "07337b81",
    "outputId": "b2097101-d49d-44d9-901b-32a65c9463d1"
   },
   "outputs": [
    {
     "data": {
      "text/plain": [
       "array([1, 0, 3, 2, 4, 5])"
      ]
     },
     "execution_count": 31,
     "metadata": {},
     "output_type": "execute_result"
    }
   ],
   "source": [
    "data['children'].unique()"
   ]
  },
  {
   "cell_type": "markdown",
   "id": "ee3f52d4",
   "metadata": {
    "deletable": false,
    "editable": false,
    "id": "ee3f52d4"
   },
   "source": [
    "### Удаление пропусков (продолжение)"
   ]
  },
  {
   "cell_type": "markdown",
   "id": "a700b0e4",
   "metadata": {
    "deletable": false,
    "editable": false,
    "id": "a700b0e4"
   },
   "source": [
    "**Задание 11. Заполните пропуски в столбце `days_employed` медианными значениями по каждого типа занятости `income_type`.**"
   ]
  },
  {
   "cell_type": "code",
   "execution_count": 32,
   "id": "61946b83",
   "metadata": {
    "deletable": false,
    "id": "61946b83"
   },
   "outputs": [],
   "source": [
    "for t in data['income_type'].unique():\n",
    "    data.loc[(data['income_type'] == t) & (data['days_employed'].isna()), 'days_employed'] = \\\n",
    "    data.loc[(data['income_type'] == t), 'days_employed'].median()"
   ]
  },
  {
   "cell_type": "markdown",
   "id": "550dcd9b",
   "metadata": {
    "deletable": false,
    "editable": false,
    "id": "550dcd9b"
   },
   "source": [
    "**Задание 12. Убедитесь, что все пропуски заполнены. Проверьте себя и ещё раз выведите количество пропущенных значений для каждого столбца с помощью двух методов.**"
   ]
  },
  {
   "cell_type": "code",
   "execution_count": 33,
   "id": "937c7014",
   "metadata": {
    "deletable": false,
    "id": "937c7014",
    "outputId": "8da1e4e1-358e-4e87-98c9-f261bce0a7b2"
   },
   "outputs": [
    {
     "data": {
      "text/plain": [
       "children            0\n",
       "days_employed       0\n",
       "dob_years           0\n",
       "education           0\n",
       "education_id        0\n",
       "family_status       0\n",
       "family_status_id    0\n",
       "gender              0\n",
       "income_type         0\n",
       "debt                0\n",
       "total_income        0\n",
       "purpose             0\n",
       "dtype: int64"
      ]
     },
     "execution_count": 33,
     "metadata": {},
     "output_type": "execute_result"
    }
   ],
   "source": [
    "data.isna().sum()"
   ]
  },
  {
   "cell_type": "markdown",
   "id": "d522e295",
   "metadata": {
    "deletable": false,
    "editable": false,
    "id": "d522e295"
   },
   "source": [
    "### Изменение типов данных"
   ]
  },
  {
   "cell_type": "markdown",
   "id": "c229c581",
   "metadata": {
    "deletable": false,
    "editable": false,
    "id": "c229c581"
   },
   "source": [
    "**Задание 13. Замените вещественный тип данных в столбце `total_income` на целочисленный с помощью метода `astype()`.**"
   ]
  },
  {
   "cell_type": "code",
   "execution_count": 34,
   "id": "31036462",
   "metadata": {
    "deletable": false,
    "id": "31036462"
   },
   "outputs": [],
   "source": [
    "data['total_income'] = data['total_income'].astype(int)"
   ]
  },
  {
   "cell_type": "markdown",
   "id": "b8e3d1d9",
   "metadata": {
    "deletable": false,
    "editable": false,
    "id": "b8e3d1d9"
   },
   "source": [
    "### Обработка дубликатов"
   ]
  },
  {
   "cell_type": "markdown",
   "id": "9be53c49",
   "metadata": {
    "deletable": false,
    "editable": false,
    "id": "9be53c49"
   },
   "source": [
    "**Задание 14. Обработайте неявные дубликаты в столбце `education`. В этом столбце есть одни и те же значения, но записанные по-разному: с использованием заглавных и строчных букв. Приведите их к нижнему регистру.**"
   ]
  },
  {
   "cell_type": "code",
   "execution_count": 35,
   "id": "d89e73e1",
   "metadata": {
    "deletable": false,
    "id": "d89e73e1"
   },
   "outputs": [],
   "source": [
    "data['education'] = data['education'].str.lower()"
   ]
  },
  {
   "cell_type": "markdown",
   "id": "01d4500e",
   "metadata": {
    "deletable": false,
    "editable": false,
    "id": "01d4500e"
   },
   "source": [
    "**Задание 15. Выведите на экран количество строк-дубликатов в данных. Если такие строки присутствуют, удалите их.**"
   ]
  },
  {
   "cell_type": "code",
   "execution_count": 36,
   "id": "e10efb23",
   "metadata": {
    "deletable": false,
    "id": "e10efb23",
    "outputId": "9684deba-1934-42d1-99e1-cda61740f822"
   },
   "outputs": [
    {
     "data": {
      "text/plain": [
       "71"
      ]
     },
     "execution_count": 36,
     "metadata": {},
     "output_type": "execute_result"
    }
   ],
   "source": [
    "data.duplicated().sum()"
   ]
  },
  {
   "cell_type": "code",
   "execution_count": 37,
   "id": "df853f20",
   "metadata": {
    "deletable": false,
    "id": "df853f20"
   },
   "outputs": [],
   "source": [
    "data = data.drop_duplicates()"
   ]
  },
  {
   "cell_type": "markdown",
   "id": "627be38f",
   "metadata": {
    "deletable": false,
    "editable": false,
    "id": "627be38f"
   },
   "source": [
    "### Категоризация данных"
   ]
  },
  {
   "cell_type": "markdown",
   "id": "4684c3e0",
   "metadata": {
    "deletable": false,
    "editable": false,
    "id": "4684c3e0"
   },
   "source": [
    "**Задание 16. На основании диапазонов, указанных ниже, создайте в датафрейме `data` столбец `total_income_category` с категориями:**\n",
    "\n",
    "- 0–30000 — `'E'`;\n",
    "- 30001–50000 — `'D'`;\n",
    "- 50001–200000 — `'C'`;\n",
    "- 200001–1000000 — `'B'`;\n",
    "- 1000001 и выше — `'A'`.\n",
    "\n",
    "\n",
    "**Например, кредитополучателю с доходом 25000 нужно назначить категорию `'E'`, а клиенту, получающему 235000, — `'B'`. Используйте собственную функцию с именем `categorize_income()` и метод `apply()`.**"
   ]
  },
  {
   "cell_type": "code",
   "execution_count": 38,
   "id": "78965238",
   "metadata": {
    "deletable": false,
    "id": "78965238"
   },
   "outputs": [],
   "source": [
    "def categorize_income(income):\n",
    "    try:\n",
    "        if 0 <= income <= 30000:\n",
    "            return 'E'\n",
    "        elif 30001 <= income <= 50000:\n",
    "            return 'D'\n",
    "        elif 50001 <= income <= 200000:\n",
    "            return 'C'\n",
    "        elif 200001 <= income <= 1000000:\n",
    "            return 'B'\n",
    "        elif income >= 1000001:\n",
    "            return 'A'\n",
    "    except:\n",
    "        pass"
   ]
  },
  {
   "cell_type": "code",
   "execution_count": 39,
   "id": "0980ada1",
   "metadata": {
    "deletable": false,
    "id": "0980ada1"
   },
   "outputs": [
    {
     "data": {
      "text/html": [
       "<div>\n",
       "<style scoped>\n",
       "    .dataframe tbody tr th:only-of-type {\n",
       "        vertical-align: middle;\n",
       "    }\n",
       "\n",
       "    .dataframe tbody tr th {\n",
       "        vertical-align: top;\n",
       "    }\n",
       "\n",
       "    .dataframe thead th {\n",
       "        text-align: right;\n",
       "    }\n",
       "</style>\n",
       "<table border=\"1\" class=\"dataframe\">\n",
       "  <thead>\n",
       "    <tr style=\"text-align: right;\">\n",
       "      <th></th>\n",
       "      <th>children</th>\n",
       "      <th>days_employed</th>\n",
       "      <th>dob_years</th>\n",
       "      <th>education</th>\n",
       "      <th>education_id</th>\n",
       "      <th>family_status</th>\n",
       "      <th>family_status_id</th>\n",
       "      <th>gender</th>\n",
       "      <th>income_type</th>\n",
       "      <th>debt</th>\n",
       "      <th>total_income</th>\n",
       "      <th>purpose</th>\n",
       "      <th>total_income_category</th>\n",
       "    </tr>\n",
       "  </thead>\n",
       "  <tbody>\n",
       "    <tr>\n",
       "      <th>0</th>\n",
       "      <td>1</td>\n",
       "      <td>8437.673028</td>\n",
       "      <td>42</td>\n",
       "      <td>высшее</td>\n",
       "      <td>0</td>\n",
       "      <td>женат / замужем</td>\n",
       "      <td>0</td>\n",
       "      <td>F</td>\n",
       "      <td>сотрудник</td>\n",
       "      <td>0</td>\n",
       "      <td>253875</td>\n",
       "      <td>покупка жилья</td>\n",
       "      <td>B</td>\n",
       "    </tr>\n",
       "    <tr>\n",
       "      <th>1</th>\n",
       "      <td>1</td>\n",
       "      <td>4024.803754</td>\n",
       "      <td>36</td>\n",
       "      <td>среднее</td>\n",
       "      <td>1</td>\n",
       "      <td>женат / замужем</td>\n",
       "      <td>0</td>\n",
       "      <td>F</td>\n",
       "      <td>сотрудник</td>\n",
       "      <td>0</td>\n",
       "      <td>112080</td>\n",
       "      <td>приобретение автомобиля</td>\n",
       "      <td>C</td>\n",
       "    </tr>\n",
       "    <tr>\n",
       "      <th>2</th>\n",
       "      <td>0</td>\n",
       "      <td>5623.422610</td>\n",
       "      <td>33</td>\n",
       "      <td>среднее</td>\n",
       "      <td>1</td>\n",
       "      <td>женат / замужем</td>\n",
       "      <td>0</td>\n",
       "      <td>M</td>\n",
       "      <td>сотрудник</td>\n",
       "      <td>0</td>\n",
       "      <td>145885</td>\n",
       "      <td>покупка жилья</td>\n",
       "      <td>C</td>\n",
       "    </tr>\n",
       "    <tr>\n",
       "      <th>3</th>\n",
       "      <td>3</td>\n",
       "      <td>4124.747207</td>\n",
       "      <td>32</td>\n",
       "      <td>среднее</td>\n",
       "      <td>1</td>\n",
       "      <td>женат / замужем</td>\n",
       "      <td>0</td>\n",
       "      <td>M</td>\n",
       "      <td>сотрудник</td>\n",
       "      <td>0</td>\n",
       "      <td>267628</td>\n",
       "      <td>дополнительное образование</td>\n",
       "      <td>B</td>\n",
       "    </tr>\n",
       "    <tr>\n",
       "      <th>4</th>\n",
       "      <td>0</td>\n",
       "      <td>340266.072047</td>\n",
       "      <td>53</td>\n",
       "      <td>среднее</td>\n",
       "      <td>1</td>\n",
       "      <td>гражданский брак</td>\n",
       "      <td>1</td>\n",
       "      <td>F</td>\n",
       "      <td>пенсионер</td>\n",
       "      <td>0</td>\n",
       "      <td>158616</td>\n",
       "      <td>сыграть свадьбу</td>\n",
       "      <td>C</td>\n",
       "    </tr>\n",
       "    <tr>\n",
       "      <th>...</th>\n",
       "      <td>...</td>\n",
       "      <td>...</td>\n",
       "      <td>...</td>\n",
       "      <td>...</td>\n",
       "      <td>...</td>\n",
       "      <td>...</td>\n",
       "      <td>...</td>\n",
       "      <td>...</td>\n",
       "      <td>...</td>\n",
       "      <td>...</td>\n",
       "      <td>...</td>\n",
       "      <td>...</td>\n",
       "      <td>...</td>\n",
       "    </tr>\n",
       "    <tr>\n",
       "      <th>21520</th>\n",
       "      <td>1</td>\n",
       "      <td>4529.316663</td>\n",
       "      <td>43</td>\n",
       "      <td>среднее</td>\n",
       "      <td>1</td>\n",
       "      <td>гражданский брак</td>\n",
       "      <td>1</td>\n",
       "      <td>F</td>\n",
       "      <td>компаньон</td>\n",
       "      <td>0</td>\n",
       "      <td>224791</td>\n",
       "      <td>операции с жильем</td>\n",
       "      <td>B</td>\n",
       "    </tr>\n",
       "    <tr>\n",
       "      <th>21521</th>\n",
       "      <td>0</td>\n",
       "      <td>343937.404131</td>\n",
       "      <td>67</td>\n",
       "      <td>среднее</td>\n",
       "      <td>1</td>\n",
       "      <td>женат / замужем</td>\n",
       "      <td>0</td>\n",
       "      <td>F</td>\n",
       "      <td>пенсионер</td>\n",
       "      <td>0</td>\n",
       "      <td>155999</td>\n",
       "      <td>сделка с автомобилем</td>\n",
       "      <td>C</td>\n",
       "    </tr>\n",
       "    <tr>\n",
       "      <th>21522</th>\n",
       "      <td>1</td>\n",
       "      <td>2113.346888</td>\n",
       "      <td>38</td>\n",
       "      <td>среднее</td>\n",
       "      <td>1</td>\n",
       "      <td>гражданский брак</td>\n",
       "      <td>1</td>\n",
       "      <td>M</td>\n",
       "      <td>сотрудник</td>\n",
       "      <td>1</td>\n",
       "      <td>89672</td>\n",
       "      <td>недвижимость</td>\n",
       "      <td>C</td>\n",
       "    </tr>\n",
       "    <tr>\n",
       "      <th>21523</th>\n",
       "      <td>3</td>\n",
       "      <td>3112.481705</td>\n",
       "      <td>38</td>\n",
       "      <td>среднее</td>\n",
       "      <td>1</td>\n",
       "      <td>женат / замужем</td>\n",
       "      <td>0</td>\n",
       "      <td>M</td>\n",
       "      <td>сотрудник</td>\n",
       "      <td>1</td>\n",
       "      <td>244093</td>\n",
       "      <td>на покупку своего автомобиля</td>\n",
       "      <td>B</td>\n",
       "    </tr>\n",
       "    <tr>\n",
       "      <th>21524</th>\n",
       "      <td>2</td>\n",
       "      <td>1984.507589</td>\n",
       "      <td>40</td>\n",
       "      <td>среднее</td>\n",
       "      <td>1</td>\n",
       "      <td>женат / замужем</td>\n",
       "      <td>0</td>\n",
       "      <td>F</td>\n",
       "      <td>сотрудник</td>\n",
       "      <td>0</td>\n",
       "      <td>82047</td>\n",
       "      <td>на покупку автомобиля</td>\n",
       "      <td>C</td>\n",
       "    </tr>\n",
       "  </tbody>\n",
       "</table>\n",
       "<p>21331 rows × 13 columns</p>\n",
       "</div>"
      ],
      "text/plain": [
       "       children  days_employed  dob_years education  education_id  \\\n",
       "0             1    8437.673028         42    высшее             0   \n",
       "1             1    4024.803754         36   среднее             1   \n",
       "2             0    5623.422610         33   среднее             1   \n",
       "3             3    4124.747207         32   среднее             1   \n",
       "4             0  340266.072047         53   среднее             1   \n",
       "...         ...            ...        ...       ...           ...   \n",
       "21520         1    4529.316663         43   среднее             1   \n",
       "21521         0  343937.404131         67   среднее             1   \n",
       "21522         1    2113.346888         38   среднее             1   \n",
       "21523         3    3112.481705         38   среднее             1   \n",
       "21524         2    1984.507589         40   среднее             1   \n",
       "\n",
       "          family_status  family_status_id gender income_type  debt  \\\n",
       "0       женат / замужем                 0      F   сотрудник     0   \n",
       "1       женат / замужем                 0      F   сотрудник     0   \n",
       "2       женат / замужем                 0      M   сотрудник     0   \n",
       "3       женат / замужем                 0      M   сотрудник     0   \n",
       "4      гражданский брак                 1      F   пенсионер     0   \n",
       "...                 ...               ...    ...         ...   ...   \n",
       "21520  гражданский брак                 1      F   компаньон     0   \n",
       "21521   женат / замужем                 0      F   пенсионер     0   \n",
       "21522  гражданский брак                 1      M   сотрудник     1   \n",
       "21523   женат / замужем                 0      M   сотрудник     1   \n",
       "21524   женат / замужем                 0      F   сотрудник     0   \n",
       "\n",
       "       total_income                       purpose total_income_category  \n",
       "0            253875                 покупка жилья                     B  \n",
       "1            112080       приобретение автомобиля                     C  \n",
       "2            145885                 покупка жилья                     C  \n",
       "3            267628    дополнительное образование                     B  \n",
       "4            158616               сыграть свадьбу                     C  \n",
       "...             ...                           ...                   ...  \n",
       "21520        224791             операции с жильем                     B  \n",
       "21521        155999          сделка с автомобилем                     C  \n",
       "21522         89672                  недвижимость                     C  \n",
       "21523        244093  на покупку своего автомобиля                     B  \n",
       "21524         82047         на покупку автомобиля                     C  \n",
       "\n",
       "[21331 rows x 13 columns]"
      ]
     },
     "execution_count": 39,
     "metadata": {},
     "output_type": "execute_result"
    }
   ],
   "source": [
    "data['total_income_category'] = data['total_income'].apply(categorize_income)\n",
    "data"
   ]
  },
  {
   "cell_type": "markdown",
   "id": "9917bba0",
   "metadata": {
    "deletable": false,
    "editable": false,
    "id": "9917bba0"
   },
   "source": [
    "**Задание 17. Выведите на экран перечень уникальных целей взятия кредита из столбца `purpose`.**"
   ]
  },
  {
   "cell_type": "code",
   "execution_count": 40,
   "id": "ee07b65e",
   "metadata": {
    "deletable": false,
    "id": "ee07b65e",
    "outputId": "673c12d9-7d7e-4ae0-9812-c622c89dd244"
   },
   "outputs": [
    {
     "data": {
      "text/plain": [
       "array(['покупка жилья', 'приобретение автомобиля',\n",
       "       'дополнительное образование', 'сыграть свадьбу',\n",
       "       'операции с жильем', 'образование', 'на проведение свадьбы',\n",
       "       'покупка жилья для семьи', 'покупка недвижимости',\n",
       "       'покупка коммерческой недвижимости', 'покупка жилой недвижимости',\n",
       "       'строительство собственной недвижимости', 'недвижимость',\n",
       "       'строительство недвижимости', 'на покупку подержанного автомобиля',\n",
       "       'на покупку своего автомобиля',\n",
       "       'операции с коммерческой недвижимостью',\n",
       "       'строительство жилой недвижимости', 'жилье',\n",
       "       'операции со своей недвижимостью', 'автомобили',\n",
       "       'заняться образованием', 'сделка с подержанным автомобилем',\n",
       "       'получение образования', 'автомобиль', 'свадьба',\n",
       "       'получение дополнительного образования', 'покупка своего жилья',\n",
       "       'операции с недвижимостью', 'получение высшего образования',\n",
       "       'свой автомобиль', 'сделка с автомобилем',\n",
       "       'профильное образование', 'высшее образование',\n",
       "       'покупка жилья для сдачи', 'на покупку автомобиля', 'ремонт жилью',\n",
       "       'заняться высшим образованием'], dtype=object)"
      ]
     },
     "execution_count": 40,
     "metadata": {},
     "output_type": "execute_result"
    }
   ],
   "source": [
    "data['purpose'].unique()"
   ]
  },
  {
   "cell_type": "markdown",
   "id": "52b79d56",
   "metadata": {
    "deletable": false,
    "editable": false,
    "id": "52b79d56"
   },
   "source": [
    "**Задание 18. Создайте функцию, которая на основании данных из столбца `purpose` сформирует новый столбец `purpose_category`, в который войдут следующие категории:**\n",
    "\n",
    "- `'операции с автомобилем'`,\n",
    "- `'операции с недвижимостью'`,\n",
    "- `'проведение свадьбы'`,\n",
    "- `'получение образования'`.\n",
    "\n",
    "**Например, если в столбце `purpose` находится подстрока `'на покупку автомобиля'`, то в столбце `purpose_category` должна появиться строка `'операции с автомобилем'`.**\n",
    "\n",
    "**Используйте собственную функцию с именем `categorize_purpose()` и метод `apply()`. Изучите данные в столбце `purpose` и определите, какие подстроки помогут вам правильно определить категорию.**"
   ]
  },
  {
   "cell_type": "code",
   "execution_count": 41,
   "id": "be41da5d",
   "metadata": {
    "deletable": false,
    "id": "be41da5d"
   },
   "outputs": [],
   "source": [
    "def categorize_purpose(row):\n",
    "    try:\n",
    "        if 'автом' in row:\n",
    "            return 'операции с автомобилем'\n",
    "        elif 'жил' in row or 'недвиж' in row:\n",
    "            return 'операции с недвижимостью'\n",
    "        elif 'свад' in row:\n",
    "            return 'проведение свадьбы'\n",
    "        elif 'образов' in row:\n",
    "            return 'получение образования'\n",
    "    except:\n",
    "        return 'нет категории'"
   ]
  },
  {
   "cell_type": "code",
   "execution_count": 42,
   "id": "94c4a19a",
   "metadata": {
    "deletable": false,
    "id": "94c4a19a",
    "scrolled": true
   },
   "outputs": [
    {
     "data": {
      "text/html": [
       "<div>\n",
       "<style scoped>\n",
       "    .dataframe tbody tr th:only-of-type {\n",
       "        vertical-align: middle;\n",
       "    }\n",
       "\n",
       "    .dataframe tbody tr th {\n",
       "        vertical-align: top;\n",
       "    }\n",
       "\n",
       "    .dataframe thead th {\n",
       "        text-align: right;\n",
       "    }\n",
       "</style>\n",
       "<table border=\"1\" class=\"dataframe\">\n",
       "  <thead>\n",
       "    <tr style=\"text-align: right;\">\n",
       "      <th></th>\n",
       "      <th>children</th>\n",
       "      <th>days_employed</th>\n",
       "      <th>dob_years</th>\n",
       "      <th>education</th>\n",
       "      <th>education_id</th>\n",
       "      <th>family_status</th>\n",
       "      <th>family_status_id</th>\n",
       "      <th>gender</th>\n",
       "      <th>income_type</th>\n",
       "      <th>debt</th>\n",
       "      <th>total_income</th>\n",
       "      <th>purpose</th>\n",
       "      <th>total_income_category</th>\n",
       "      <th>purpose_category</th>\n",
       "    </tr>\n",
       "  </thead>\n",
       "  <tbody>\n",
       "    <tr>\n",
       "      <th>0</th>\n",
       "      <td>1</td>\n",
       "      <td>8437.673028</td>\n",
       "      <td>42</td>\n",
       "      <td>высшее</td>\n",
       "      <td>0</td>\n",
       "      <td>женат / замужем</td>\n",
       "      <td>0</td>\n",
       "      <td>F</td>\n",
       "      <td>сотрудник</td>\n",
       "      <td>0</td>\n",
       "      <td>253875</td>\n",
       "      <td>покупка жилья</td>\n",
       "      <td>B</td>\n",
       "      <td>операции с недвижимостью</td>\n",
       "    </tr>\n",
       "    <tr>\n",
       "      <th>1</th>\n",
       "      <td>1</td>\n",
       "      <td>4024.803754</td>\n",
       "      <td>36</td>\n",
       "      <td>среднее</td>\n",
       "      <td>1</td>\n",
       "      <td>женат / замужем</td>\n",
       "      <td>0</td>\n",
       "      <td>F</td>\n",
       "      <td>сотрудник</td>\n",
       "      <td>0</td>\n",
       "      <td>112080</td>\n",
       "      <td>приобретение автомобиля</td>\n",
       "      <td>C</td>\n",
       "      <td>операции с автомобилем</td>\n",
       "    </tr>\n",
       "    <tr>\n",
       "      <th>2</th>\n",
       "      <td>0</td>\n",
       "      <td>5623.422610</td>\n",
       "      <td>33</td>\n",
       "      <td>среднее</td>\n",
       "      <td>1</td>\n",
       "      <td>женат / замужем</td>\n",
       "      <td>0</td>\n",
       "      <td>M</td>\n",
       "      <td>сотрудник</td>\n",
       "      <td>0</td>\n",
       "      <td>145885</td>\n",
       "      <td>покупка жилья</td>\n",
       "      <td>C</td>\n",
       "      <td>операции с недвижимостью</td>\n",
       "    </tr>\n",
       "    <tr>\n",
       "      <th>3</th>\n",
       "      <td>3</td>\n",
       "      <td>4124.747207</td>\n",
       "      <td>32</td>\n",
       "      <td>среднее</td>\n",
       "      <td>1</td>\n",
       "      <td>женат / замужем</td>\n",
       "      <td>0</td>\n",
       "      <td>M</td>\n",
       "      <td>сотрудник</td>\n",
       "      <td>0</td>\n",
       "      <td>267628</td>\n",
       "      <td>дополнительное образование</td>\n",
       "      <td>B</td>\n",
       "      <td>получение образования</td>\n",
       "    </tr>\n",
       "    <tr>\n",
       "      <th>4</th>\n",
       "      <td>0</td>\n",
       "      <td>340266.072047</td>\n",
       "      <td>53</td>\n",
       "      <td>среднее</td>\n",
       "      <td>1</td>\n",
       "      <td>гражданский брак</td>\n",
       "      <td>1</td>\n",
       "      <td>F</td>\n",
       "      <td>пенсионер</td>\n",
       "      <td>0</td>\n",
       "      <td>158616</td>\n",
       "      <td>сыграть свадьбу</td>\n",
       "      <td>C</td>\n",
       "      <td>проведение свадьбы</td>\n",
       "    </tr>\n",
       "    <tr>\n",
       "      <th>...</th>\n",
       "      <td>...</td>\n",
       "      <td>...</td>\n",
       "      <td>...</td>\n",
       "      <td>...</td>\n",
       "      <td>...</td>\n",
       "      <td>...</td>\n",
       "      <td>...</td>\n",
       "      <td>...</td>\n",
       "      <td>...</td>\n",
       "      <td>...</td>\n",
       "      <td>...</td>\n",
       "      <td>...</td>\n",
       "      <td>...</td>\n",
       "      <td>...</td>\n",
       "    </tr>\n",
       "    <tr>\n",
       "      <th>21520</th>\n",
       "      <td>1</td>\n",
       "      <td>4529.316663</td>\n",
       "      <td>43</td>\n",
       "      <td>среднее</td>\n",
       "      <td>1</td>\n",
       "      <td>гражданский брак</td>\n",
       "      <td>1</td>\n",
       "      <td>F</td>\n",
       "      <td>компаньон</td>\n",
       "      <td>0</td>\n",
       "      <td>224791</td>\n",
       "      <td>операции с жильем</td>\n",
       "      <td>B</td>\n",
       "      <td>операции с недвижимостью</td>\n",
       "    </tr>\n",
       "    <tr>\n",
       "      <th>21521</th>\n",
       "      <td>0</td>\n",
       "      <td>343937.404131</td>\n",
       "      <td>67</td>\n",
       "      <td>среднее</td>\n",
       "      <td>1</td>\n",
       "      <td>женат / замужем</td>\n",
       "      <td>0</td>\n",
       "      <td>F</td>\n",
       "      <td>пенсионер</td>\n",
       "      <td>0</td>\n",
       "      <td>155999</td>\n",
       "      <td>сделка с автомобилем</td>\n",
       "      <td>C</td>\n",
       "      <td>операции с автомобилем</td>\n",
       "    </tr>\n",
       "    <tr>\n",
       "      <th>21522</th>\n",
       "      <td>1</td>\n",
       "      <td>2113.346888</td>\n",
       "      <td>38</td>\n",
       "      <td>среднее</td>\n",
       "      <td>1</td>\n",
       "      <td>гражданский брак</td>\n",
       "      <td>1</td>\n",
       "      <td>M</td>\n",
       "      <td>сотрудник</td>\n",
       "      <td>1</td>\n",
       "      <td>89672</td>\n",
       "      <td>недвижимость</td>\n",
       "      <td>C</td>\n",
       "      <td>операции с недвижимостью</td>\n",
       "    </tr>\n",
       "    <tr>\n",
       "      <th>21523</th>\n",
       "      <td>3</td>\n",
       "      <td>3112.481705</td>\n",
       "      <td>38</td>\n",
       "      <td>среднее</td>\n",
       "      <td>1</td>\n",
       "      <td>женат / замужем</td>\n",
       "      <td>0</td>\n",
       "      <td>M</td>\n",
       "      <td>сотрудник</td>\n",
       "      <td>1</td>\n",
       "      <td>244093</td>\n",
       "      <td>на покупку своего автомобиля</td>\n",
       "      <td>B</td>\n",
       "      <td>операции с автомобилем</td>\n",
       "    </tr>\n",
       "    <tr>\n",
       "      <th>21524</th>\n",
       "      <td>2</td>\n",
       "      <td>1984.507589</td>\n",
       "      <td>40</td>\n",
       "      <td>среднее</td>\n",
       "      <td>1</td>\n",
       "      <td>женат / замужем</td>\n",
       "      <td>0</td>\n",
       "      <td>F</td>\n",
       "      <td>сотрудник</td>\n",
       "      <td>0</td>\n",
       "      <td>82047</td>\n",
       "      <td>на покупку автомобиля</td>\n",
       "      <td>C</td>\n",
       "      <td>операции с автомобилем</td>\n",
       "    </tr>\n",
       "  </tbody>\n",
       "</table>\n",
       "<p>21331 rows × 14 columns</p>\n",
       "</div>"
      ],
      "text/plain": [
       "       children  days_employed  dob_years education  education_id  \\\n",
       "0             1    8437.673028         42    высшее             0   \n",
       "1             1    4024.803754         36   среднее             1   \n",
       "2             0    5623.422610         33   среднее             1   \n",
       "3             3    4124.747207         32   среднее             1   \n",
       "4             0  340266.072047         53   среднее             1   \n",
       "...         ...            ...        ...       ...           ...   \n",
       "21520         1    4529.316663         43   среднее             1   \n",
       "21521         0  343937.404131         67   среднее             1   \n",
       "21522         1    2113.346888         38   среднее             1   \n",
       "21523         3    3112.481705         38   среднее             1   \n",
       "21524         2    1984.507589         40   среднее             1   \n",
       "\n",
       "          family_status  family_status_id gender income_type  debt  \\\n",
       "0       женат / замужем                 0      F   сотрудник     0   \n",
       "1       женат / замужем                 0      F   сотрудник     0   \n",
       "2       женат / замужем                 0      M   сотрудник     0   \n",
       "3       женат / замужем                 0      M   сотрудник     0   \n",
       "4      гражданский брак                 1      F   пенсионер     0   \n",
       "...                 ...               ...    ...         ...   ...   \n",
       "21520  гражданский брак                 1      F   компаньон     0   \n",
       "21521   женат / замужем                 0      F   пенсионер     0   \n",
       "21522  гражданский брак                 1      M   сотрудник     1   \n",
       "21523   женат / замужем                 0      M   сотрудник     1   \n",
       "21524   женат / замужем                 0      F   сотрудник     0   \n",
       "\n",
       "       total_income                       purpose total_income_category  \\\n",
       "0            253875                 покупка жилья                     B   \n",
       "1            112080       приобретение автомобиля                     C   \n",
       "2            145885                 покупка жилья                     C   \n",
       "3            267628    дополнительное образование                     B   \n",
       "4            158616               сыграть свадьбу                     C   \n",
       "...             ...                           ...                   ...   \n",
       "21520        224791             операции с жильем                     B   \n",
       "21521        155999          сделка с автомобилем                     C   \n",
       "21522         89672                  недвижимость                     C   \n",
       "21523        244093  на покупку своего автомобиля                     B   \n",
       "21524         82047         на покупку автомобиля                     C   \n",
       "\n",
       "               purpose_category  \n",
       "0      операции с недвижимостью  \n",
       "1        операции с автомобилем  \n",
       "2      операции с недвижимостью  \n",
       "3         получение образования  \n",
       "4            проведение свадьбы  \n",
       "...                         ...  \n",
       "21520  операции с недвижимостью  \n",
       "21521    операции с автомобилем  \n",
       "21522  операции с недвижимостью  \n",
       "21523    операции с автомобилем  \n",
       "21524    операции с автомобилем  \n",
       "\n",
       "[21331 rows x 14 columns]"
      ]
     },
     "execution_count": 42,
     "metadata": {},
     "output_type": "execute_result"
    }
   ],
   "source": [
    "data['purpose_category'] = data['purpose'].apply(categorize_purpose)\n",
    "data\n"
   ]
  },
  {
   "cell_type": "markdown",
   "id": "3d596c34",
   "metadata": {
    "deletable": false,
    "editable": false,
    "id": "3d596c34"
   },
   "source": [
    "### Шаг 3. Исследуйте данные и ответьте на вопросы"
   ]
  },
  {
   "cell_type": "markdown",
   "id": "648db036",
   "metadata": {
    "deletable": false,
    "editable": false,
    "id": "648db036"
   },
   "source": [
    "#### 3.1 Есть ли зависимость между количеством детей и возвратом кредита в срок?"
   ]
  },
  {
   "cell_type": "markdown",
   "id": "ee1bf778",
   "metadata": {},
   "source": [
    "<div class='alert alert-info'> Для выявления зависимости между количеством детей и возвратом кредита в срок создаем функцию, которая возвращает категорию по наличию и количесвту детей. Затем можно сгруппировать категории заемщиков с долгом, получить с помощью агрегационных функций общее количество заемщиков, среднее значение по долгу и общее количество просроченных платежей.</div>"
   ]
  },
  {
   "cell_type": "code",
   "execution_count": 43,
   "id": "7fcff25e",
   "metadata": {
    "deletable": false,
    "id": "7fcff25e",
    "scrolled": true
   },
   "outputs": [
    {
     "data": {
      "text/html": [
       "<div>\n",
       "<style scoped>\n",
       "    .dataframe tbody tr th:only-of-type {\n",
       "        vertical-align: middle;\n",
       "    }\n",
       "\n",
       "    .dataframe tbody tr th {\n",
       "        vertical-align: top;\n",
       "    }\n",
       "\n",
       "    .dataframe thead th {\n",
       "        text-align: right;\n",
       "    }\n",
       "</style>\n",
       "<table border=\"1\" class=\"dataframe\">\n",
       "  <thead>\n",
       "    <tr style=\"text-align: right;\">\n",
       "      <th></th>\n",
       "      <th>count</th>\n",
       "      <th>mean</th>\n",
       "      <th>sum</th>\n",
       "    </tr>\n",
       "    <tr>\n",
       "      <th>children_category</th>\n",
       "      <th></th>\n",
       "      <th></th>\n",
       "      <th></th>\n",
       "    </tr>\n",
       "  </thead>\n",
       "  <tbody>\n",
       "    <tr>\n",
       "      <th>нет детей</th>\n",
       "      <td>14091</td>\n",
       "      <td>7.54</td>\n",
       "      <td>1063</td>\n",
       "    </tr>\n",
       "    <tr>\n",
       "      <th>малодетные</th>\n",
       "      <td>6860</td>\n",
       "      <td>9.30</td>\n",
       "      <td>638</td>\n",
       "    </tr>\n",
       "    <tr>\n",
       "      <th>многодетные</th>\n",
       "      <td>380</td>\n",
       "      <td>8.16</td>\n",
       "      <td>31</td>\n",
       "    </tr>\n",
       "  </tbody>\n",
       "</table>\n",
       "</div>"
      ],
      "text/plain": [
       "                   count  mean   sum\n",
       "children_category                   \n",
       "нет детей          14091  7.54  1063\n",
       "малодетные          6860  9.30   638\n",
       "многодетные          380  8.16    31"
      ]
     },
     "execution_count": 43,
     "metadata": {},
     "output_type": "execute_result"
    }
   ],
   "source": [
    "#создаем функцию, которая категоризирует данные по количеству детей\n",
    "def children_category (row):\n",
    "    children = row['children'] \n",
    "    if children == 0:\n",
    "        return \"нет детей\"\n",
    "    elif children <= 2:\n",
    "        return \"малодетные\"\n",
    "    elif children >= 3:\n",
    "        return \"многодетные\"\n",
    "\n",
    "#формируем новый столбец со значением-резульатом работы функции children_category\n",
    "data['children_category'] = data.apply(children_category, axis=1)   \n",
    "    \n",
    "#группируем столбец 'children_category' по столбцу 'debt' и применяем агрегирующие функции к нему (общее количество детей,\n",
    "#среднее значение просроченных платежей и общее количество просроченных платежей\n",
    "debtors_with_children = data.groupby('children_category')['debt'].agg(['count', 'mean', 'sum'])\n",
    "\n",
    "#сортируем по общему количеству детей по убыванию\n",
    "debtors_with_children = debtors_with_children.sort_values(['count'], ascending=False)\n",
    "\n",
    "#преобразовываем среднее значение в проценты и округляем до двух знаков после точки\n",
    "debtors_with_children['mean'] = (debtors_with_children['mean'] * 100).round(2)\n",
    "\n",
    "debtors_with_children\n",
    "\n",
    "                                                            "
   ]
  },
  {
   "cell_type": "markdown",
   "id": "2eb9088e",
   "metadata": {
    "deletable": false,
    "id": "2eb9088e"
   },
   "source": [
    "<div style='border:solid green 2px; pdding:20px'>\n",
    "    \n",
    "    \n",
    "**Вывод:** \n",
    "- Заемщиков без детей больше всего (14091), также у них наименьшая средняя сумма долга от общей суммы (7.54%). Это может быть связано тем, что у бездетных людей более стабильное финансовое положение.\n",
    "- Общая сумма у заемщиков без детей значительно выше тех, у кого есть дети (1063).\n",
    "- Среди заемщиков с детьми, малодетные семьи имеют более высокий уровень задолженности, чем многодетные семьи. Это может быть связано с тем, что малодетные семьи могут иметь более высокий уровень доходов и могут брать кредиты на более крупные суммы, чем многодетные семьи.\n"
   ]
  },
  {
   "cell_type": "markdown",
   "id": "74c9b3a7",
   "metadata": {
    "deletable": false,
    "editable": false,
    "id": "74c9b3a7"
   },
   "source": [
    "#### 3.2 Есть ли зависимость между семейным положением и возвратом кредита в срок?"
   ]
  },
  {
   "cell_type": "markdown",
   "id": "206e719a",
   "metadata": {},
   "source": [
    "<div class='alert alert-info'>Для выявления зависимости между семейным положением и возвратом кредита в срок группируем 'family_status' с 'debt', далее применяем агрегирующие функции к нему (общее количество заемщиков, среднее значение просроченных платежей и общее количество просроченных платежей)</div>"
   ]
  },
  {
   "cell_type": "code",
   "execution_count": 44,
   "id": "8098ab3b",
   "metadata": {
    "deletable": false,
    "id": "8098ab3b"
   },
   "outputs": [
    {
     "data": {
      "text/html": [
       "<div>\n",
       "<style scoped>\n",
       "    .dataframe tbody tr th:only-of-type {\n",
       "        vertical-align: middle;\n",
       "    }\n",
       "\n",
       "    .dataframe tbody tr th {\n",
       "        vertical-align: top;\n",
       "    }\n",
       "\n",
       "    .dataframe thead th {\n",
       "        text-align: right;\n",
       "    }\n",
       "</style>\n",
       "<table border=\"1\" class=\"dataframe\">\n",
       "  <thead>\n",
       "    <tr style=\"text-align: right;\">\n",
       "      <th></th>\n",
       "      <th>count</th>\n",
       "      <th>mean</th>\n",
       "      <th>sum</th>\n",
       "    </tr>\n",
       "    <tr>\n",
       "      <th>family_status</th>\n",
       "      <th></th>\n",
       "      <th></th>\n",
       "      <th></th>\n",
       "    </tr>\n",
       "  </thead>\n",
       "  <tbody>\n",
       "    <tr>\n",
       "      <th>женат / замужем</th>\n",
       "      <td>12261</td>\n",
       "      <td>7.56</td>\n",
       "      <td>927</td>\n",
       "    </tr>\n",
       "    <tr>\n",
       "      <th>гражданский брак</th>\n",
       "      <td>4134</td>\n",
       "      <td>9.31</td>\n",
       "      <td>385</td>\n",
       "    </tr>\n",
       "    <tr>\n",
       "      <th>Не женат / не замужем</th>\n",
       "      <td>2796</td>\n",
       "      <td>9.76</td>\n",
       "      <td>273</td>\n",
       "    </tr>\n",
       "    <tr>\n",
       "      <th>в разводе</th>\n",
       "      <td>1189</td>\n",
       "      <td>7.06</td>\n",
       "      <td>84</td>\n",
       "    </tr>\n",
       "    <tr>\n",
       "      <th>вдовец / вдова</th>\n",
       "      <td>951</td>\n",
       "      <td>6.62</td>\n",
       "      <td>63</td>\n",
       "    </tr>\n",
       "  </tbody>\n",
       "</table>\n",
       "</div>"
      ],
      "text/plain": [
       "                       count  mean  sum\n",
       "family_status                          \n",
       "женат / замужем        12261  7.56  927\n",
       "гражданский брак        4134  9.31  385\n",
       "Не женат / не замужем   2796  9.76  273\n",
       "в разводе               1189  7.06   84\n",
       "вдовец / вдова           951  6.62   63"
      ]
     },
     "execution_count": 44,
     "metadata": {},
     "output_type": "execute_result"
    }
   ],
   "source": [
    "#группируем столбец 'family_status' по столбцу 'debt' и применяем агрегирующие функции к нему \n",
    "debtors_family_status = data.groupby('family_status')['debt'].agg(['count', 'mean', 'sum'])\n",
    "\n",
    "#преобразовываем среднее значение в проценты и округляем до двух знаков после точки\n",
    "debtors_family_status['mean'] = (debtors_family_status['mean'] * 100).round(2)\n",
    "\n",
    "#сортируем по общему количесвту должников по убыванию\n",
    "debtors_family_status = debtors_family_status.sort_values(['count'], ascending=False)\n",
    "\n",
    "\n",
    "debtors_family_status\n",
    "\n"
   ]
  },
  {
   "cell_type": "markdown",
   "id": "c389ca63",
   "metadata": {
    "deletable": false,
    "id": "c389ca63"
   },
   "source": [
    "<div style='border:solid green 2px; pdding:20px'>\n",
    "\n",
    "**Вывод:** \n",
    "- Количество женатых заемщиков значительно больше, чем других категорий (12261). Это может быть объяснено тем, что женатые люди имеют стабильное финансовое положение. \n",
    "- Процент просрочки кредита больше у неженатых и незамужних заемщиков (9.76%), а у женатых 7.56%.  Может иметь значение то, что женатые люди имеют больше обязательств.\n",
    "- Процент и количество просроченных кредитов меньше всего у заемщиков из категории 'вдовец/вдова' (6.62% и 63).\n",
    "- Влияние на оплату кредита в срок также влияет то, что состоящие или состоявшие в браке \n",
    "более финансово дисциплинированы\n"
   ]
  },
  {
   "cell_type": "markdown",
   "id": "9529de68",
   "metadata": {
    "deletable": false,
    "editable": false,
    "id": "9529de68"
   },
   "source": [
    "#### 3.3 Есть ли зависимость между уровнем дохода и возвратом кредита в срок?"
   ]
  },
  {
   "cell_type": "markdown",
   "id": "ac2ed34a",
   "metadata": {},
   "source": [
    "<div class='alert alert-info'>Для выявления зависимости между уровнем дохода и возвратом кредита в срок создаем функции, которая возвращает категории по размеру заработной платы. Применяем агрегирующие функции к нему (общее количество должников, среднее значение просроченных платежей и общее количество просроченных платежей)</div>"
   ]
  },
  {
   "cell_type": "code",
   "execution_count": 26,
   "id": "8787f44a",
   "metadata": {
    "deletable": false,
    "id": "8787f44a"
   },
   "outputs": [
    {
     "data": {
      "text/html": [
       "<div>\n",
       "<style scoped>\n",
       "    .dataframe tbody tr th:only-of-type {\n",
       "        vertical-align: middle;\n",
       "    }\n",
       "\n",
       "    .dataframe tbody tr th {\n",
       "        vertical-align: top;\n",
       "    }\n",
       "\n",
       "    .dataframe thead th {\n",
       "        text-align: right;\n",
       "    }\n",
       "</style>\n",
       "<table border=\"1\" class=\"dataframe\">\n",
       "  <thead>\n",
       "    <tr style=\"text-align: right;\">\n",
       "      <th></th>\n",
       "      <th>count</th>\n",
       "      <th>mean</th>\n",
       "      <th>sum</th>\n",
       "    </tr>\n",
       "    <tr>\n",
       "      <th>total_income_category</th>\n",
       "      <th></th>\n",
       "      <th></th>\n",
       "      <th></th>\n",
       "    </tr>\n",
       "  </thead>\n",
       "  <tbody>\n",
       "    <tr>\n",
       "      <th>очень высокий</th>\n",
       "      <td>9777</td>\n",
       "      <td>7.76</td>\n",
       "      <td>759</td>\n",
       "    </tr>\n",
       "    <tr>\n",
       "      <th>высокий</th>\n",
       "      <td>9289</td>\n",
       "      <td>8.60</td>\n",
       "      <td>799</td>\n",
       "    </tr>\n",
       "    <tr>\n",
       "      <th>средний</th>\n",
       "      <td>2265</td>\n",
       "      <td>7.68</td>\n",
       "      <td>174</td>\n",
       "    </tr>\n",
       "  </tbody>\n",
       "</table>\n",
       "</div>"
      ],
      "text/plain": [
       "                       count  mean  sum\n",
       "total_income_category                  \n",
       "очень высокий           9777  7.76  759\n",
       "высокий                 9289  8.60  799\n",
       "средний                 2265  7.68  174"
      ]
     },
     "execution_count": 26,
     "metadata": {},
     "output_type": "execute_result"
    }
   ],
   "source": [
    "#создаем функцию, которая категоризирует данные по размеру заработной платы\n",
    "def salary_category(row):\n",
    "    total_income = row['total_income'] \n",
    "    if total_income < 80000:\n",
    "        return \"средний\"\n",
    "    elif total_income < 150000:\n",
    "        return \"высокий\"\n",
    "    else:\n",
    "        return \"очень высокий\"\n",
    "    \n",
    "#формируем новый столбец со значением-резульатом работы функции salary_category\n",
    "data['total_income_category'] = data.apply(salary_category, axis=1)   \n",
    "\n",
    "#группируем столбец 'total_income_category' по столбцу 'debt' и применяем агрегирующие функции к нему (общее количество должников,\n",
    "#среднее значение просроченных платежей и общее количество просроченных платежей\n",
    "debtors_total_income = data.groupby('total_income_category')['debt'].agg(['count', 'mean', 'sum'])\n",
    "\n",
    "#преобразовываем среднее значение в проценты и округляем до двух знаков после точки\n",
    "debtors_total_income['mean'] = (debtors_total_income['mean'] * 100).round(2)\n",
    "\n",
    "#сортируем по общему количествту должников по убыванию\n",
    "debtors_total_income = debtors_total_income.sort_values(['count'], ascending=False)\n",
    "\n",
    "debtors_total_income\n",
    "\n"
   ]
  },
  {
   "cell_type": "markdown",
   "id": "6dd14b57",
   "metadata": {
    "deletable": false,
    "id": "6dd14b57"
   },
   "source": [
    "<div style='border:solid green 2px; pdding:20px'>\n",
    "    \n",
    "   **Вывод:** \n",
    "- Большинство должников (около 90%) имеют средний или выше среднего уровень дохода.\n",
    "- Средняя сумма задолженности заемщиков с низким уровнем дохода (9.09) выше, чем у заемщиков со средним уровнем дохода (7.67). Это может быть связано с низкой кредитоспособностью. \n",
    "- Заемщики со средним и с очень высоким уровнем дохода оплачивают кредиты в срок, чем те, у кого высокий и низкий уровень дохода."
   ]
  },
  {
   "cell_type": "markdown",
   "id": "1dcc9b12",
   "metadata": {
    "deletable": false,
    "editable": false,
    "id": "1dcc9b12"
   },
   "source": [
    "#### 3.4 Как разные цели кредита влияют на его возврат в срок?"
   ]
  },
  {
   "cell_type": "markdown",
   "id": "16533a75",
   "metadata": {},
   "source": [
    "<div class='alert alert-info'>Для выявления влияния разных кредитов на его возврат в срок группируем данные по целям кредита ('purpose_category), затем применяем агрегирущие функции к столбцу 'debt': считаем количество должников в каждой группе по целям кредита, затем средние значения задолженности по целям кредита и общую сумма долга в каждой группе по цели кредита.</div>"
   ]
  },
  {
   "cell_type": "code",
   "execution_count": 46,
   "id": "c602bc8b",
   "metadata": {
    "deletable": false,
    "id": "c602bc8b",
    "scrolled": true
   },
   "outputs": [
    {
     "data": {
      "text/html": [
       "<div>\n",
       "<style scoped>\n",
       "    .dataframe tbody tr th:only-of-type {\n",
       "        vertical-align: middle;\n",
       "    }\n",
       "\n",
       "    .dataframe tbody tr th {\n",
       "        vertical-align: top;\n",
       "    }\n",
       "\n",
       "    .dataframe thead th {\n",
       "        text-align: right;\n",
       "    }\n",
       "</style>\n",
       "<table border=\"1\" class=\"dataframe\">\n",
       "  <thead>\n",
       "    <tr style=\"text-align: right;\">\n",
       "      <th></th>\n",
       "      <th>count</th>\n",
       "      <th>mean</th>\n",
       "      <th>sum</th>\n",
       "    </tr>\n",
       "    <tr>\n",
       "      <th>purpose_category</th>\n",
       "      <th></th>\n",
       "      <th></th>\n",
       "      <th></th>\n",
       "    </tr>\n",
       "  </thead>\n",
       "  <tbody>\n",
       "    <tr>\n",
       "      <th>операции с недвижимостью</th>\n",
       "      <td>10751</td>\n",
       "      <td>7.26</td>\n",
       "      <td>780</td>\n",
       "    </tr>\n",
       "    <tr>\n",
       "      <th>операции с автомобилем</th>\n",
       "      <td>4279</td>\n",
       "      <td>9.35</td>\n",
       "      <td>400</td>\n",
       "    </tr>\n",
       "    <tr>\n",
       "      <th>получение образования</th>\n",
       "      <td>3988</td>\n",
       "      <td>9.25</td>\n",
       "      <td>369</td>\n",
       "    </tr>\n",
       "    <tr>\n",
       "      <th>проведение свадьбы</th>\n",
       "      <td>2313</td>\n",
       "      <td>7.91</td>\n",
       "      <td>183</td>\n",
       "    </tr>\n",
       "  </tbody>\n",
       "</table>\n",
       "</div>"
      ],
      "text/plain": [
       "                          count  mean  sum\n",
       "purpose_category                          \n",
       "операции с недвижимостью  10751  7.26  780\n",
       "операции с автомобилем     4279  9.35  400\n",
       "получение образования      3988  9.25  369\n",
       "проведение свадьбы         2313  7.91  183"
      ]
     },
     "execution_count": 46,
     "metadata": {},
     "output_type": "execute_result"
    }
   ],
   "source": [
    "#группируем данные по целям кредита ('purpose_category), затем применяем агрегирущие функции к столбцу 'debt': \n",
    "#считаем количество должников в каждой группе по целям кредита, \n",
    "#затем средние значения задолженности по целям кредита,\n",
    "#и на общую сумма долга в каждой группе по цели кредита\n",
    "debt_purpose = data.groupby('purpose_category')['debt'].agg(['count', 'mean', 'sum'])\n",
    "\n",
    "#преобразовываем среднее значение в проценты и округляем до двух знаков после точки\n",
    "debt_purpose['mean'] = (debt_purpose['mean'] * 100).round(2)\n",
    "\n",
    "#сортируем по общему количествту должников по убыванию\n",
    "debt_purpose = debt_purpose.sort_values(['count'], ascending=False)\n",
    "\n",
    "debt_purpose"
   ]
  },
  {
   "cell_type": "markdown",
   "id": "cf05ed63",
   "metadata": {
    "deletable": false,
    "id": "cf05ed63"
   },
   "source": [
    "<div style='border:solid green 2px; pdding:20px'>\n",
    " \n",
    "**Вывод**: \n",
    "- Наибольшее количество кредитов приходится на операции с недвижимостью (10751 кредит).\n",
    "- Наименьшей популярностью пользуются кредиты на проведение свадеб (2313 кредит). \n",
    "- Самый высокий процент просроченных кредитов - операции с автомобилем (9.35%).\n",
    "- Категория 'получение образования' также является одним из просрачиваемых кредитов (9.25%)\n",
    "- Самый низкий процент просроченных кредитов приходится на операции с недвижимостью (7.26%). \n",
    "- На операции с недвижимостью больше всего просроченных платежей (780).\n"
   ]
  },
  {
   "cell_type": "markdown",
   "id": "46c1f10b",
   "metadata": {
    "deletable": false,
    "editable": false,
    "id": "46c1f10b"
   },
   "source": [
    "#### 3.5 Приведите возможные причины появления пропусков в исходных данных."
   ]
  },
  {
   "cell_type": "markdown",
   "id": "3697d2a9",
   "metadata": {
    "deletable": false,
    "id": "3697d2a9"
   },
   "source": [
    "<div class='alert alert-info'>\n",
    "    \n",
    "**Ответ:** \n",
    "Конкретно в этих данных пропущенные значения у пенсионера в столбце 'total_income'. У них нет зарплаты, соответственно\n",
    "тут респондент специально не заполнил данные. Также в этой же строке в столбце 'days_employed' пропущенное \n",
    "значение тоже неслучайно, ведь у пенсионера нет отработанных дней. \n",
    "Пропуск в 'total_income' и 'days_employed' заполнен медианным значением столбца. \n",
    "\n",
    "    \n",
    "    \n",
    "**Возможные причины появления пропусков в данных**:\n",
    "- ошибки в сборе данных\n",
    "- технические проблемы: сбой системы и прочее\n",
    "- потеря данных\n",
    "- нежелание респондентов заполнять данные\n",
    "- недостаточный объем выборки </div>"
   ]
  },
  {
   "cell_type": "markdown",
   "id": "3137d257",
   "metadata": {
    "deletable": false,
    "editable": false,
    "id": "3137d257"
   },
   "source": [
    "#### 3.6 Объясните, почему заполнить пропуски медианным значением — лучшее решение для количественных переменных."
   ]
  },
  {
   "cell_type": "markdown",
   "id": "cf40012a",
   "metadata": {
    "deletable": false,
    "id": "cf40012a"
   },
   "source": [
    "<div class='alert alert-info'>\n",
    "    \n",
    "**Ответ:** Медиана, в отличие от средней арифметической, не искажает факты. Медиана является более устойчивой мерой центральной\n",
    "тенденции. Например, среднюю зарплату сотрудников лучше всего считать медианой, так как у всех она может быть разная. \n",
    "Также среднюю зарплату в стране истинно покажет медиана, так как разброс в доходах у населения сильно отличается. "
   ]
  },
  {
   "cell_type": "markdown",
   "id": "57bc304e",
   "metadata": {
    "deletable": false,
    "editable": false,
    "id": "57bc304e"
   },
   "source": [
    "### Шаг 4: общий вывод."
   ]
  },
  {
   "cell_type": "markdown",
   "id": "3e1cb471",
   "metadata": {},
   "source": [
    "<div class='alert alert-info'>\n",
    "    \n",
    "**В данных были обнаружены следующие ошибки**:\n",
    "\n",
    "- Пропущены значения в двух столбцах: 'days_employed' (2174) и 'total_income' (2174)\n",
    "- Пропуски заменены на медианное значение среди всех записей с тем же типом.\n",
    "- В столбце 'days_employed' были записи в отрицательном значении: заменены методом abs()\n",
    "- Столбец 'total_income' из строкового типа заменен на целочисленный методом astype(). Используем этот метод, чтобы получить целое число, а методом numeric() получим вещественное.\n",
    "- Всего найдено 71 дубликат (метод duplicated()). Удалены методом drop_duplicates()"
   ]
  },
  {
   "cell_type": "markdown",
   "id": "1ab75d1c",
   "metadata": {
    "deletable": false,
    "id": "1ab75d1c"
   },
   "source": [
    "\n",
    "<div style='border:solid green 2px; pdding:20px'>\n",
    "    \n",
    "**На основании проведенного анализа можно сделать такие выводы**:\n",
    "- Средняя сумма задолженности заемщиков без детей (7.54) ниже, чем у заемщиков с детьми (9.30 для малодетных и 8.16 для многодетных). Это может быть связано с тем, что заемщики без детей могут иметь более высокий уровень доходов и, следовательно, могут брать кредиты на более крупные суммы, чем заемщики с детьми.\n",
    "- Семейное положение может влиять на оплату кредита в срок. Количество женатых должников значительно больше, чем других категорий (12261), гражданский брак\t(4134), неженатые (2796), в разводе (1189). Процент просрочки кредита больше у неженатых и незамужних должников (9.76%). Может быть связано с тем, что люди в браке чаще имеют больше обязательств, берут ответсвтвенность за всех членов семьи, лучше кредитная история и финансовая грамотность.\n",
    "- Общая сумма задолженности заемщиков без детей (1063) выше, чем у заемщиков с детьми (638 для малодетных и 31 для многодетных). Это может быть связано с тем, что заемщики без детей могут брать кредиты на более крупные суммы, чем заемщики с детьми.\n",
    "- Среди заемщиков с детьми, малодетные семьи имеют более высокий уровень задолженности, чем многодетные семьи. Тут может играть роль то, что малодетные семьи могут иметь более высокий доход и, следовательно, брать кредиты на крупные суммы, чем многодетные. \n",
    "- Самая популярная цель кредитов связана с операциями с недвижимостью (10751). Ипотеки и рассрочки могут иметь низкий процент и ежегодное повышение роста цен на недвижимость заставляет людей более охотно брать деньги в долг на эту категорию.\n",
    "- Цель кредита также имеет влияние на оплату кредита в срок. Должники охотнее оплачивают срок операции, связанные с недвижимостью (7.26%), чем с покупкой автомобиля (9.35%). Это может быть связано с тем, что недвижимость является более ценным активом, чем покупка автомобиля. Заемщики больше мотивированы платить за дом/квартиру вовремя из-за боязни потерять имущество и повышения ставки. \n",
    "\n",
    "Эти выводы могут быть полезны для банков и кредитных организаций. Но эти данные не могут быть абсолютно точными, так как для более точного анализа потребуются дополнительные данные для оценки кредитоспособности заемщиков. На выводы могут повлиять кредитная история заемщика, дополнительные источники дохода, уровень обязательность заемщиков и прочие детали. "
   ]
  }
 ],
 "metadata": {
  "ExecuteTimeLog": [
   {
    "duration": 621,
    "start_time": "2024-05-30T14:36:41.803Z"
   },
   {
    "duration": 25,
    "start_time": "2024-05-30T14:36:48.867Z"
   },
   {
    "duration": 493,
    "start_time": "2024-05-30T14:37:53.301Z"
   },
   {
    "duration": 24,
    "start_time": "2024-05-30T14:37:53.796Z"
   },
   {
    "duration": 38,
    "start_time": "2024-05-30T14:37:53.821Z"
   },
   {
    "duration": 22,
    "start_time": "2024-05-30T14:37:53.862Z"
   },
   {
    "duration": 49,
    "start_time": "2024-05-30T14:37:53.886Z"
   },
   {
    "duration": 3,
    "start_time": "2024-05-30T14:37:53.937Z"
   },
   {
    "duration": 15,
    "start_time": "2024-05-30T14:37:53.942Z"
   },
   {
    "duration": 5,
    "start_time": "2024-05-30T14:37:53.982Z"
   },
   {
    "duration": 9,
    "start_time": "2024-05-30T14:37:53.991Z"
   },
   {
    "duration": 6,
    "start_time": "2024-05-30T14:37:54.003Z"
   },
   {
    "duration": 87,
    "start_time": "2024-05-30T14:37:54.010Z"
   },
   {
    "duration": 16,
    "start_time": "2024-05-30T14:37:54.100Z"
   },
   {
    "duration": 10,
    "start_time": "2024-05-30T14:37:54.119Z"
   },
   {
    "duration": 19,
    "start_time": "2024-05-30T14:37:54.131Z"
   },
   {
    "duration": 53,
    "start_time": "2024-05-30T14:37:54.152Z"
   },
   {
    "duration": 19,
    "start_time": "2024-05-30T14:37:54.206Z"
   },
   {
    "duration": 4,
    "start_time": "2024-05-30T14:37:54.226Z"
   },
   {
    "duration": 22,
    "start_time": "2024-05-30T14:37:54.232Z"
   },
   {
    "duration": 30,
    "start_time": "2024-05-30T14:37:54.256Z"
   },
   {
    "duration": 4,
    "start_time": "2024-05-30T14:37:54.288Z"
   },
   {
    "duration": 22,
    "start_time": "2024-05-30T14:37:54.294Z"
   },
   {
    "duration": 3,
    "start_time": "2024-05-30T14:37:54.318Z"
   },
   {
    "duration": 3,
    "start_time": "2024-05-30T14:37:54.323Z"
   },
   {
    "duration": 4,
    "start_time": "2024-05-30T14:37:54.328Z"
   },
   {
    "duration": 6,
    "start_time": "2024-05-30T14:37:54.333Z"
   },
   {
    "duration": 30,
    "start_time": "2024-05-30T15:56:56.472Z"
   },
   {
    "duration": 629,
    "start_time": "2024-05-31T08:03:09.984Z"
   },
   {
    "duration": 25,
    "start_time": "2024-05-31T08:03:10.615Z"
   },
   {
    "duration": 17,
    "start_time": "2024-05-31T08:03:10.641Z"
   },
   {
    "duration": 13,
    "start_time": "2024-05-31T08:03:10.660Z"
   },
   {
    "duration": 39,
    "start_time": "2024-05-31T08:03:10.674Z"
   },
   {
    "duration": 3,
    "start_time": "2024-05-31T08:03:10.715Z"
   },
   {
    "duration": 15,
    "start_time": "2024-05-31T08:03:10.719Z"
   },
   {
    "duration": 13,
    "start_time": "2024-05-31T08:03:10.735Z"
   },
   {
    "duration": 7,
    "start_time": "2024-05-31T08:03:10.750Z"
   },
   {
    "duration": 4,
    "start_time": "2024-05-31T08:03:10.759Z"
   },
   {
    "duration": 51,
    "start_time": "2024-05-31T08:03:10.764Z"
   },
   {
    "duration": 10,
    "start_time": "2024-05-31T08:03:10.817Z"
   },
   {
    "duration": 4,
    "start_time": "2024-05-31T08:03:10.828Z"
   },
   {
    "duration": 12,
    "start_time": "2024-05-31T08:03:10.833Z"
   },
   {
    "duration": 42,
    "start_time": "2024-05-31T08:03:10.846Z"
   },
   {
    "duration": 17,
    "start_time": "2024-05-31T08:03:10.889Z"
   },
   {
    "duration": 3,
    "start_time": "2024-05-31T08:03:10.908Z"
   },
   {
    "duration": 19,
    "start_time": "2024-05-31T08:03:10.912Z"
   },
   {
    "duration": 6,
    "start_time": "2024-05-31T08:03:10.933Z"
   },
   {
    "duration": 3,
    "start_time": "2024-05-31T08:03:10.940Z"
   },
   {
    "duration": 13,
    "start_time": "2024-05-31T08:03:10.945Z"
   },
   {
    "duration": 43,
    "start_time": "2024-05-31T08:03:10.959Z"
   },
   {
    "duration": 2,
    "start_time": "2024-05-31T08:03:11.004Z"
   },
   {
    "duration": 4,
    "start_time": "2024-05-31T08:03:11.008Z"
   },
   {
    "duration": 6,
    "start_time": "2024-05-31T08:03:11.013Z"
   },
   {
    "duration": 37,
    "start_time": "2024-05-31T08:03:16.830Z"
   },
   {
    "duration": 546,
    "start_time": "2024-05-31T14:29:14.920Z"
   },
   {
    "duration": 19,
    "start_time": "2024-05-31T14:29:15.467Z"
   },
   {
    "duration": 24,
    "start_time": "2024-05-31T14:29:15.488Z"
   },
   {
    "duration": 8,
    "start_time": "2024-05-31T14:29:15.513Z"
   },
   {
    "duration": 29,
    "start_time": "2024-05-31T14:29:15.522Z"
   },
   {
    "duration": 2,
    "start_time": "2024-05-31T14:29:15.554Z"
   },
   {
    "duration": 12,
    "start_time": "2024-05-31T14:29:15.558Z"
   },
   {
    "duration": 5,
    "start_time": "2024-05-31T14:29:15.571Z"
   },
   {
    "duration": 25,
    "start_time": "2024-05-31T14:29:15.578Z"
   },
   {
    "duration": 6,
    "start_time": "2024-05-31T14:29:15.605Z"
   },
   {
    "duration": 54,
    "start_time": "2024-05-31T14:29:15.613Z"
   },
   {
    "duration": 7,
    "start_time": "2024-05-31T14:29:15.669Z"
   },
   {
    "duration": 25,
    "start_time": "2024-05-31T14:29:15.677Z"
   },
   {
    "duration": 26,
    "start_time": "2024-05-31T14:29:15.703Z"
   },
   {
    "duration": 21,
    "start_time": "2024-05-31T14:29:15.730Z"
   },
   {
    "duration": 13,
    "start_time": "2024-05-31T14:29:15.753Z"
   },
   {
    "duration": 3,
    "start_time": "2024-05-31T14:29:15.767Z"
   },
   {
    "duration": 9,
    "start_time": "2024-05-31T14:29:15.772Z"
   },
   {
    "duration": 9,
    "start_time": "2024-05-31T14:29:15.782Z"
   },
   {
    "duration": 4,
    "start_time": "2024-05-31T14:29:15.792Z"
   },
   {
    "duration": 11,
    "start_time": "2024-05-31T14:29:15.797Z"
   },
   {
    "duration": 36,
    "start_time": "2024-05-31T14:29:15.809Z"
   },
   {
    "duration": 12,
    "start_time": "2024-05-31T14:29:15.847Z"
   },
   {
    "duration": 19,
    "start_time": "2024-05-31T14:29:15.861Z"
   },
   {
    "duration": 4,
    "start_time": "2024-05-31T14:29:15.881Z"
   },
   {
    "duration": 8,
    "start_time": "2024-05-31T15:30:30.373Z"
   },
   {
    "duration": 20,
    "start_time": "2024-05-31T15:30:40.934Z"
   },
   {
    "duration": 11,
    "start_time": "2024-05-31T15:31:02.820Z"
   },
   {
    "duration": 63,
    "start_time": "2024-05-31T15:31:34.302Z"
   },
   {
    "duration": 13,
    "start_time": "2024-05-31T15:35:08.054Z"
   },
   {
    "duration": 14,
    "start_time": "2024-05-31T15:35:17.167Z"
   },
   {
    "duration": 11,
    "start_time": "2024-05-31T15:35:26.729Z"
   },
   {
    "duration": 10,
    "start_time": "2024-05-31T15:35:33.750Z"
   },
   {
    "duration": 16,
    "start_time": "2024-05-31T15:35:37.242Z"
   },
   {
    "duration": 60,
    "start_time": "2024-05-31T15:36:23.344Z"
   },
   {
    "duration": 12,
    "start_time": "2024-05-31T15:36:48.919Z"
   },
   {
    "duration": 11,
    "start_time": "2024-05-31T15:37:08.596Z"
   },
   {
    "duration": 12,
    "start_time": "2024-05-31T15:37:52.094Z"
   },
   {
    "duration": 10,
    "start_time": "2024-05-31T15:40:26.617Z"
   },
   {
    "duration": 9,
    "start_time": "2024-05-31T15:41:20.890Z"
   },
   {
    "duration": 3,
    "start_time": "2024-05-31T15:41:27.903Z"
   },
   {
    "duration": 4,
    "start_time": "2024-05-31T15:41:36.878Z"
   },
   {
    "duration": 10,
    "start_time": "2024-05-31T15:43:12.098Z"
   },
   {
    "duration": 9,
    "start_time": "2024-05-31T15:43:18.441Z"
   },
   {
    "duration": 10,
    "start_time": "2024-05-31T15:43:24.930Z"
   },
   {
    "duration": 14,
    "start_time": "2024-05-31T15:44:42.059Z"
   },
   {
    "duration": 6,
    "start_time": "2024-05-31T15:46:53.385Z"
   },
   {
    "duration": 6,
    "start_time": "2024-05-31T15:46:56.548Z"
   },
   {
    "duration": 752,
    "start_time": "2024-05-31T15:47:17.406Z"
   },
   {
    "duration": 657,
    "start_time": "2024-05-31T15:47:46.387Z"
   },
   {
    "duration": 5,
    "start_time": "2024-05-31T15:47:57.078Z"
   },
   {
    "duration": 6,
    "start_time": "2024-05-31T15:48:05.064Z"
   },
   {
    "duration": 5,
    "start_time": "2024-05-31T15:48:16.075Z"
   },
   {
    "duration": 690,
    "start_time": "2024-05-31T15:48:40.188Z"
   },
   {
    "duration": 6,
    "start_time": "2024-05-31T15:48:52.988Z"
   },
   {
    "duration": 579,
    "start_time": "2024-06-02T13:41:52.109Z"
   },
   {
    "duration": 21,
    "start_time": "2024-06-02T13:41:52.690Z"
   },
   {
    "duration": 25,
    "start_time": "2024-06-02T13:41:52.712Z"
   },
   {
    "duration": 19,
    "start_time": "2024-06-02T13:41:52.738Z"
   },
   {
    "duration": 33,
    "start_time": "2024-06-02T13:41:52.760Z"
   },
   {
    "duration": 3,
    "start_time": "2024-06-02T13:41:52.794Z"
   },
   {
    "duration": 10,
    "start_time": "2024-06-02T13:41:52.799Z"
   },
   {
    "duration": 5,
    "start_time": "2024-06-02T13:41:52.810Z"
   },
   {
    "duration": 12,
    "start_time": "2024-06-02T13:41:52.816Z"
   },
   {
    "duration": 4,
    "start_time": "2024-06-02T13:41:52.853Z"
   },
   {
    "duration": 40,
    "start_time": "2024-06-02T13:41:52.860Z"
   },
   {
    "duration": 9,
    "start_time": "2024-06-02T13:41:52.902Z"
   },
   {
    "duration": 8,
    "start_time": "2024-06-02T13:41:52.912Z"
   },
   {
    "duration": 12,
    "start_time": "2024-06-02T13:41:52.922Z"
   },
   {
    "duration": 32,
    "start_time": "2024-06-02T13:41:52.935Z"
   },
   {
    "duration": 22,
    "start_time": "2024-06-02T13:41:52.969Z"
   },
   {
    "duration": 5,
    "start_time": "2024-06-02T13:41:52.993Z"
   },
   {
    "duration": 12,
    "start_time": "2024-06-02T13:41:52.999Z"
   },
   {
    "duration": 5,
    "start_time": "2024-06-02T13:41:53.012Z"
   },
   {
    "duration": 8,
    "start_time": "2024-06-02T13:41:53.050Z"
   },
   {
    "duration": 11,
    "start_time": "2024-06-02T13:41:53.060Z"
   },
   {
    "duration": 12,
    "start_time": "2024-06-02T13:41:53.072Z"
   },
   {
    "duration": 17,
    "start_time": "2024-06-02T13:41:53.085Z"
   },
   {
    "duration": 16,
    "start_time": "2024-06-02T13:41:53.103Z"
   },
   {
    "duration": 12,
    "start_time": "2024-06-02T13:41:53.120Z"
   },
   {
    "duration": 8,
    "start_time": "2024-06-02T13:58:47.037Z"
   },
   {
    "duration": 60,
    "start_time": "2024-06-02T13:59:34.714Z"
   },
   {
    "duration": 8,
    "start_time": "2024-06-02T13:59:44.543Z"
   },
   {
    "duration": 10,
    "start_time": "2024-06-02T13:59:51.240Z"
   },
   {
    "duration": 24,
    "start_time": "2024-06-02T14:00:46.630Z"
   },
   {
    "duration": 18,
    "start_time": "2024-06-02T14:01:26.328Z"
   },
   {
    "duration": 19,
    "start_time": "2024-06-02T14:04:33.926Z"
   },
   {
    "duration": 166,
    "start_time": "2024-06-02T14:06:03.073Z"
   },
   {
    "duration": 156,
    "start_time": "2024-06-02T14:06:35.503Z"
   },
   {
    "duration": 5,
    "start_time": "2024-06-02T14:06:59.395Z"
   },
   {
    "duration": 175,
    "start_time": "2024-06-02T14:07:19.442Z"
   },
   {
    "duration": 147,
    "start_time": "2024-06-02T14:09:42.459Z"
   },
   {
    "duration": 146,
    "start_time": "2024-06-02T14:11:03.811Z"
   },
   {
    "duration": 158,
    "start_time": "2024-06-02T14:11:28.912Z"
   },
   {
    "duration": 150,
    "start_time": "2024-06-02T14:12:41.189Z"
   },
   {
    "duration": 170,
    "start_time": "2024-06-02T14:12:55.380Z"
   },
   {
    "duration": 143,
    "start_time": "2024-06-02T14:13:14.853Z"
   },
   {
    "duration": 163,
    "start_time": "2024-06-02T14:14:03.316Z"
   },
   {
    "duration": 10,
    "start_time": "2024-06-02T14:14:46.080Z"
   },
   {
    "duration": 13,
    "start_time": "2024-06-02T14:15:09.067Z"
   },
   {
    "duration": 10,
    "start_time": "2024-06-02T14:15:39.170Z"
   },
   {
    "duration": 10,
    "start_time": "2024-06-02T14:15:53.769Z"
   },
   {
    "duration": 14,
    "start_time": "2024-06-02T14:17:18.363Z"
   },
   {
    "duration": 474,
    "start_time": "2024-06-02T14:17:31.254Z"
   },
   {
    "duration": 21,
    "start_time": "2024-06-02T14:17:31.730Z"
   },
   {
    "duration": 31,
    "start_time": "2024-06-02T14:17:31.753Z"
   },
   {
    "duration": 37,
    "start_time": "2024-06-02T14:17:31.785Z"
   },
   {
    "duration": 84,
    "start_time": "2024-06-02T14:17:31.824Z"
   },
   {
    "duration": 8,
    "start_time": "2024-06-02T14:17:31.910Z"
   },
   {
    "duration": 45,
    "start_time": "2024-06-02T14:17:31.920Z"
   },
   {
    "duration": 56,
    "start_time": "2024-06-02T14:17:31.967Z"
   },
   {
    "duration": 13,
    "start_time": "2024-06-02T14:17:32.025Z"
   },
   {
    "duration": 8,
    "start_time": "2024-06-02T14:17:32.039Z"
   },
   {
    "duration": 51,
    "start_time": "2024-06-02T14:17:32.049Z"
   },
   {
    "duration": 10,
    "start_time": "2024-06-02T14:17:32.102Z"
   },
   {
    "duration": 14,
    "start_time": "2024-06-02T14:17:32.113Z"
   },
   {
    "duration": 24,
    "start_time": "2024-06-02T14:17:32.129Z"
   },
   {
    "duration": 25,
    "start_time": "2024-06-02T14:17:32.155Z"
   },
   {
    "duration": 16,
    "start_time": "2024-06-02T14:17:32.181Z"
   },
   {
    "duration": 4,
    "start_time": "2024-06-02T14:17:32.198Z"
   },
   {
    "duration": 31,
    "start_time": "2024-06-02T14:17:32.204Z"
   },
   {
    "duration": 7,
    "start_time": "2024-06-02T14:17:32.236Z"
   },
   {
    "duration": 18,
    "start_time": "2024-06-02T14:17:32.245Z"
   },
   {
    "duration": 42,
    "start_time": "2024-06-02T14:17:32.264Z"
   },
   {
    "duration": 21,
    "start_time": "2024-06-02T14:17:32.307Z"
   },
   {
    "duration": 80,
    "start_time": "2024-06-02T14:17:32.330Z"
   },
   {
    "duration": 0,
    "start_time": "2024-06-02T14:17:32.412Z"
   },
   {
    "duration": 0,
    "start_time": "2024-06-02T14:17:32.413Z"
   },
   {
    "duration": 10,
    "start_time": "2024-06-02T14:18:19.278Z"
   },
   {
    "duration": 9,
    "start_time": "2024-06-02T14:19:22.767Z"
   },
   {
    "duration": 9,
    "start_time": "2024-06-02T14:19:31.304Z"
   },
   {
    "duration": 8,
    "start_time": "2024-06-02T14:20:18.328Z"
   },
   {
    "duration": 63,
    "start_time": "2024-06-02T14:20:55.865Z"
   },
   {
    "duration": 60,
    "start_time": "2024-06-02T14:21:05.616Z"
   },
   {
    "duration": 69,
    "start_time": "2024-06-02T14:21:22.828Z"
   },
   {
    "duration": 410,
    "start_time": "2024-06-02T14:21:39.495Z"
   },
   {
    "duration": 21,
    "start_time": "2024-06-02T14:21:39.907Z"
   },
   {
    "duration": 15,
    "start_time": "2024-06-02T14:21:39.930Z"
   },
   {
    "duration": 14,
    "start_time": "2024-06-02T14:21:39.948Z"
   },
   {
    "duration": 40,
    "start_time": "2024-06-02T14:21:39.964Z"
   },
   {
    "duration": 4,
    "start_time": "2024-06-02T14:21:40.005Z"
   },
   {
    "duration": 10,
    "start_time": "2024-06-02T14:21:40.010Z"
   },
   {
    "duration": 19,
    "start_time": "2024-06-02T14:21:40.021Z"
   },
   {
    "duration": 23,
    "start_time": "2024-06-02T14:21:40.041Z"
   },
   {
    "duration": 4,
    "start_time": "2024-06-02T14:21:40.066Z"
   },
   {
    "duration": 34,
    "start_time": "2024-06-02T14:21:40.071Z"
   },
   {
    "duration": 9,
    "start_time": "2024-06-02T14:21:40.107Z"
   },
   {
    "duration": 3,
    "start_time": "2024-06-02T14:21:40.117Z"
   },
   {
    "duration": 27,
    "start_time": "2024-06-02T14:21:40.122Z"
   },
   {
    "duration": 21,
    "start_time": "2024-06-02T14:21:40.151Z"
   },
   {
    "duration": 16,
    "start_time": "2024-06-02T14:21:40.174Z"
   },
   {
    "duration": 4,
    "start_time": "2024-06-02T14:21:40.191Z"
   },
   {
    "duration": 27,
    "start_time": "2024-06-02T14:21:40.196Z"
   },
   {
    "duration": 7,
    "start_time": "2024-06-02T14:21:40.225Z"
   },
   {
    "duration": 4,
    "start_time": "2024-06-02T14:21:40.244Z"
   },
   {
    "duration": 22,
    "start_time": "2024-06-02T14:21:40.250Z"
   },
   {
    "duration": 33,
    "start_time": "2024-06-02T14:21:40.273Z"
   },
   {
    "duration": 68,
    "start_time": "2024-06-02T14:21:40.308Z"
   },
   {
    "duration": 0,
    "start_time": "2024-06-02T14:21:40.378Z"
   },
   {
    "duration": 0,
    "start_time": "2024-06-02T14:21:40.380Z"
   },
   {
    "duration": 60,
    "start_time": "2024-06-02T14:21:48.289Z"
   },
   {
    "duration": 9,
    "start_time": "2024-06-02T14:21:59.849Z"
   },
   {
    "duration": 69,
    "start_time": "2024-06-02T14:22:16.278Z"
   },
   {
    "duration": 14,
    "start_time": "2024-06-02T14:22:19.612Z"
   },
   {
    "duration": 14,
    "start_time": "2024-06-02T14:22:22.129Z"
   },
   {
    "duration": 10,
    "start_time": "2024-06-02T14:22:24.167Z"
   },
   {
    "duration": 34,
    "start_time": "2024-06-02T14:22:25.858Z"
   },
   {
    "duration": 34,
    "start_time": "2024-06-02T14:22:27.041Z"
   },
   {
    "duration": 3,
    "start_time": "2024-06-02T14:22:29.236Z"
   },
   {
    "duration": 8,
    "start_time": "2024-06-02T14:22:30.892Z"
   },
   {
    "duration": 4,
    "start_time": "2024-06-02T14:22:35.382Z"
   },
   {
    "duration": 6,
    "start_time": "2024-06-02T14:22:37.429Z"
   },
   {
    "duration": 5,
    "start_time": "2024-06-02T14:22:39.988Z"
   },
   {
    "duration": 36,
    "start_time": "2024-06-02T14:22:41.935Z"
   },
   {
    "duration": 11,
    "start_time": "2024-06-02T14:22:45.530Z"
   },
   {
    "duration": 4,
    "start_time": "2024-06-02T14:22:47.977Z"
   },
   {
    "duration": 12,
    "start_time": "2024-06-02T14:22:49.512Z"
   },
   {
    "duration": 18,
    "start_time": "2024-06-02T14:22:51.517Z"
   },
   {
    "duration": 16,
    "start_time": "2024-06-02T14:22:53.403Z"
   },
   {
    "duration": 3,
    "start_time": "2024-06-02T14:22:55.656Z"
   },
   {
    "duration": 10,
    "start_time": "2024-06-02T14:22:58.180Z"
   },
   {
    "duration": 5,
    "start_time": "2024-06-02T14:22:59.892Z"
   },
   {
    "duration": 4,
    "start_time": "2024-06-02T14:23:03.241Z"
   },
   {
    "duration": 8,
    "start_time": "2024-06-02T14:23:05.292Z"
   },
   {
    "duration": 13,
    "start_time": "2024-06-02T14:23:07.124Z"
   },
   {
    "duration": 71,
    "start_time": "2024-06-02T14:23:14.498Z"
   },
   {
    "duration": 7,
    "start_time": "2024-06-02T14:23:24.123Z"
   },
   {
    "duration": 4,
    "start_time": "2024-06-02T14:23:30.106Z"
   },
   {
    "duration": 2,
    "start_time": "2024-06-02T14:23:39.619Z"
   },
   {
    "duration": 15,
    "start_time": "2024-06-02T14:23:44.631Z"
   },
   {
    "duration": 11,
    "start_time": "2024-06-02T14:24:22.821Z"
   },
   {
    "duration": 950,
    "start_time": "2024-06-02T14:25:27.127Z"
   },
   {
    "duration": 10,
    "start_time": "2024-06-02T14:25:29.875Z"
   },
   {
    "duration": 11,
    "start_time": "2024-06-02T14:25:47.077Z"
   },
   {
    "duration": 61,
    "start_time": "2024-06-02T14:25:56.423Z"
   },
   {
    "duration": 9,
    "start_time": "2024-06-02T14:26:00.900Z"
   },
   {
    "duration": 1049,
    "start_time": "2024-06-02T14:26:18.835Z"
   },
   {
    "duration": 874,
    "start_time": "2024-06-02T14:26:39.037Z"
   },
   {
    "duration": 432,
    "start_time": "2024-06-02T14:26:55.992Z"
   },
   {
    "duration": 20,
    "start_time": "2024-06-02T14:26:56.426Z"
   },
   {
    "duration": 24,
    "start_time": "2024-06-02T14:26:56.447Z"
   },
   {
    "duration": 24,
    "start_time": "2024-06-02T14:26:56.473Z"
   },
   {
    "duration": 78,
    "start_time": "2024-06-02T14:26:56.500Z"
   },
   {
    "duration": 3,
    "start_time": "2024-06-02T14:26:56.581Z"
   },
   {
    "duration": 20,
    "start_time": "2024-06-02T14:26:56.585Z"
   },
   {
    "duration": 40,
    "start_time": "2024-06-02T14:26:56.606Z"
   },
   {
    "duration": 18,
    "start_time": "2024-06-02T14:26:56.648Z"
   },
   {
    "duration": 16,
    "start_time": "2024-06-02T14:26:56.668Z"
   },
   {
    "duration": 77,
    "start_time": "2024-06-02T14:26:56.686Z"
   },
   {
    "duration": 10,
    "start_time": "2024-06-02T14:26:56.764Z"
   },
   {
    "duration": 28,
    "start_time": "2024-06-02T14:26:56.775Z"
   },
   {
    "duration": 19,
    "start_time": "2024-06-02T14:26:56.805Z"
   },
   {
    "duration": 55,
    "start_time": "2024-06-02T14:26:56.825Z"
   },
   {
    "duration": 17,
    "start_time": "2024-06-02T14:26:56.881Z"
   },
   {
    "duration": 23,
    "start_time": "2024-06-02T14:26:56.900Z"
   },
   {
    "duration": 50,
    "start_time": "2024-06-02T14:26:56.925Z"
   },
   {
    "duration": 30,
    "start_time": "2024-06-02T14:26:56.977Z"
   },
   {
    "duration": 16,
    "start_time": "2024-06-02T14:26:57.009Z"
   },
   {
    "duration": 36,
    "start_time": "2024-06-02T14:26:57.027Z"
   },
   {
    "duration": 53,
    "start_time": "2024-06-02T14:26:57.065Z"
   },
   {
    "duration": 43,
    "start_time": "2024-06-02T14:26:57.120Z"
   },
   {
    "duration": 26,
    "start_time": "2024-06-02T14:26:57.164Z"
   },
   {
    "duration": 28,
    "start_time": "2024-06-02T14:26:57.191Z"
   },
   {
    "duration": 13,
    "start_time": "2024-06-02T14:28:13.713Z"
   },
   {
    "duration": 13,
    "start_time": "2024-06-02T14:28:27.977Z"
   },
   {
    "duration": 12,
    "start_time": "2024-06-02T14:28:33.627Z"
   },
   {
    "duration": 21,
    "start_time": "2024-06-02T14:35:16.464Z"
   },
   {
    "duration": 12,
    "start_time": "2024-06-02T14:36:06.838Z"
   },
   {
    "duration": 62,
    "start_time": "2024-06-02T14:39:15.746Z"
   },
   {
    "duration": 9,
    "start_time": "2024-06-02T14:39:29.698Z"
   },
   {
    "duration": 11,
    "start_time": "2024-06-02T14:39:38.995Z"
   },
   {
    "duration": 12,
    "start_time": "2024-06-02T14:39:46.656Z"
   },
   {
    "duration": 6,
    "start_time": "2024-06-02T14:39:53.006Z"
   },
   {
    "duration": 13,
    "start_time": "2024-06-02T14:40:32.738Z"
   },
   {
    "duration": 8,
    "start_time": "2024-06-02T14:40:55.164Z"
   },
   {
    "duration": 14,
    "start_time": "2024-06-02T14:46:29.598Z"
   },
   {
    "duration": 14,
    "start_time": "2024-06-02T14:46:32.874Z"
   },
   {
    "duration": 13,
    "start_time": "2024-06-02T14:46:49.671Z"
   },
   {
    "duration": 16,
    "start_time": "2024-06-02T14:47:05.437Z"
   },
   {
    "duration": 18,
    "start_time": "2024-06-02T14:55:35.763Z"
   },
   {
    "duration": 11,
    "start_time": "2024-06-02T14:55:59.312Z"
   },
   {
    "duration": 16,
    "start_time": "2024-06-02T15:02:03.343Z"
   },
   {
    "duration": 14,
    "start_time": "2024-06-02T15:03:23.820Z"
   },
   {
    "duration": 16,
    "start_time": "2024-06-02T15:03:43.644Z"
   },
   {
    "duration": 14,
    "start_time": "2024-06-02T15:04:40.475Z"
   },
   {
    "duration": 19,
    "start_time": "2024-06-02T15:24:30.878Z"
   },
   {
    "duration": 13,
    "start_time": "2024-06-02T15:24:41.587Z"
   },
   {
    "duration": 12,
    "start_time": "2024-06-02T15:25:20.030Z"
   },
   {
    "duration": 12,
    "start_time": "2024-06-02T15:25:35.609Z"
   },
   {
    "duration": 61,
    "start_time": "2024-06-02T15:27:38.374Z"
   },
   {
    "duration": 62,
    "start_time": "2024-06-02T15:27:41.600Z"
   },
   {
    "duration": 19,
    "start_time": "2024-06-02T15:27:53.118Z"
   },
   {
    "duration": 13,
    "start_time": "2024-06-02T15:28:03.186Z"
   },
   {
    "duration": 13,
    "start_time": "2024-06-02T15:28:08.272Z"
   },
   {
    "duration": 11,
    "start_time": "2024-06-02T15:28:24.087Z"
   },
   {
    "duration": 20,
    "start_time": "2024-06-02T15:28:46.879Z"
   },
   {
    "duration": 21,
    "start_time": "2024-06-02T15:29:17.439Z"
   },
   {
    "duration": 19,
    "start_time": "2024-06-02T15:29:35.315Z"
   },
   {
    "duration": 20,
    "start_time": "2024-06-02T15:29:47.191Z"
   },
   {
    "duration": 19,
    "start_time": "2024-06-02T15:30:24.879Z"
   },
   {
    "duration": 14,
    "start_time": "2024-06-02T15:42:49.223Z"
   },
   {
    "duration": 13,
    "start_time": "2024-06-02T15:43:00.610Z"
   },
   {
    "duration": 15,
    "start_time": "2024-06-02T15:44:11.884Z"
   },
   {
    "duration": 14,
    "start_time": "2024-06-02T15:44:59.798Z"
   },
   {
    "duration": 16,
    "start_time": "2024-06-02T15:45:09.112Z"
   },
   {
    "duration": 13,
    "start_time": "2024-06-02T15:45:18.525Z"
   },
   {
    "duration": 17,
    "start_time": "2024-06-02T15:45:28.146Z"
   },
   {
    "duration": 14,
    "start_time": "2024-06-02T15:45:44.887Z"
   },
   {
    "duration": 12,
    "start_time": "2024-06-02T15:45:52.548Z"
   },
   {
    "duration": 11,
    "start_time": "2024-06-02T15:45:56.822Z"
   },
   {
    "duration": 16,
    "start_time": "2024-06-02T15:46:02.147Z"
   },
   {
    "duration": 13,
    "start_time": "2024-06-02T15:47:44.646Z"
   },
   {
    "duration": 20,
    "start_time": "2024-06-02T16:01:33.067Z"
   },
   {
    "duration": 465,
    "start_time": "2024-06-02T16:38:06.656Z"
   },
   {
    "duration": 20,
    "start_time": "2024-06-02T16:38:07.123Z"
   },
   {
    "duration": 49,
    "start_time": "2024-06-02T16:38:07.145Z"
   },
   {
    "duration": 17,
    "start_time": "2024-06-02T16:38:07.196Z"
   },
   {
    "duration": 65,
    "start_time": "2024-06-02T16:38:07.215Z"
   },
   {
    "duration": 8,
    "start_time": "2024-06-02T16:38:07.281Z"
   },
   {
    "duration": 28,
    "start_time": "2024-06-02T16:38:07.291Z"
   },
   {
    "duration": 29,
    "start_time": "2024-06-02T16:38:07.320Z"
   },
   {
    "duration": 35,
    "start_time": "2024-06-02T16:38:07.351Z"
   },
   {
    "duration": 27,
    "start_time": "2024-06-02T16:38:07.388Z"
   },
   {
    "duration": 57,
    "start_time": "2024-06-02T16:38:07.417Z"
   },
   {
    "duration": 11,
    "start_time": "2024-06-02T16:38:07.476Z"
   },
   {
    "duration": 18,
    "start_time": "2024-06-02T16:38:07.489Z"
   },
   {
    "duration": 26,
    "start_time": "2024-06-02T16:38:07.509Z"
   },
   {
    "duration": 35,
    "start_time": "2024-06-02T16:38:07.536Z"
   },
   {
    "duration": 26,
    "start_time": "2024-06-02T16:38:07.573Z"
   },
   {
    "duration": 3,
    "start_time": "2024-06-02T16:38:07.601Z"
   },
   {
    "duration": 32,
    "start_time": "2024-06-02T16:38:07.605Z"
   },
   {
    "duration": 11,
    "start_time": "2024-06-02T16:38:07.639Z"
   },
   {
    "duration": 23,
    "start_time": "2024-06-02T16:38:07.652Z"
   },
   {
    "duration": 25,
    "start_time": "2024-06-02T16:38:07.676Z"
   },
   {
    "duration": 31,
    "start_time": "2024-06-02T16:38:07.703Z"
   },
   {
    "duration": 40,
    "start_time": "2024-06-02T16:38:07.735Z"
   },
   {
    "duration": 22,
    "start_time": "2024-06-02T16:38:07.777Z"
   },
   {
    "duration": 30,
    "start_time": "2024-06-02T16:38:07.801Z"
   },
   {
    "duration": 484,
    "start_time": "2024-06-02T16:42:30.621Z"
   },
   {
    "duration": 20,
    "start_time": "2024-06-02T16:42:31.107Z"
   },
   {
    "duration": 67,
    "start_time": "2024-06-02T16:42:31.128Z"
   },
   {
    "duration": 92,
    "start_time": "2024-06-02T16:42:31.197Z"
   },
   {
    "duration": 76,
    "start_time": "2024-06-02T16:42:31.290Z"
   },
   {
    "duration": 32,
    "start_time": "2024-06-02T16:42:31.368Z"
   },
   {
    "duration": 131,
    "start_time": "2024-06-02T16:42:31.401Z"
   },
   {
    "duration": 70,
    "start_time": "2024-06-02T16:42:31.534Z"
   },
   {
    "duration": 125,
    "start_time": "2024-06-02T16:42:31.606Z"
   },
   {
    "duration": 21,
    "start_time": "2024-06-02T16:42:31.734Z"
   },
   {
    "duration": 49,
    "start_time": "2024-06-02T16:42:31.756Z"
   },
   {
    "duration": 9,
    "start_time": "2024-06-02T16:42:31.807Z"
   },
   {
    "duration": 17,
    "start_time": "2024-06-02T16:42:31.818Z"
   },
   {
    "duration": 26,
    "start_time": "2024-06-02T16:42:31.836Z"
   },
   {
    "duration": 38,
    "start_time": "2024-06-02T16:42:31.864Z"
   },
   {
    "duration": 17,
    "start_time": "2024-06-02T16:42:31.904Z"
   },
   {
    "duration": 3,
    "start_time": "2024-06-02T16:42:31.922Z"
   },
   {
    "duration": 31,
    "start_time": "2024-06-02T16:42:31.927Z"
   },
   {
    "duration": 5,
    "start_time": "2024-06-02T16:42:31.959Z"
   },
   {
    "duration": 19,
    "start_time": "2024-06-02T16:42:31.965Z"
   },
   {
    "duration": 44,
    "start_time": "2024-06-02T16:42:31.986Z"
   },
   {
    "duration": 35,
    "start_time": "2024-06-02T16:42:32.032Z"
   },
   {
    "duration": 61,
    "start_time": "2024-06-02T16:42:32.068Z"
   },
   {
    "duration": 21,
    "start_time": "2024-06-02T16:42:32.130Z"
   },
   {
    "duration": 35,
    "start_time": "2024-06-02T16:42:32.152Z"
   },
   {
    "duration": 680,
    "start_time": "2024-06-03T04:18:39.477Z"
   },
   {
    "duration": 31,
    "start_time": "2024-06-03T04:18:40.159Z"
   },
   {
    "duration": 23,
    "start_time": "2024-06-03T04:18:40.191Z"
   },
   {
    "duration": 13,
    "start_time": "2024-06-03T04:18:40.217Z"
   },
   {
    "duration": 33,
    "start_time": "2024-06-03T04:18:40.232Z"
   },
   {
    "duration": 3,
    "start_time": "2024-06-03T04:18:40.267Z"
   },
   {
    "duration": 8,
    "start_time": "2024-06-03T04:18:40.271Z"
   },
   {
    "duration": 21,
    "start_time": "2024-06-03T04:18:40.280Z"
   },
   {
    "duration": 6,
    "start_time": "2024-06-03T04:18:40.302Z"
   },
   {
    "duration": 4,
    "start_time": "2024-06-03T04:18:40.310Z"
   },
   {
    "duration": 32,
    "start_time": "2024-06-03T04:18:40.315Z"
   },
   {
    "duration": 9,
    "start_time": "2024-06-03T04:18:40.348Z"
   },
   {
    "duration": 2,
    "start_time": "2024-06-03T04:18:40.359Z"
   },
   {
    "duration": 39,
    "start_time": "2024-06-03T04:18:40.363Z"
   },
   {
    "duration": 25,
    "start_time": "2024-06-03T04:18:40.404Z"
   },
   {
    "duration": 16,
    "start_time": "2024-06-03T04:18:40.431Z"
   },
   {
    "duration": 4,
    "start_time": "2024-06-03T04:18:40.448Z"
   },
   {
    "duration": 46,
    "start_time": "2024-06-03T04:18:40.454Z"
   },
   {
    "duration": 6,
    "start_time": "2024-06-03T04:18:40.502Z"
   },
   {
    "duration": 4,
    "start_time": "2024-06-03T04:18:40.509Z"
   },
   {
    "duration": 11,
    "start_time": "2024-06-03T04:18:40.514Z"
   },
   {
    "duration": 12,
    "start_time": "2024-06-03T04:18:40.526Z"
   },
   {
    "duration": 12,
    "start_time": "2024-06-03T04:18:40.539Z"
   },
   {
    "duration": 15,
    "start_time": "2024-06-03T04:18:40.553Z"
   },
   {
    "duration": 13,
    "start_time": "2024-06-03T04:18:40.600Z"
   },
   {
    "duration": 11,
    "start_time": "2024-06-03T04:24:17.251Z"
   },
   {
    "duration": 13,
    "start_time": "2024-06-03T04:24:24.624Z"
   },
   {
    "duration": 12,
    "start_time": "2024-06-03T04:24:32.303Z"
   },
   {
    "duration": 18,
    "start_time": "2024-06-03T04:31:12.084Z"
   },
   {
    "duration": 25,
    "start_time": "2024-06-03T04:32:52.937Z"
   },
   {
    "duration": 15,
    "start_time": "2024-06-03T04:34:01.573Z"
   },
   {
    "duration": 6,
    "start_time": "2024-06-03T04:34:13.527Z"
   },
   {
    "duration": 347,
    "start_time": "2024-06-03T04:36:47.176Z"
   },
   {
    "duration": 207,
    "start_time": "2024-06-03T04:37:25.343Z"
   },
   {
    "duration": 3,
    "start_time": "2024-06-03T04:39:22.469Z"
   },
   {
    "duration": 207,
    "start_time": "2024-06-03T04:39:27.700Z"
   },
   {
    "duration": 57,
    "start_time": "2024-06-03T04:41:05.538Z"
   },
   {
    "duration": 46,
    "start_time": "2024-06-03T04:41:26.732Z"
   },
   {
    "duration": 45,
    "start_time": "2024-06-03T04:41:38.908Z"
   },
   {
    "duration": 430,
    "start_time": "2024-06-03T04:41:41.145Z"
   },
   {
    "duration": 452,
    "start_time": "2024-06-03T04:41:49.058Z"
   },
   {
    "duration": 58,
    "start_time": "2024-06-03T04:43:47.500Z"
   },
   {
    "duration": 437,
    "start_time": "2024-06-03T04:43:51.301Z"
   },
   {
    "duration": 1322,
    "start_time": "2024-06-03T04:45:01.312Z"
   },
   {
    "duration": 431,
    "start_time": "2024-06-03T04:45:10.836Z"
   },
   {
    "duration": 467,
    "start_time": "2024-06-03T04:45:18.254Z"
   },
   {
    "duration": 434,
    "start_time": "2024-06-03T04:45:42.493Z"
   },
   {
    "duration": 568,
    "start_time": "2024-06-03T04:53:32.604Z"
   },
   {
    "duration": 151,
    "start_time": "2024-06-03T04:54:26.082Z"
   },
   {
    "duration": 151,
    "start_time": "2024-06-03T04:55:00.258Z"
   },
   {
    "duration": 44,
    "start_time": "2024-06-03T04:55:32.411Z"
   },
   {
    "duration": 45,
    "start_time": "2024-06-03T04:55:41.743Z"
   },
   {
    "duration": 190,
    "start_time": "2024-06-03T04:55:51.456Z"
   },
   {
    "duration": 657,
    "start_time": "2024-06-03T04:56:16.795Z"
   },
   {
    "duration": 136,
    "start_time": "2024-06-03T04:56:23.011Z"
   },
   {
    "duration": 142,
    "start_time": "2024-06-03T04:57:07.847Z"
   },
   {
    "duration": 148,
    "start_time": "2024-06-03T04:57:22.899Z"
   },
   {
    "duration": 143,
    "start_time": "2024-06-03T04:57:55.668Z"
   },
   {
    "duration": 23,
    "start_time": "2024-06-03T04:58:06.932Z"
   },
   {
    "duration": 24,
    "start_time": "2024-06-03T04:58:54.198Z"
   },
   {
    "duration": 9,
    "start_time": "2024-06-03T04:59:15.848Z"
   },
   {
    "duration": 16,
    "start_time": "2024-06-03T04:59:36.487Z"
   },
   {
    "duration": 8,
    "start_time": "2024-06-03T05:00:42.171Z"
   },
   {
    "duration": 15,
    "start_time": "2024-06-03T05:00:53.025Z"
   },
   {
    "duration": 12,
    "start_time": "2024-06-03T05:01:10.288Z"
   },
   {
    "duration": 128,
    "start_time": "2024-06-03T05:01:17.839Z"
   },
   {
    "duration": 131,
    "start_time": "2024-06-03T05:01:49.701Z"
   },
   {
    "duration": 141,
    "start_time": "2024-06-03T05:05:25.248Z"
   },
   {
    "duration": 140,
    "start_time": "2024-06-03T05:05:32.505Z"
   },
   {
    "duration": 131,
    "start_time": "2024-06-03T05:06:04.425Z"
   },
   {
    "duration": 125,
    "start_time": "2024-06-03T05:06:26.134Z"
   },
   {
    "duration": 143,
    "start_time": "2024-06-03T05:06:33.833Z"
   },
   {
    "duration": 128,
    "start_time": "2024-06-03T05:09:04.547Z"
   },
   {
    "duration": 130,
    "start_time": "2024-06-03T05:09:21.274Z"
   },
   {
    "duration": 139,
    "start_time": "2024-06-03T05:09:29.634Z"
   },
   {
    "duration": 139,
    "start_time": "2024-06-03T05:09:38.646Z"
   },
   {
    "duration": 143,
    "start_time": "2024-06-03T05:09:57.002Z"
   },
   {
    "duration": 143,
    "start_time": "2024-06-03T05:10:47.477Z"
   },
   {
    "duration": 147,
    "start_time": "2024-06-03T05:11:18.079Z"
   },
   {
    "duration": 146,
    "start_time": "2024-06-03T05:13:09.796Z"
   },
   {
    "duration": 150,
    "start_time": "2024-06-03T05:13:14.366Z"
   },
   {
    "duration": 473,
    "start_time": "2024-06-03T05:24:46.015Z"
   },
   {
    "duration": 24,
    "start_time": "2024-06-03T05:24:46.490Z"
   },
   {
    "duration": 16,
    "start_time": "2024-06-03T05:24:46.516Z"
   },
   {
    "duration": 12,
    "start_time": "2024-06-03T05:24:46.534Z"
   },
   {
    "duration": 68,
    "start_time": "2024-06-03T05:24:46.548Z"
   },
   {
    "duration": 4,
    "start_time": "2024-06-03T05:24:46.617Z"
   },
   {
    "duration": 9,
    "start_time": "2024-06-03T05:24:46.623Z"
   },
   {
    "duration": 4,
    "start_time": "2024-06-03T05:24:46.634Z"
   },
   {
    "duration": 11,
    "start_time": "2024-06-03T05:24:46.640Z"
   },
   {
    "duration": 5,
    "start_time": "2024-06-03T05:24:46.652Z"
   },
   {
    "duration": 72,
    "start_time": "2024-06-03T05:24:46.658Z"
   },
   {
    "duration": 12,
    "start_time": "2024-06-03T05:24:46.731Z"
   },
   {
    "duration": 4,
    "start_time": "2024-06-03T05:24:46.745Z"
   },
   {
    "duration": 11,
    "start_time": "2024-06-03T05:24:46.753Z"
   },
   {
    "duration": 51,
    "start_time": "2024-06-03T05:24:46.766Z"
   },
   {
    "duration": 17,
    "start_time": "2024-06-03T05:24:46.819Z"
   },
   {
    "duration": 4,
    "start_time": "2024-06-03T05:24:46.837Z"
   },
   {
    "duration": 26,
    "start_time": "2024-06-03T05:24:46.843Z"
   },
   {
    "duration": 32,
    "start_time": "2024-06-03T05:24:46.871Z"
   },
   {
    "duration": 4,
    "start_time": "2024-06-03T05:24:46.905Z"
   },
   {
    "duration": 24,
    "start_time": "2024-06-03T05:24:46.910Z"
   },
   {
    "duration": 171,
    "start_time": "2024-06-03T05:24:46.936Z"
   },
   {
    "duration": 14,
    "start_time": "2024-06-03T05:24:47.108Z"
   },
   {
    "duration": 161,
    "start_time": "2024-06-03T05:24:47.124Z"
   },
   {
    "duration": 19,
    "start_time": "2024-06-03T05:24:47.287Z"
   },
   {
    "duration": 470,
    "start_time": "2024-06-03T05:56:52.880Z"
   },
   {
    "duration": 20,
    "start_time": "2024-06-03T05:56:53.352Z"
   },
   {
    "duration": 14,
    "start_time": "2024-06-03T05:56:53.373Z"
   },
   {
    "duration": 28,
    "start_time": "2024-06-03T05:56:53.389Z"
   },
   {
    "duration": 35,
    "start_time": "2024-06-03T05:56:53.419Z"
   },
   {
    "duration": 4,
    "start_time": "2024-06-03T05:56:53.455Z"
   },
   {
    "duration": 8,
    "start_time": "2024-06-03T05:56:53.461Z"
   },
   {
    "duration": 4,
    "start_time": "2024-06-03T05:56:53.471Z"
   },
   {
    "duration": 31,
    "start_time": "2024-06-03T05:56:53.476Z"
   },
   {
    "duration": 8,
    "start_time": "2024-06-03T05:56:53.509Z"
   },
   {
    "duration": 32,
    "start_time": "2024-06-03T05:56:53.518Z"
   },
   {
    "duration": 10,
    "start_time": "2024-06-03T05:56:53.551Z"
   },
   {
    "duration": 7,
    "start_time": "2024-06-03T05:56:53.562Z"
   },
   {
    "duration": 46,
    "start_time": "2024-06-03T05:56:53.571Z"
   },
   {
    "duration": 18,
    "start_time": "2024-06-03T05:56:53.619Z"
   },
   {
    "duration": 14,
    "start_time": "2024-06-03T05:56:53.638Z"
   },
   {
    "duration": 3,
    "start_time": "2024-06-03T05:56:53.654Z"
   },
   {
    "duration": 44,
    "start_time": "2024-06-03T05:56:53.658Z"
   },
   {
    "duration": 11,
    "start_time": "2024-06-03T05:56:53.704Z"
   },
   {
    "duration": 4,
    "start_time": "2024-06-03T05:56:53.717Z"
   },
   {
    "duration": 24,
    "start_time": "2024-06-03T05:56:53.723Z"
   },
   {
    "duration": 181,
    "start_time": "2024-06-03T05:56:53.748Z"
   },
   {
    "duration": 12,
    "start_time": "2024-06-03T05:56:53.931Z"
   },
   {
    "duration": 154,
    "start_time": "2024-06-03T05:56:53.944Z"
   },
   {
    "duration": 20,
    "start_time": "2024-06-03T05:56:54.099Z"
   },
   {
    "duration": 14,
    "start_time": "2024-06-03T05:57:46.025Z"
   },
   {
    "duration": 137,
    "start_time": "2024-06-03T05:59:22.097Z"
   },
   {
    "duration": 134,
    "start_time": "2024-06-03T06:00:43.698Z"
   },
   {
    "duration": 174,
    "start_time": "2024-06-03T06:00:58.336Z"
   },
   {
    "duration": 131,
    "start_time": "2024-06-03T06:02:38.791Z"
   },
   {
    "duration": 13,
    "start_time": "2024-06-03T06:15:18.515Z"
   },
   {
    "duration": 13,
    "start_time": "2024-06-03T06:15:31.752Z"
   },
   {
    "duration": 446,
    "start_time": "2024-06-03T06:26:45.045Z"
   },
   {
    "duration": 29,
    "start_time": "2024-06-03T06:26:45.492Z"
   },
   {
    "duration": 15,
    "start_time": "2024-06-03T06:26:45.522Z"
   },
   {
    "duration": 10,
    "start_time": "2024-06-03T06:26:45.538Z"
   },
   {
    "duration": 49,
    "start_time": "2024-06-03T06:26:45.550Z"
   },
   {
    "duration": 4,
    "start_time": "2024-06-03T06:26:45.602Z"
   },
   {
    "duration": 15,
    "start_time": "2024-06-03T06:26:45.608Z"
   },
   {
    "duration": 6,
    "start_time": "2024-06-03T06:26:45.624Z"
   },
   {
    "duration": 6,
    "start_time": "2024-06-03T06:26:45.631Z"
   },
   {
    "duration": 3,
    "start_time": "2024-06-03T06:26:45.640Z"
   },
   {
    "duration": 34,
    "start_time": "2024-06-03T06:26:45.645Z"
   },
   {
    "duration": 20,
    "start_time": "2024-06-03T06:26:45.700Z"
   },
   {
    "duration": 8,
    "start_time": "2024-06-03T06:26:45.722Z"
   },
   {
    "duration": 12,
    "start_time": "2024-06-03T06:26:45.731Z"
   },
   {
    "duration": 20,
    "start_time": "2024-06-03T06:26:45.744Z"
   },
   {
    "duration": 41,
    "start_time": "2024-06-03T06:26:45.765Z"
   },
   {
    "duration": 5,
    "start_time": "2024-06-03T06:26:45.809Z"
   },
   {
    "duration": 29,
    "start_time": "2024-06-03T06:26:45.816Z"
   },
   {
    "duration": 6,
    "start_time": "2024-06-03T06:26:45.847Z"
   },
   {
    "duration": 4,
    "start_time": "2024-06-03T06:26:45.855Z"
   },
   {
    "duration": 59,
    "start_time": "2024-06-03T06:26:45.860Z"
   },
   {
    "duration": 156,
    "start_time": "2024-06-03T06:26:45.921Z"
   },
   {
    "duration": 11,
    "start_time": "2024-06-03T06:26:46.079Z"
   },
   {
    "duration": 160,
    "start_time": "2024-06-03T06:26:46.099Z"
   },
   {
    "duration": 12,
    "start_time": "2024-06-03T06:26:46.260Z"
   },
   {
    "duration": 509,
    "start_time": "2024-06-03T07:29:23.098Z"
   },
   {
    "duration": 25,
    "start_time": "2024-06-03T07:29:23.609Z"
   },
   {
    "duration": 15,
    "start_time": "2024-06-03T07:29:23.636Z"
   },
   {
    "duration": 9,
    "start_time": "2024-06-03T07:29:23.652Z"
   },
   {
    "duration": 58,
    "start_time": "2024-06-03T07:29:23.663Z"
   },
   {
    "duration": 2,
    "start_time": "2024-06-03T07:29:23.723Z"
   },
   {
    "duration": 8,
    "start_time": "2024-06-03T07:29:23.727Z"
   },
   {
    "duration": 4,
    "start_time": "2024-06-03T07:29:23.736Z"
   },
   {
    "duration": 10,
    "start_time": "2024-06-03T07:29:23.741Z"
   },
   {
    "duration": 4,
    "start_time": "2024-06-03T07:29:23.752Z"
   },
   {
    "duration": 63,
    "start_time": "2024-06-03T07:29:23.757Z"
   },
   {
    "duration": 9,
    "start_time": "2024-06-03T07:29:23.821Z"
   },
   {
    "duration": 4,
    "start_time": "2024-06-03T07:29:23.831Z"
   },
   {
    "duration": 11,
    "start_time": "2024-06-03T07:29:23.837Z"
   },
   {
    "duration": 18,
    "start_time": "2024-06-03T07:29:23.850Z"
   },
   {
    "duration": 47,
    "start_time": "2024-06-03T07:29:23.870Z"
   },
   {
    "duration": 3,
    "start_time": "2024-06-03T07:29:23.919Z"
   },
   {
    "duration": 28,
    "start_time": "2024-06-03T07:29:23.923Z"
   },
   {
    "duration": 7,
    "start_time": "2024-06-03T07:29:23.953Z"
   },
   {
    "duration": 3,
    "start_time": "2024-06-03T07:29:23.962Z"
   },
   {
    "duration": 56,
    "start_time": "2024-06-03T07:29:23.967Z"
   },
   {
    "duration": 153,
    "start_time": "2024-06-03T07:29:24.024Z"
   },
   {
    "duration": 12,
    "start_time": "2024-06-03T07:29:24.178Z"
   },
   {
    "duration": 164,
    "start_time": "2024-06-03T07:29:24.192Z"
   },
   {
    "duration": 12,
    "start_time": "2024-06-03T07:29:24.358Z"
   },
   {
    "duration": 717,
    "start_time": "2024-06-03T07:46:07.220Z"
   },
   {
    "duration": 24,
    "start_time": "2024-06-03T07:46:07.939Z"
   },
   {
    "duration": 16,
    "start_time": "2024-06-03T07:46:07.965Z"
   },
   {
    "duration": 13,
    "start_time": "2024-06-03T07:46:07.983Z"
   },
   {
    "duration": 49,
    "start_time": "2024-06-03T07:46:07.998Z"
   },
   {
    "duration": 3,
    "start_time": "2024-06-03T07:46:08.053Z"
   },
   {
    "duration": 11,
    "start_time": "2024-06-03T07:46:08.058Z"
   },
   {
    "duration": 10,
    "start_time": "2024-06-03T07:46:08.070Z"
   },
   {
    "duration": 23,
    "start_time": "2024-06-03T07:46:08.082Z"
   },
   {
    "duration": 15,
    "start_time": "2024-06-03T07:46:08.108Z"
   },
   {
    "duration": 48,
    "start_time": "2024-06-03T07:46:08.125Z"
   },
   {
    "duration": 13,
    "start_time": "2024-06-03T07:46:08.175Z"
   },
   {
    "duration": 8,
    "start_time": "2024-06-03T07:46:08.190Z"
   },
   {
    "duration": 15,
    "start_time": "2024-06-03T07:46:08.200Z"
   },
   {
    "duration": 37,
    "start_time": "2024-06-03T07:46:08.216Z"
   },
   {
    "duration": 18,
    "start_time": "2024-06-03T07:46:08.254Z"
   },
   {
    "duration": 4,
    "start_time": "2024-06-03T07:46:08.273Z"
   },
   {
    "duration": 33,
    "start_time": "2024-06-03T07:46:08.278Z"
   },
   {
    "duration": 6,
    "start_time": "2024-06-03T07:46:08.312Z"
   },
   {
    "duration": 12,
    "start_time": "2024-06-03T07:46:08.319Z"
   },
   {
    "duration": 58,
    "start_time": "2024-06-03T07:46:08.333Z"
   },
   {
    "duration": 79,
    "start_time": "2024-06-03T07:46:11.417Z"
   },
   {
    "duration": 15,
    "start_time": "2024-06-03T07:46:11.498Z"
   },
   {
    "duration": 16,
    "start_time": "2024-06-03T07:46:11.514Z"
   },
   {
    "duration": 23,
    "start_time": "2024-06-03T07:46:11.532Z"
   },
   {
    "duration": 38,
    "start_time": "2024-06-03T07:46:11.556Z"
   },
   {
    "duration": 4,
    "start_time": "2024-06-03T07:46:11.595Z"
   },
   {
    "duration": 21,
    "start_time": "2024-06-03T07:46:11.600Z"
   },
   {
    "duration": 6,
    "start_time": "2024-06-03T07:46:11.623Z"
   },
   {
    "duration": 23,
    "start_time": "2024-06-03T07:46:11.631Z"
   },
   {
    "duration": 13,
    "start_time": "2024-06-03T07:46:11.657Z"
   },
   {
    "duration": 42,
    "start_time": "2024-06-03T07:46:11.672Z"
   },
   {
    "duration": 11,
    "start_time": "2024-06-03T07:46:11.716Z"
   },
   {
    "duration": 6,
    "start_time": "2024-06-03T07:46:11.728Z"
   },
   {
    "duration": 27,
    "start_time": "2024-06-03T07:46:11.735Z"
   },
   {
    "duration": 26,
    "start_time": "2024-06-03T07:46:11.763Z"
   },
   {
    "duration": 18,
    "start_time": "2024-06-03T07:46:11.791Z"
   },
   {
    "duration": 3,
    "start_time": "2024-06-03T07:46:11.811Z"
   },
   {
    "duration": 46,
    "start_time": "2024-06-03T07:46:11.816Z"
   },
   {
    "duration": 7,
    "start_time": "2024-06-03T07:46:11.863Z"
   },
   {
    "duration": 20,
    "start_time": "2024-06-03T07:46:11.872Z"
   },
   {
    "duration": 31,
    "start_time": "2024-06-03T07:46:11.894Z"
   },
   {
    "duration": 200,
    "start_time": "2024-06-03T07:46:11.926Z"
   },
   {
    "duration": 14,
    "start_time": "2024-06-03T07:46:12.127Z"
   },
   {
    "duration": 186,
    "start_time": "2024-06-03T07:46:12.153Z"
   },
   {
    "duration": 20,
    "start_time": "2024-06-03T07:46:12.340Z"
   },
   {
    "duration": 131,
    "start_time": "2024-06-03T08:25:53.814Z"
   },
   {
    "duration": 51,
    "start_time": "2024-06-03T08:31:24.969Z"
   },
   {
    "duration": 48,
    "start_time": "2024-06-03T08:31:44.620Z"
   },
   {
    "duration": 170,
    "start_time": "2024-06-03T08:31:52.282Z"
   },
   {
    "duration": 50,
    "start_time": "2024-06-03T08:31:59.483Z"
   },
   {
    "duration": 49,
    "start_time": "2024-06-03T08:32:22.376Z"
   },
   {
    "duration": 50,
    "start_time": "2024-06-03T08:37:27.324Z"
   },
   {
    "duration": 45,
    "start_time": "2024-06-03T08:37:31.477Z"
   },
   {
    "duration": 47,
    "start_time": "2024-06-03T08:37:40.021Z"
   }
  ],
  "colab": {
   "provenance": []
  },
  "kernelspec": {
   "display_name": "Python 3 (ipykernel)",
   "language": "python",
   "name": "python3"
  },
  "language_info": {
   "codemirror_mode": {
    "name": "ipython",
    "version": 3
   },
   "file_extension": ".py",
   "mimetype": "text/x-python",
   "name": "python",
   "nbconvert_exporter": "python",
   "pygments_lexer": "ipython3",
   "version": "3.9.5"
  },
  "toc": {
   "base_numbering": 1,
   "nav_menu": {},
   "number_sections": true,
   "sideBar": true,
   "skip_h1_title": true,
   "title_cell": "Table of Contents",
   "title_sidebar": "Contents",
   "toc_cell": false,
   "toc_position": {
    "height": "calc(100% - 180px)",
    "left": "10px",
    "top": "150px",
    "width": "452.943px"
   },
   "toc_section_display": true,
   "toc_window_display": true
  }
 },
 "nbformat": 4,
 "nbformat_minor": 5
}
