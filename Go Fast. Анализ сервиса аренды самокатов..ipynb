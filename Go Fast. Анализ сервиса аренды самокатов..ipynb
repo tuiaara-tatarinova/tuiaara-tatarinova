{
 "cells": [
  {
   "cell_type": "markdown",
   "id": "3d830c35",
   "metadata": {},
   "source": [
    "# Проект: Статистический анализ данных\n",
    "\n",
    "**Описание и цели проекта**\n",
    "\n",
    "Популярный сервис аренды самокато Go Fast передал данные о некоторых пользователях из нескольких городов, а также об их поездках. Нужно проанализировать данные и проверить некоторые гипотезы, которые могут помочь бизнесу вырасти. Чтобы совершать поездки по городу, пользователи сервиса GoFast пользуются мобильным приложением. \n",
    "\n",
    "Чтобы совершать поездки по городу, пользователи сервиса GoFast пользуются мобильным приложением. \n",
    "\n",
    "Сервисом можно пользоваться:\n",
    "\n",
    "- *без подписки*\n",
    " - абонентская плата отсутствует;\n",
    " - стоимость одной минуты поездки — 8 рублей;\n",
    " - стоимость старта (начала поездки) — 50 рублей;\n",
    "\n",
    "- *с подпиской Ultra*\n",
    " - абонентская плата — 199 рублей в месяц;\n",
    " - стоимость одной минуты поездки — 6 рублей;\n",
    " - стоимость старта — бесплатно.\n",
    " \n",
    " \n",
    "В основных данных есть информация о пользователях, их поездках и подписках.\n",
    "\n",
    "- Пользователи — `users_go.csv`\n",
    "\n",
    "\n",
    "*user_id*\t- уникальный идентификатор пользователя\n",
    "\n",
    "*name*\t- имя пользователя\n",
    "\n",
    "*age*\t- возраст\n",
    "\n",
    "*city*\t- город\n",
    "\n",
    "*subscription_type* -\tтип подписки (free, ultra)\n",
    "\n",
    "\n",
    "- Поездки — `rides_go.csv`\n",
    "\n",
    "*user_id*\t- уникальный идентификатор пользователя\n",
    "\n",
    "*distance*\t- расстояние, которое пользователь проехал в текущей сессии (в метрах)\n",
    "\n",
    "*duration*\t- продолжительность сессии (в минутах) — время с того момента, как пользователь нажал кнопку «Начать поездку» до момента, как он нажал кнопку «Завершить поездку»\n",
    "\n",
    "*date*\t- дата совершения поездки\n",
    "\n",
    "- Подписки — `subscriptions_go.csv`\n",
    "\n",
    "*subscription_type*\t- тип подписки\n",
    "\n",
    "*minute_price*\t- стоимость одной минуты поездки по данной подписке\n",
    "\n",
    "*start_ride_price*\t- стоимость начала поездки\n",
    "\n",
    "*subscription_fee* -стоимость ежемесячного платежа"
   ]
  },
  {
   "cell_type": "markdown",
   "id": "c42cbe00",
   "metadata": {},
   "source": [
    "## Загрузка данных"
   ]
  },
  {
   "cell_type": "code",
   "execution_count": 1,
   "id": "72576667",
   "metadata": {},
   "outputs": [],
   "source": [
    "import pandas as pd\n",
    "import matplotlib.pyplot as plt\n",
    "import seaborn as sns\n",
    "import numpy as np\n",
    "from scipy import stats as st"
   ]
  },
  {
   "cell_type": "code",
   "execution_count": 2,
   "id": "eff9f206",
   "metadata": {
    "scrolled": true
   },
   "outputs": [
    {
     "data": {
      "text/html": [
       "<div>\n",
       "<style scoped>\n",
       "    .dataframe tbody tr th:only-of-type {\n",
       "        vertical-align: middle;\n",
       "    }\n",
       "\n",
       "    .dataframe tbody tr th {\n",
       "        vertical-align: top;\n",
       "    }\n",
       "\n",
       "    .dataframe thead th {\n",
       "        text-align: right;\n",
       "    }\n",
       "</style>\n",
       "<table border=\"1\" class=\"dataframe\">\n",
       "  <thead>\n",
       "    <tr style=\"text-align: right;\">\n",
       "      <th></th>\n",
       "      <th>user_id</th>\n",
       "      <th>name</th>\n",
       "      <th>age</th>\n",
       "      <th>city</th>\n",
       "      <th>subscription_type</th>\n",
       "    </tr>\n",
       "  </thead>\n",
       "  <tbody>\n",
       "    <tr>\n",
       "      <th>0</th>\n",
       "      <td>1</td>\n",
       "      <td>Кира</td>\n",
       "      <td>22</td>\n",
       "      <td>Тюмень</td>\n",
       "      <td>ultra</td>\n",
       "    </tr>\n",
       "    <tr>\n",
       "      <th>1</th>\n",
       "      <td>2</td>\n",
       "      <td>Станислав</td>\n",
       "      <td>31</td>\n",
       "      <td>Омск</td>\n",
       "      <td>ultra</td>\n",
       "    </tr>\n",
       "    <tr>\n",
       "      <th>2</th>\n",
       "      <td>3</td>\n",
       "      <td>Алексей</td>\n",
       "      <td>20</td>\n",
       "      <td>Москва</td>\n",
       "      <td>ultra</td>\n",
       "    </tr>\n",
       "    <tr>\n",
       "      <th>3</th>\n",
       "      <td>4</td>\n",
       "      <td>Константин</td>\n",
       "      <td>26</td>\n",
       "      <td>Ростов-на-Дону</td>\n",
       "      <td>ultra</td>\n",
       "    </tr>\n",
       "    <tr>\n",
       "      <th>4</th>\n",
       "      <td>5</td>\n",
       "      <td>Адель</td>\n",
       "      <td>28</td>\n",
       "      <td>Омск</td>\n",
       "      <td>ultra</td>\n",
       "    </tr>\n",
       "    <tr>\n",
       "      <th>5</th>\n",
       "      <td>6</td>\n",
       "      <td>Регина</td>\n",
       "      <td>25</td>\n",
       "      <td>Краснодар</td>\n",
       "      <td>ultra</td>\n",
       "    </tr>\n",
       "    <tr>\n",
       "      <th>6</th>\n",
       "      <td>7</td>\n",
       "      <td>Игорь</td>\n",
       "      <td>23</td>\n",
       "      <td>Омск</td>\n",
       "      <td>ultra</td>\n",
       "    </tr>\n",
       "    <tr>\n",
       "      <th>7</th>\n",
       "      <td>8</td>\n",
       "      <td>Юрий</td>\n",
       "      <td>23</td>\n",
       "      <td>Краснодар</td>\n",
       "      <td>ultra</td>\n",
       "    </tr>\n",
       "    <tr>\n",
       "      <th>8</th>\n",
       "      <td>9</td>\n",
       "      <td>Ян</td>\n",
       "      <td>21</td>\n",
       "      <td>Пятигорск</td>\n",
       "      <td>ultra</td>\n",
       "    </tr>\n",
       "    <tr>\n",
       "      <th>9</th>\n",
       "      <td>10</td>\n",
       "      <td>Валерий</td>\n",
       "      <td>18</td>\n",
       "      <td>Екатеринбург</td>\n",
       "      <td>ultra</td>\n",
       "    </tr>\n",
       "  </tbody>\n",
       "</table>\n",
       "</div>"
      ],
      "text/plain": [
       "   user_id        name  age            city subscription_type\n",
       "0        1        Кира   22          Тюмень             ultra\n",
       "1        2   Станислав   31            Омск             ultra\n",
       "2        3     Алексей   20          Москва             ultra\n",
       "3        4  Константин   26  Ростов-на-Дону             ultra\n",
       "4        5       Адель   28            Омск             ultra\n",
       "5        6      Регина   25       Краснодар             ultra\n",
       "6        7       Игорь   23            Омск             ultra\n",
       "7        8        Юрий   23       Краснодар             ultra\n",
       "8        9          Ян   21       Пятигорск             ultra\n",
       "9       10     Валерий   18    Екатеринбург             ultra"
      ]
     },
     "execution_count": 2,
     "metadata": {},
     "output_type": "execute_result"
    }
   ],
   "source": [
    "#считываем файлы\n",
    "users = pd.read_csv('/datasets/users_go.csv')\n",
    "users.head(10)\n"
   ]
  },
  {
   "cell_type": "markdown",
   "id": "07fa4aaf",
   "metadata": {},
   "source": [
    "На первый взгляд видим, что пользователи молодые или среднего возраста и из разных городов. Идем дальше."
   ]
  },
  {
   "cell_type": "code",
   "execution_count": 3,
   "id": "cc459b6a",
   "metadata": {},
   "outputs": [
    {
     "data": {
      "text/html": [
       "<div>\n",
       "<style scoped>\n",
       "    .dataframe tbody tr th:only-of-type {\n",
       "        vertical-align: middle;\n",
       "    }\n",
       "\n",
       "    .dataframe tbody tr th {\n",
       "        vertical-align: top;\n",
       "    }\n",
       "\n",
       "    .dataframe thead th {\n",
       "        text-align: right;\n",
       "    }\n",
       "</style>\n",
       "<table border=\"1\" class=\"dataframe\">\n",
       "  <thead>\n",
       "    <tr style=\"text-align: right;\">\n",
       "      <th></th>\n",
       "      <th>user_id</th>\n",
       "      <th>distance</th>\n",
       "      <th>duration</th>\n",
       "      <th>date</th>\n",
       "    </tr>\n",
       "  </thead>\n",
       "  <tbody>\n",
       "    <tr>\n",
       "      <th>0</th>\n",
       "      <td>1</td>\n",
       "      <td>4409.919140</td>\n",
       "      <td>25.599769</td>\n",
       "      <td>2021-01-01</td>\n",
       "    </tr>\n",
       "    <tr>\n",
       "      <th>1</th>\n",
       "      <td>1</td>\n",
       "      <td>2617.592153</td>\n",
       "      <td>15.816871</td>\n",
       "      <td>2021-01-18</td>\n",
       "    </tr>\n",
       "    <tr>\n",
       "      <th>2</th>\n",
       "      <td>1</td>\n",
       "      <td>754.159807</td>\n",
       "      <td>6.232113</td>\n",
       "      <td>2021-04-20</td>\n",
       "    </tr>\n",
       "    <tr>\n",
       "      <th>3</th>\n",
       "      <td>1</td>\n",
       "      <td>2694.783254</td>\n",
       "      <td>18.511000</td>\n",
       "      <td>2021-08-11</td>\n",
       "    </tr>\n",
       "    <tr>\n",
       "      <th>4</th>\n",
       "      <td>1</td>\n",
       "      <td>4028.687306</td>\n",
       "      <td>26.265803</td>\n",
       "      <td>2021-08-28</td>\n",
       "    </tr>\n",
       "    <tr>\n",
       "      <th>5</th>\n",
       "      <td>1</td>\n",
       "      <td>2770.890808</td>\n",
       "      <td>16.650138</td>\n",
       "      <td>2021-10-09</td>\n",
       "    </tr>\n",
       "    <tr>\n",
       "      <th>6</th>\n",
       "      <td>1</td>\n",
       "      <td>3039.020292</td>\n",
       "      <td>14.927879</td>\n",
       "      <td>2021-10-19</td>\n",
       "    </tr>\n",
       "    <tr>\n",
       "      <th>7</th>\n",
       "      <td>1</td>\n",
       "      <td>2842.118050</td>\n",
       "      <td>23.117468</td>\n",
       "      <td>2021-11-06</td>\n",
       "    </tr>\n",
       "    <tr>\n",
       "      <th>8</th>\n",
       "      <td>1</td>\n",
       "      <td>3412.690668</td>\n",
       "      <td>15.238072</td>\n",
       "      <td>2021-11-14</td>\n",
       "    </tr>\n",
       "    <tr>\n",
       "      <th>9</th>\n",
       "      <td>1</td>\n",
       "      <td>748.690645</td>\n",
       "      <td>15.041884</td>\n",
       "      <td>2021-11-22</td>\n",
       "    </tr>\n",
       "  </tbody>\n",
       "</table>\n",
       "</div>"
      ],
      "text/plain": [
       "   user_id     distance   duration        date\n",
       "0        1  4409.919140  25.599769  2021-01-01\n",
       "1        1  2617.592153  15.816871  2021-01-18\n",
       "2        1   754.159807   6.232113  2021-04-20\n",
       "3        1  2694.783254  18.511000  2021-08-11\n",
       "4        1  4028.687306  26.265803  2021-08-28\n",
       "5        1  2770.890808  16.650138  2021-10-09\n",
       "6        1  3039.020292  14.927879  2021-10-19\n",
       "7        1  2842.118050  23.117468  2021-11-06\n",
       "8        1  3412.690668  15.238072  2021-11-14\n",
       "9        1   748.690645  15.041884  2021-11-22"
      ]
     },
     "execution_count": 3,
     "metadata": {},
     "output_type": "execute_result"
    }
   ],
   "source": [
    "rides = pd.read_csv('/datasets/rides_go.csv')\n",
    "rides.head(10)\n"
   ]
  },
  {
   "cell_type": "markdown",
   "id": "bfea0cc8",
   "metadata": {},
   "source": [
    "Один и тот же юзер в разные месяцы пользовался сервисом и в среднем проходил расстояния примерно 2000-3000 метров. По продолжительности ездил недолго"
   ]
  },
  {
   "cell_type": "code",
   "execution_count": 4,
   "id": "07930fd0",
   "metadata": {},
   "outputs": [
    {
     "data": {
      "text/html": [
       "<div>\n",
       "<style scoped>\n",
       "    .dataframe tbody tr th:only-of-type {\n",
       "        vertical-align: middle;\n",
       "    }\n",
       "\n",
       "    .dataframe tbody tr th {\n",
       "        vertical-align: top;\n",
       "    }\n",
       "\n",
       "    .dataframe thead th {\n",
       "        text-align: right;\n",
       "    }\n",
       "</style>\n",
       "<table border=\"1\" class=\"dataframe\">\n",
       "  <thead>\n",
       "    <tr style=\"text-align: right;\">\n",
       "      <th></th>\n",
       "      <th>subscription_type</th>\n",
       "      <th>minute_price</th>\n",
       "      <th>start_ride_price</th>\n",
       "      <th>subscription_fee</th>\n",
       "    </tr>\n",
       "  </thead>\n",
       "  <tbody>\n",
       "    <tr>\n",
       "      <th>0</th>\n",
       "      <td>free</td>\n",
       "      <td>8</td>\n",
       "      <td>50</td>\n",
       "      <td>0</td>\n",
       "    </tr>\n",
       "    <tr>\n",
       "      <th>1</th>\n",
       "      <td>ultra</td>\n",
       "      <td>6</td>\n",
       "      <td>0</td>\n",
       "      <td>199</td>\n",
       "    </tr>\n",
       "  </tbody>\n",
       "</table>\n",
       "</div>"
      ],
      "text/plain": [
       "  subscription_type  minute_price  start_ride_price  subscription_fee\n",
       "0              free             8                50                 0\n",
       "1             ultra             6                 0               199"
      ]
     },
     "execution_count": 4,
     "metadata": {},
     "output_type": "execute_result"
    }
   ],
   "source": [
    "#смотрим виды подписок и тарифы\n",
    "subscriptions = pd.read_csv('/datasets/subscriptions_go.csv')\n",
    "subscriptions\n"
   ]
  },
  {
   "cell_type": "markdown",
   "id": "62f5025b",
   "metadata": {},
   "source": [
    "Есть тарифы без подписки и с подпиской. Выгода есть при долгих или частых поезках"
   ]
  },
  {
   "cell_type": "markdown",
   "id": "e95ebca7",
   "metadata": {},
   "source": [
    "## Предобработка данных"
   ]
  },
  {
   "cell_type": "code",
   "execution_count": 5,
   "id": "4dcb8bc4",
   "metadata": {},
   "outputs": [
    {
     "name": "stdout",
     "output_type": "stream",
     "text": [
      "<class 'pandas.core.frame.DataFrame'>\n",
      "RangeIndex: 18068 entries, 0 to 18067\n",
      "Data columns (total 4 columns):\n",
      " #   Column    Non-Null Count  Dtype  \n",
      "---  ------    --------------  -----  \n",
      " 0   user_id   18068 non-null  int64  \n",
      " 1   distance  18068 non-null  float64\n",
      " 2   duration  18068 non-null  float64\n",
      " 3   date      18068 non-null  object \n",
      "dtypes: float64(2), int64(1), object(1)\n",
      "memory usage: 564.8+ KB\n"
     ]
    }
   ],
   "source": [
    "#смотрим, какие типы данных в датафрейме\n",
    "rides.info()"
   ]
  },
  {
   "cell_type": "code",
   "execution_count": 6,
   "id": "af6d202c",
   "metadata": {},
   "outputs": [
    {
     "name": "stdout",
     "output_type": "stream",
     "text": [
      "<class 'pandas.core.frame.DataFrame'>\n",
      "RangeIndex: 18068 entries, 0 to 18067\n",
      "Data columns (total 4 columns):\n",
      " #   Column    Non-Null Count  Dtype         \n",
      "---  ------    --------------  -----         \n",
      " 0   user_id   18068 non-null  int64         \n",
      " 1   distance  18068 non-null  float64       \n",
      " 2   duration  18068 non-null  float64       \n",
      " 3   date      18068 non-null  datetime64[ns]\n",
      "dtypes: datetime64[ns](1), float64(2), int64(1)\n",
      "memory usage: 564.8 KB\n"
     ]
    }
   ],
   "source": [
    "#приводим столбец к типу даты\n",
    "rides['date'] = pd.to_datetime(rides['date'])\n",
    "rides.info()"
   ]
  },
  {
   "cell_type": "code",
   "execution_count": 7,
   "id": "c29969e5",
   "metadata": {},
   "outputs": [
    {
     "data": {
      "text/html": [
       "<div>\n",
       "<style scoped>\n",
       "    .dataframe tbody tr th:only-of-type {\n",
       "        vertical-align: middle;\n",
       "    }\n",
       "\n",
       "    .dataframe tbody tr th {\n",
       "        vertical-align: top;\n",
       "    }\n",
       "\n",
       "    .dataframe thead th {\n",
       "        text-align: right;\n",
       "    }\n",
       "</style>\n",
       "<table border=\"1\" class=\"dataframe\">\n",
       "  <thead>\n",
       "    <tr style=\"text-align: right;\">\n",
       "      <th></th>\n",
       "      <th>user_id</th>\n",
       "      <th>distance</th>\n",
       "      <th>duration</th>\n",
       "      <th>date</th>\n",
       "      <th>month</th>\n",
       "    </tr>\n",
       "  </thead>\n",
       "  <tbody>\n",
       "    <tr>\n",
       "      <th>0</th>\n",
       "      <td>1</td>\n",
       "      <td>4409.919140</td>\n",
       "      <td>25.599769</td>\n",
       "      <td>2021-01-01</td>\n",
       "      <td>1</td>\n",
       "    </tr>\n",
       "    <tr>\n",
       "      <th>1</th>\n",
       "      <td>1</td>\n",
       "      <td>2617.592153</td>\n",
       "      <td>15.816871</td>\n",
       "      <td>2021-01-18</td>\n",
       "      <td>1</td>\n",
       "    </tr>\n",
       "    <tr>\n",
       "      <th>2</th>\n",
       "      <td>1</td>\n",
       "      <td>754.159807</td>\n",
       "      <td>6.232113</td>\n",
       "      <td>2021-04-20</td>\n",
       "      <td>4</td>\n",
       "    </tr>\n",
       "    <tr>\n",
       "      <th>3</th>\n",
       "      <td>1</td>\n",
       "      <td>2694.783254</td>\n",
       "      <td>18.511000</td>\n",
       "      <td>2021-08-11</td>\n",
       "      <td>8</td>\n",
       "    </tr>\n",
       "    <tr>\n",
       "      <th>4</th>\n",
       "      <td>1</td>\n",
       "      <td>4028.687306</td>\n",
       "      <td>26.265803</td>\n",
       "      <td>2021-08-28</td>\n",
       "      <td>8</td>\n",
       "    </tr>\n",
       "    <tr>\n",
       "      <th>...</th>\n",
       "      <td>...</td>\n",
       "      <td>...</td>\n",
       "      <td>...</td>\n",
       "      <td>...</td>\n",
       "      <td>...</td>\n",
       "    </tr>\n",
       "    <tr>\n",
       "      <th>18063</th>\n",
       "      <td>1534</td>\n",
       "      <td>3781.098080</td>\n",
       "      <td>19.822962</td>\n",
       "      <td>2021-11-04</td>\n",
       "      <td>11</td>\n",
       "    </tr>\n",
       "    <tr>\n",
       "      <th>18064</th>\n",
       "      <td>1534</td>\n",
       "      <td>2840.423057</td>\n",
       "      <td>21.409799</td>\n",
       "      <td>2021-11-16</td>\n",
       "      <td>11</td>\n",
       "    </tr>\n",
       "    <tr>\n",
       "      <th>18065</th>\n",
       "      <td>1534</td>\n",
       "      <td>3826.185507</td>\n",
       "      <td>18.435051</td>\n",
       "      <td>2021-11-18</td>\n",
       "      <td>11</td>\n",
       "    </tr>\n",
       "    <tr>\n",
       "      <th>18066</th>\n",
       "      <td>1534</td>\n",
       "      <td>2902.308661</td>\n",
       "      <td>16.674362</td>\n",
       "      <td>2021-11-27</td>\n",
       "      <td>11</td>\n",
       "    </tr>\n",
       "    <tr>\n",
       "      <th>18067</th>\n",
       "      <td>1534</td>\n",
       "      <td>2371.711192</td>\n",
       "      <td>15.893917</td>\n",
       "      <td>2021-12-29</td>\n",
       "      <td>12</td>\n",
       "    </tr>\n",
       "  </tbody>\n",
       "</table>\n",
       "<p>18068 rows × 5 columns</p>\n",
       "</div>"
      ],
      "text/plain": [
       "       user_id     distance   duration       date  month\n",
       "0            1  4409.919140  25.599769 2021-01-01      1\n",
       "1            1  2617.592153  15.816871 2021-01-18      1\n",
       "2            1   754.159807   6.232113 2021-04-20      4\n",
       "3            1  2694.783254  18.511000 2021-08-11      8\n",
       "4            1  4028.687306  26.265803 2021-08-28      8\n",
       "...        ...          ...        ...        ...    ...\n",
       "18063     1534  3781.098080  19.822962 2021-11-04     11\n",
       "18064     1534  2840.423057  21.409799 2021-11-16     11\n",
       "18065     1534  3826.185507  18.435051 2021-11-18     11\n",
       "18066     1534  2902.308661  16.674362 2021-11-27     11\n",
       "18067     1534  2371.711192  15.893917 2021-12-29     12\n",
       "\n",
       "[18068 rows x 5 columns]"
      ]
     },
     "execution_count": 7,
     "metadata": {},
     "output_type": "execute_result"
    }
   ],
   "source": [
    "#добавляем новый столбец с номерами месяцев\n",
    "rides['month'] = rides['date'].dt.month\n",
    "rides"
   ]
  },
  {
   "cell_type": "code",
   "execution_count": 8,
   "id": "f0b38210",
   "metadata": {},
   "outputs": [
    {
     "data": {
      "text/plain": [
       "user_id              0\n",
       "name                 0\n",
       "age                  0\n",
       "city                 0\n",
       "subscription_type    0\n",
       "dtype: int64"
      ]
     },
     "execution_count": 8,
     "metadata": {},
     "output_type": "execute_result"
    }
   ],
   "source": [
    "#ищем пустые значения\n",
    "users.isna().sum()"
   ]
  },
  {
   "cell_type": "code",
   "execution_count": 9,
   "id": "6d91131f",
   "metadata": {},
   "outputs": [
    {
     "data": {
      "text/plain": [
       "user_id     0\n",
       "distance    0\n",
       "duration    0\n",
       "date        0\n",
       "month       0\n",
       "dtype: int64"
      ]
     },
     "execution_count": 9,
     "metadata": {},
     "output_type": "execute_result"
    }
   ],
   "source": [
    "rides.isna().sum()"
   ]
  },
  {
   "cell_type": "code",
   "execution_count": 10,
   "id": "3001503d",
   "metadata": {},
   "outputs": [
    {
     "data": {
      "text/plain": [
       "subscription_type    0\n",
       "minute_price         0\n",
       "start_ride_price     0\n",
       "subscription_fee     0\n",
       "dtype: int64"
      ]
     },
     "execution_count": 10,
     "metadata": {},
     "output_type": "execute_result"
    }
   ],
   "source": [
    "subscriptions.isna().sum()"
   ]
  },
  {
   "cell_type": "code",
   "execution_count": 11,
   "id": "026b1f2b",
   "metadata": {},
   "outputs": [
    {
     "data": {
      "text/plain": [
       "31"
      ]
     },
     "execution_count": 11,
     "metadata": {},
     "output_type": "execute_result"
    }
   ],
   "source": [
    "#ищем дубликаты\n",
    "users.duplicated().sum()\n"
   ]
  },
  {
   "cell_type": "code",
   "execution_count": 12,
   "id": "bb68b092",
   "metadata": {},
   "outputs": [
    {
     "data": {
      "text/plain": [
       "0"
      ]
     },
     "execution_count": 12,
     "metadata": {},
     "output_type": "execute_result"
    }
   ],
   "source": [
    "#удаляем дубликаты, так как они не нужны\n",
    "users = users.drop_duplicates()\n",
    "users.duplicated().sum()"
   ]
  },
  {
   "cell_type": "code",
   "execution_count": 13,
   "id": "b7c73e86",
   "metadata": {},
   "outputs": [
    {
     "data": {
      "text/plain": [
       "0"
      ]
     },
     "execution_count": 13,
     "metadata": {},
     "output_type": "execute_result"
    }
   ],
   "source": [
    "#проверяем\n",
    "rides.duplicated().sum()\n"
   ]
  },
  {
   "cell_type": "markdown",
   "id": "212593c7",
   "metadata": {},
   "source": [
    "## Исследовательский анализ данных"
   ]
  },
  {
   "cell_type": "code",
   "execution_count": 14,
   "id": "6caf8cd1",
   "metadata": {},
   "outputs": [
    {
     "data": {
      "text/plain": [
       "Пятигорск         219\n",
       "Екатеринбург      204\n",
       "Ростов-на-Дону    198\n",
       "Краснодар         193\n",
       "Сочи              189\n",
       "Омск              183\n",
       "Тюмень            180\n",
       "Москва            168\n",
       "Name: city, dtype: int64"
      ]
     },
     "execution_count": 14,
     "metadata": {},
     "output_type": "execute_result"
    }
   ],
   "source": [
    "#наиболее часто встречаемые города\n",
    "city_counts = users['city'].value_counts()\n",
    "city_counts\n"
   ]
  },
  {
   "cell_type": "code",
   "execution_count": 15,
   "id": "d4a0db47",
   "metadata": {
    "scrolled": true
   },
   "outputs": [
    {
     "data": {
      "image/png": "[encoded data removed]",
      "text/plain": [
       "<Figure size 720x432 with 1 Axes>"
      ]
     },
     "metadata": {
      "needs_background": "light"
     },
     "output_type": "display_data"
    }
   ],
   "source": [
    "#построим график для большей наглядности\n",
    "\n",
    "plt.figure(figsize=(10, 6))\n",
    "sns.barplot(x=city_counts.index, y=city_counts.values)\n",
    "plt.title('Частота встречаемости городов')\n",
    "plt.xlabel('Город')\n",
    "plt.ylabel('Частота')\n",
    "plt.xticks(rotation=45)\n",
    "plt.show()"
   ]
  },
  {
   "cell_type": "markdown",
   "id": "4f66d94b",
   "metadata": {},
   "source": [
    "Пятигорск встречается чаще всего, а самое меньшее количество поездок в Москве"
   ]
  },
  {
   "cell_type": "code",
   "execution_count": 16,
   "id": "5bce74f9",
   "metadata": {},
   "outputs": [
    {
     "data": {
      "text/plain": [
       "free     835\n",
       "ultra    699\n",
       "Name: subscription_type, dtype: int64"
      ]
     },
     "execution_count": 16,
     "metadata": {},
     "output_type": "execute_result"
    }
   ],
   "source": [
    "#соотношение юзеров с подпиской и без подписки\n",
    "\n",
    "subscriptions_counts = users['subscription_type'].value_counts()\n",
    "subscriptions_counts"
   ]
  },
  {
   "cell_type": "code",
   "execution_count": 17,
   "id": "80bdda40",
   "metadata": {},
   "outputs": [
    {
     "data": {
      "image/png": "[encoded data removed]",
      "text/plain": [
       "<Figure size 216x360 with 1 Axes>"
      ]
     },
     "metadata": {
      "needs_background": "light"
     },
     "output_type": "display_data"
    }
   ],
   "source": [
    "#смотрим соотошение подписок для наглядности\n",
    "\n",
    "plt.figure(figsize=(3, 5))\n",
    "sns.barplot(x=subscriptions_counts.index, y=subscriptions_counts.values)\n",
    "plt.title('Соотношение подписок')\n",
    "plt.xlabel('Тип')\n",
    "plt.ylabel('Количество')\n",
    "plt.xticks(rotation=45)\n",
    "plt.show()"
   ]
  },
  {
   "cell_type": "markdown",
   "id": "cf8ca70e",
   "metadata": {},
   "source": [
    "Юзеров без подписки оказалось больше на 16%. Думаю, связано с быстрой доступностью самокатов без подписки. Возможно, подключение подписки занимает определенное время, а пользователи хотят ехать здесь и сейчас"
   ]
  },
  {
   "cell_type": "code",
   "execution_count": 18,
   "id": "e3a4274c",
   "metadata": {},
   "outputs": [
    {
     "data": {
      "text/plain": [
       "25    145\n",
       "24    132\n",
       "26    131\n",
       "23    129\n",
       "27    119\n",
       "22    119\n",
       "28    112\n",
       "21     93\n",
       "20     71\n",
       "30     68\n",
       "29     68\n",
       "31     48\n",
       "19     47\n",
       "18     46\n",
       "32     41\n",
       "33     39\n",
       "17     26\n",
       "34     19\n",
       "16     19\n",
       "35     15\n",
       "15     13\n",
       "14      9\n",
       "13      8\n",
       "36      6\n",
       "12      4\n",
       "38      3\n",
       "37      2\n",
       "39      1\n",
       "43      1\n",
       "Name: age, dtype: int64"
      ]
     },
     "execution_count": 18,
     "metadata": {},
     "output_type": "execute_result"
    }
   ],
   "source": [
    "#возраст юзеров\n",
    "users_age = users['age'].value_counts()\n",
    "users_age\n"
   ]
  },
  {
   "cell_type": "code",
   "execution_count": 19,
   "id": "341c5ef0",
   "metadata": {},
   "outputs": [
    {
     "data": {
      "image/png": "[encoded data removed]",
      "text/plain": [
       "<Figure size 720x1080 with 1 Axes>"
      ]
     },
     "metadata": {
      "needs_background": "light"
     },
     "output_type": "display_data"
    }
   ],
   "source": [
    "#смотрим в графике возраст \n",
    "plt.figure(figsize=(10, 15))\n",
    "sns.histplot(users['age'], bins=20)\n",
    "plt.title('Возраст юзеров')\n",
    "plt.xlabel('Возраст')\n",
    "plt.ylabel('Количество')\n",
    "plt.xticks(rotation=45)\n",
    "plt.show()"
   ]
  },
  {
   "cell_type": "markdown",
   "id": "10d18c48",
   "metadata": {},
   "source": [
    "Средний возраст: 25. Активно пользуются люди от 20-25 лет\n",
    "\n",
    "Также есть довольно юные юзеры. Проверим их."
   ]
  },
  {
   "cell_type": "code",
   "execution_count": 20,
   "id": "f4baa7bf",
   "metadata": {},
   "outputs": [
    {
     "data": {
      "text/plain": [
       "count    1534.000000\n",
       "mean       24.903520\n",
       "std         4.572367\n",
       "min        12.000000\n",
       "25%        22.000000\n",
       "50%        25.000000\n",
       "75%        28.000000\n",
       "max        43.000000\n",
       "Name: age, dtype: float64"
      ]
     },
     "execution_count": 20,
     "metadata": {},
     "output_type": "execute_result"
    }
   ],
   "source": [
    "users['age'].describe()"
   ]
  },
  {
   "cell_type": "markdown",
   "id": "a32405ee",
   "metadata": {},
   "source": [
    "Самому юному пользователю 12 лет. В возрасте от 7 до 14 лет на СИМ можно ездить по пешеходным и велосипедным дорожкам, тротуарам и в пределах пешеходных зон.\n",
    "\n",
    "На рассмотрении вопрос об увеличении минимального возраста для пользователей самокатов (с 16 лет).\n",
    "Думаю, было бы славно, ведь самокаты считаются травмоопасным транспортом.\n"
   ]
  },
  {
   "cell_type": "code",
   "execution_count": 21,
   "id": "ed53bf65",
   "metadata": {},
   "outputs": [
    {
     "data": {
      "text/plain": [
       "3070.6599756818814"
      ]
     },
     "execution_count": 21,
     "metadata": {},
     "output_type": "execute_result"
    }
   ],
   "source": [
    "#среднее пройденное расстояние\n",
    "rides['distance'].mean()"
   ]
  },
  {
   "cell_type": "code",
   "execution_count": 22,
   "id": "4ce686bc",
   "metadata": {},
   "outputs": [
    {
     "data": {
      "image/png": "[encoded data removed]",
      "text/plain": [
       "<Figure size 720x432 with 1 Axes>"
      ]
     },
     "metadata": {
      "needs_background": "light"
     },
     "output_type": "display_data"
    }
   ],
   "source": [
    "#смотрим в графике\n",
    "plt.figure(figsize=(10, 6))\n",
    "sns.histplot(rides['distance'], bins=50)\n",
    "plt.title('Распределение расстояний, которые пользователи преодолели за одну поездку')\n",
    "plt.xlabel('Расстояние (м)')\n",
    "plt.ylabel('Частота')\n",
    "plt.show()"
   ]
  },
  {
   "cell_type": "markdown",
   "id": "ee7aacd5",
   "metadata": {},
   "source": [
    "Среднее расстояние, которое юзер преодолел за одну поезду примерно 3000 м. Самокаты скорее всего чаще использовались в развлекательных целях, коротких прогулках. "
   ]
  },
  {
   "cell_type": "code",
   "execution_count": 23,
   "id": "dee09a43",
   "metadata": {
    "scrolled": false
   },
   "outputs": [
    {
     "data": {
      "image/png": "[encoded data removed]",
      "text/plain": [
       "<Figure size 720x432 with 1 Axes>"
      ]
     },
     "metadata": {
      "needs_background": "light"
     },
     "output_type": "display_data"
    }
   ],
   "source": [
    "#смотрим продолжительность поездок\n",
    "plt.figure(figsize=(10, 6))\n",
    "sns.histplot(rides['duration'], bins=50)\n",
    "plt.title('Распределение продолжительности поездок')\n",
    "plt.xlabel('Продолжительность (минуты)')\n",
    "plt.ylabel('Частота')\n",
    "plt.show()"
   ]
  },
  {
   "cell_type": "markdown",
   "id": "149ad209",
   "metadata": {},
   "source": [
    "В среднем примерно 20 минут. Оптимальное время, если нужно добраться до места назначения быстро или просто прогуляться.\n",
    "\n",
    "Есть аномальные значения до 1 минуты. Посмотрим, короткие ли это поездки или сбои"
   ]
  },
  {
   "cell_type": "code",
   "execution_count": 24,
   "id": "286caa56",
   "metadata": {},
   "outputs": [
    {
     "data": {
      "text/plain": [
       "0.500000     95\n",
       "22.184080     1\n",
       "25.866000     1\n",
       "22.837062     1\n",
       "19.173800     1\n",
       "             ..\n",
       "18.843765     1\n",
       "17.644888     1\n",
       "22.477965     1\n",
       "19.745218     1\n",
       "16.537044     1\n",
       "Name: duration, Length: 17974, dtype: int64"
      ]
     },
     "execution_count": 24,
     "metadata": {},
     "output_type": "execute_result"
    }
   ],
   "source": [
    "rides['duration'].value_counts()"
   ]
  },
  {
   "cell_type": "markdown",
   "id": "3f52d273",
   "metadata": {},
   "source": [
    "95 значений с одной и той же продолжительностью в 30 секунд. Вряд ли это короткие поездки, так как ровно уложиться столько раз не получится.\n",
    "Думаю, можно удалить эти аномалии"
   ]
  },
  {
   "cell_type": "code",
   "execution_count": 25,
   "id": "3e85fe90",
   "metadata": {},
   "outputs": [
    {
     "data": {
      "text/plain": [
       "0.5"
      ]
     },
     "execution_count": 25,
     "metadata": {},
     "output_type": "execute_result"
    }
   ],
   "source": [
    "#смотрим минимальное значение в датафрейме\n",
    "rides['duration'].min()"
   ]
  },
  {
   "cell_type": "code",
   "execution_count": 26,
   "id": "93926a4e",
   "metadata": {},
   "outputs": [
    {
     "data": {
      "text/plain": [
       "2.0356324681963884"
      ]
     },
     "execution_count": 26,
     "metadata": {},
     "output_type": "execute_result"
    }
   ],
   "source": [
    "#удаляем значения меньше 0.5, проверяем \n",
    "rides = rides[rides['duration'] > 0.5]\n",
    "rides['duration'].min()"
   ]
  },
  {
   "cell_type": "markdown",
   "id": "4ef51331",
   "metadata": {},
   "source": [
    "##  Объединение данных"
   ]
  },
  {
   "cell_type": "code",
   "execution_count": 27,
   "id": "6bf288b5",
   "metadata": {},
   "outputs": [
    {
     "data": {
      "text/html": [
       "<div>\n",
       "<style scoped>\n",
       "    .dataframe tbody tr th:only-of-type {\n",
       "        vertical-align: middle;\n",
       "    }\n",
       "\n",
       "    .dataframe tbody tr th {\n",
       "        vertical-align: top;\n",
       "    }\n",
       "\n",
       "    .dataframe thead th {\n",
       "        text-align: right;\n",
       "    }\n",
       "</style>\n",
       "<table border=\"1\" class=\"dataframe\">\n",
       "  <thead>\n",
       "    <tr style=\"text-align: right;\">\n",
       "      <th></th>\n",
       "      <th>user_id</th>\n",
       "      <th>name</th>\n",
       "      <th>age</th>\n",
       "      <th>city</th>\n",
       "      <th>subscription_type</th>\n",
       "      <th>distance</th>\n",
       "      <th>duration</th>\n",
       "      <th>date</th>\n",
       "      <th>month</th>\n",
       "    </tr>\n",
       "  </thead>\n",
       "  <tbody>\n",
       "    <tr>\n",
       "      <th>0</th>\n",
       "      <td>1</td>\n",
       "      <td>Кира</td>\n",
       "      <td>22</td>\n",
       "      <td>Тюмень</td>\n",
       "      <td>ultra</td>\n",
       "      <td>4409.919140</td>\n",
       "      <td>25.599769</td>\n",
       "      <td>2021-01-01</td>\n",
       "      <td>1</td>\n",
       "    </tr>\n",
       "    <tr>\n",
       "      <th>1</th>\n",
       "      <td>1</td>\n",
       "      <td>Кира</td>\n",
       "      <td>22</td>\n",
       "      <td>Тюмень</td>\n",
       "      <td>ultra</td>\n",
       "      <td>2617.592153</td>\n",
       "      <td>15.816871</td>\n",
       "      <td>2021-01-18</td>\n",
       "      <td>1</td>\n",
       "    </tr>\n",
       "    <tr>\n",
       "      <th>2</th>\n",
       "      <td>1</td>\n",
       "      <td>Кира</td>\n",
       "      <td>22</td>\n",
       "      <td>Тюмень</td>\n",
       "      <td>ultra</td>\n",
       "      <td>754.159807</td>\n",
       "      <td>6.232113</td>\n",
       "      <td>2021-04-20</td>\n",
       "      <td>4</td>\n",
       "    </tr>\n",
       "    <tr>\n",
       "      <th>3</th>\n",
       "      <td>1</td>\n",
       "      <td>Кира</td>\n",
       "      <td>22</td>\n",
       "      <td>Тюмень</td>\n",
       "      <td>ultra</td>\n",
       "      <td>2694.783254</td>\n",
       "      <td>18.511000</td>\n",
       "      <td>2021-08-11</td>\n",
       "      <td>8</td>\n",
       "    </tr>\n",
       "    <tr>\n",
       "      <th>4</th>\n",
       "      <td>1</td>\n",
       "      <td>Кира</td>\n",
       "      <td>22</td>\n",
       "      <td>Тюмень</td>\n",
       "      <td>ultra</td>\n",
       "      <td>4028.687306</td>\n",
       "      <td>26.265803</td>\n",
       "      <td>2021-08-28</td>\n",
       "      <td>8</td>\n",
       "    </tr>\n",
       "    <tr>\n",
       "      <th>...</th>\n",
       "      <td>...</td>\n",
       "      <td>...</td>\n",
       "      <td>...</td>\n",
       "      <td>...</td>\n",
       "      <td>...</td>\n",
       "      <td>...</td>\n",
       "      <td>...</td>\n",
       "      <td>...</td>\n",
       "      <td>...</td>\n",
       "    </tr>\n",
       "    <tr>\n",
       "      <th>17968</th>\n",
       "      <td>1534</td>\n",
       "      <td>Альберт</td>\n",
       "      <td>25</td>\n",
       "      <td>Краснодар</td>\n",
       "      <td>free</td>\n",
       "      <td>3781.098080</td>\n",
       "      <td>19.822962</td>\n",
       "      <td>2021-11-04</td>\n",
       "      <td>11</td>\n",
       "    </tr>\n",
       "    <tr>\n",
       "      <th>17969</th>\n",
       "      <td>1534</td>\n",
       "      <td>Альберт</td>\n",
       "      <td>25</td>\n",
       "      <td>Краснодар</td>\n",
       "      <td>free</td>\n",
       "      <td>2840.423057</td>\n",
       "      <td>21.409799</td>\n",
       "      <td>2021-11-16</td>\n",
       "      <td>11</td>\n",
       "    </tr>\n",
       "    <tr>\n",
       "      <th>17970</th>\n",
       "      <td>1534</td>\n",
       "      <td>Альберт</td>\n",
       "      <td>25</td>\n",
       "      <td>Краснодар</td>\n",
       "      <td>free</td>\n",
       "      <td>3826.185507</td>\n",
       "      <td>18.435051</td>\n",
       "      <td>2021-11-18</td>\n",
       "      <td>11</td>\n",
       "    </tr>\n",
       "    <tr>\n",
       "      <th>17971</th>\n",
       "      <td>1534</td>\n",
       "      <td>Альберт</td>\n",
       "      <td>25</td>\n",
       "      <td>Краснодар</td>\n",
       "      <td>free</td>\n",
       "      <td>2902.308661</td>\n",
       "      <td>16.674362</td>\n",
       "      <td>2021-11-27</td>\n",
       "      <td>11</td>\n",
       "    </tr>\n",
       "    <tr>\n",
       "      <th>17972</th>\n",
       "      <td>1534</td>\n",
       "      <td>Альберт</td>\n",
       "      <td>25</td>\n",
       "      <td>Краснодар</td>\n",
       "      <td>free</td>\n",
       "      <td>2371.711192</td>\n",
       "      <td>15.893917</td>\n",
       "      <td>2021-12-29</td>\n",
       "      <td>12</td>\n",
       "    </tr>\n",
       "  </tbody>\n",
       "</table>\n",
       "<p>17973 rows × 9 columns</p>\n",
       "</div>"
      ],
      "text/plain": [
       "       user_id     name  age       city subscription_type     distance  \\\n",
       "0            1     Кира   22     Тюмень             ultra  4409.919140   \n",
       "1            1     Кира   22     Тюмень             ultra  2617.592153   \n",
       "2            1     Кира   22     Тюмень             ultra   754.159807   \n",
       "3            1     Кира   22     Тюмень             ultra  2694.783254   \n",
       "4            1     Кира   22     Тюмень             ultra  4028.687306   \n",
       "...        ...      ...  ...        ...               ...          ...   \n",
       "17968     1534  Альберт   25  Краснодар              free  3781.098080   \n",
       "17969     1534  Альберт   25  Краснодар              free  2840.423057   \n",
       "17970     1534  Альберт   25  Краснодар              free  3826.185507   \n",
       "17971     1534  Альберт   25  Краснодар              free  2902.308661   \n",
       "17972     1534  Альберт   25  Краснодар              free  2371.711192   \n",
       "\n",
       "        duration       date  month  \n",
       "0      25.599769 2021-01-01      1  \n",
       "1      15.816871 2021-01-18      1  \n",
       "2       6.232113 2021-04-20      4  \n",
       "3      18.511000 2021-08-11      8  \n",
       "4      26.265803 2021-08-28      8  \n",
       "...          ...        ...    ...  \n",
       "17968  19.822962 2021-11-04     11  \n",
       "17969  21.409799 2021-11-16     11  \n",
       "17970  18.435051 2021-11-18     11  \n",
       "17971  16.674362 2021-11-27     11  \n",
       "17972  15.893917 2021-12-29     12  \n",
       "\n",
       "[17973 rows x 9 columns]"
      ]
     },
     "execution_count": 27,
     "metadata": {},
     "output_type": "execute_result"
    }
   ],
   "source": [
    "#объединяем данные о пользователях, поездках, ключ по user_id\n",
    "users_rides = pd.merge(users, rides, on='user_id', how='inner')\n",
    "users_rides\n"
   ]
  },
  {
   "cell_type": "code",
   "execution_count": 28,
   "id": "d799417f",
   "metadata": {},
   "outputs": [
    {
     "data": {
      "text/html": [
       "<div>\n",
       "<style scoped>\n",
       "    .dataframe tbody tr th:only-of-type {\n",
       "        vertical-align: middle;\n",
       "    }\n",
       "\n",
       "    .dataframe tbody tr th {\n",
       "        vertical-align: top;\n",
       "    }\n",
       "\n",
       "    .dataframe thead th {\n",
       "        text-align: right;\n",
       "    }\n",
       "</style>\n",
       "<table border=\"1\" class=\"dataframe\">\n",
       "  <thead>\n",
       "    <tr style=\"text-align: right;\">\n",
       "      <th></th>\n",
       "      <th>user_id</th>\n",
       "      <th>name</th>\n",
       "      <th>age</th>\n",
       "      <th>city</th>\n",
       "      <th>subscription_type</th>\n",
       "      <th>distance</th>\n",
       "      <th>duration</th>\n",
       "      <th>date</th>\n",
       "      <th>month</th>\n",
       "      <th>minute_price</th>\n",
       "      <th>start_ride_price</th>\n",
       "      <th>subscription_fee</th>\n",
       "    </tr>\n",
       "  </thead>\n",
       "  <tbody>\n",
       "    <tr>\n",
       "      <th>0</th>\n",
       "      <td>1</td>\n",
       "      <td>Кира</td>\n",
       "      <td>22</td>\n",
       "      <td>Тюмень</td>\n",
       "      <td>ultra</td>\n",
       "      <td>4409.919140</td>\n",
       "      <td>25.599769</td>\n",
       "      <td>2021-01-01</td>\n",
       "      <td>1</td>\n",
       "      <td>6</td>\n",
       "      <td>0</td>\n",
       "      <td>199</td>\n",
       "    </tr>\n",
       "    <tr>\n",
       "      <th>1</th>\n",
       "      <td>1</td>\n",
       "      <td>Кира</td>\n",
       "      <td>22</td>\n",
       "      <td>Тюмень</td>\n",
       "      <td>ultra</td>\n",
       "      <td>2617.592153</td>\n",
       "      <td>15.816871</td>\n",
       "      <td>2021-01-18</td>\n",
       "      <td>1</td>\n",
       "      <td>6</td>\n",
       "      <td>0</td>\n",
       "      <td>199</td>\n",
       "    </tr>\n",
       "    <tr>\n",
       "      <th>2</th>\n",
       "      <td>1</td>\n",
       "      <td>Кира</td>\n",
       "      <td>22</td>\n",
       "      <td>Тюмень</td>\n",
       "      <td>ultra</td>\n",
       "      <td>754.159807</td>\n",
       "      <td>6.232113</td>\n",
       "      <td>2021-04-20</td>\n",
       "      <td>4</td>\n",
       "      <td>6</td>\n",
       "      <td>0</td>\n",
       "      <td>199</td>\n",
       "    </tr>\n",
       "    <tr>\n",
       "      <th>3</th>\n",
       "      <td>1</td>\n",
       "      <td>Кира</td>\n",
       "      <td>22</td>\n",
       "      <td>Тюмень</td>\n",
       "      <td>ultra</td>\n",
       "      <td>2694.783254</td>\n",
       "      <td>18.511000</td>\n",
       "      <td>2021-08-11</td>\n",
       "      <td>8</td>\n",
       "      <td>6</td>\n",
       "      <td>0</td>\n",
       "      <td>199</td>\n",
       "    </tr>\n",
       "    <tr>\n",
       "      <th>4</th>\n",
       "      <td>1</td>\n",
       "      <td>Кира</td>\n",
       "      <td>22</td>\n",
       "      <td>Тюмень</td>\n",
       "      <td>ultra</td>\n",
       "      <td>4028.687306</td>\n",
       "      <td>26.265803</td>\n",
       "      <td>2021-08-28</td>\n",
       "      <td>8</td>\n",
       "      <td>6</td>\n",
       "      <td>0</td>\n",
       "      <td>199</td>\n",
       "    </tr>\n",
       "    <tr>\n",
       "      <th>...</th>\n",
       "      <td>...</td>\n",
       "      <td>...</td>\n",
       "      <td>...</td>\n",
       "      <td>...</td>\n",
       "      <td>...</td>\n",
       "      <td>...</td>\n",
       "      <td>...</td>\n",
       "      <td>...</td>\n",
       "      <td>...</td>\n",
       "      <td>...</td>\n",
       "      <td>...</td>\n",
       "      <td>...</td>\n",
       "    </tr>\n",
       "    <tr>\n",
       "      <th>17968</th>\n",
       "      <td>1534</td>\n",
       "      <td>Альберт</td>\n",
       "      <td>25</td>\n",
       "      <td>Краснодар</td>\n",
       "      <td>free</td>\n",
       "      <td>3781.098080</td>\n",
       "      <td>19.822962</td>\n",
       "      <td>2021-11-04</td>\n",
       "      <td>11</td>\n",
       "      <td>8</td>\n",
       "      <td>50</td>\n",
       "      <td>0</td>\n",
       "    </tr>\n",
       "    <tr>\n",
       "      <th>17969</th>\n",
       "      <td>1534</td>\n",
       "      <td>Альберт</td>\n",
       "      <td>25</td>\n",
       "      <td>Краснодар</td>\n",
       "      <td>free</td>\n",
       "      <td>2840.423057</td>\n",
       "      <td>21.409799</td>\n",
       "      <td>2021-11-16</td>\n",
       "      <td>11</td>\n",
       "      <td>8</td>\n",
       "      <td>50</td>\n",
       "      <td>0</td>\n",
       "    </tr>\n",
       "    <tr>\n",
       "      <th>17970</th>\n",
       "      <td>1534</td>\n",
       "      <td>Альберт</td>\n",
       "      <td>25</td>\n",
       "      <td>Краснодар</td>\n",
       "      <td>free</td>\n",
       "      <td>3826.185507</td>\n",
       "      <td>18.435051</td>\n",
       "      <td>2021-11-18</td>\n",
       "      <td>11</td>\n",
       "      <td>8</td>\n",
       "      <td>50</td>\n",
       "      <td>0</td>\n",
       "    </tr>\n",
       "    <tr>\n",
       "      <th>17971</th>\n",
       "      <td>1534</td>\n",
       "      <td>Альберт</td>\n",
       "      <td>25</td>\n",
       "      <td>Краснодар</td>\n",
       "      <td>free</td>\n",
       "      <td>2902.308661</td>\n",
       "      <td>16.674362</td>\n",
       "      <td>2021-11-27</td>\n",
       "      <td>11</td>\n",
       "      <td>8</td>\n",
       "      <td>50</td>\n",
       "      <td>0</td>\n",
       "    </tr>\n",
       "    <tr>\n",
       "      <th>17972</th>\n",
       "      <td>1534</td>\n",
       "      <td>Альберт</td>\n",
       "      <td>25</td>\n",
       "      <td>Краснодар</td>\n",
       "      <td>free</td>\n",
       "      <td>2371.711192</td>\n",
       "      <td>15.893917</td>\n",
       "      <td>2021-12-29</td>\n",
       "      <td>12</td>\n",
       "      <td>8</td>\n",
       "      <td>50</td>\n",
       "      <td>0</td>\n",
       "    </tr>\n",
       "  </tbody>\n",
       "</table>\n",
       "<p>17973 rows × 12 columns</p>\n",
       "</div>"
      ],
      "text/plain": [
       "       user_id     name  age       city subscription_type     distance  \\\n",
       "0            1     Кира   22     Тюмень             ultra  4409.919140   \n",
       "1            1     Кира   22     Тюмень             ultra  2617.592153   \n",
       "2            1     Кира   22     Тюмень             ultra   754.159807   \n",
       "3            1     Кира   22     Тюмень             ultra  2694.783254   \n",
       "4            1     Кира   22     Тюмень             ultra  4028.687306   \n",
       "...        ...      ...  ...        ...               ...          ...   \n",
       "17968     1534  Альберт   25  Краснодар              free  3781.098080   \n",
       "17969     1534  Альберт   25  Краснодар              free  2840.423057   \n",
       "17970     1534  Альберт   25  Краснодар              free  3826.185507   \n",
       "17971     1534  Альберт   25  Краснодар              free  2902.308661   \n",
       "17972     1534  Альберт   25  Краснодар              free  2371.711192   \n",
       "\n",
       "        duration       date  month  minute_price  start_ride_price  \\\n",
       "0      25.599769 2021-01-01      1             6                 0   \n",
       "1      15.816871 2021-01-18      1             6                 0   \n",
       "2       6.232113 2021-04-20      4             6                 0   \n",
       "3      18.511000 2021-08-11      8             6                 0   \n",
       "4      26.265803 2021-08-28      8             6                 0   \n",
       "...          ...        ...    ...           ...               ...   \n",
       "17968  19.822962 2021-11-04     11             8                50   \n",
       "17969  21.409799 2021-11-16     11             8                50   \n",
       "17970  18.435051 2021-11-18     11             8                50   \n",
       "17971  16.674362 2021-11-27     11             8                50   \n",
       "17972  15.893917 2021-12-29     12             8                50   \n",
       "\n",
       "       subscription_fee  \n",
       "0                   199  \n",
       "1                   199  \n",
       "2                   199  \n",
       "3                   199  \n",
       "4                   199  \n",
       "...                 ...  \n",
       "17968                 0  \n",
       "17969                 0  \n",
       "17970                 0  \n",
       "17971                 0  \n",
       "17972                 0  \n",
       "\n",
       "[17973 rows x 12 columns]"
      ]
     },
     "execution_count": 28,
     "metadata": {},
     "output_type": "execute_result"
    }
   ],
   "source": [
    "#объединяем предыдущий датафрейм с инфо о подписках\n",
    "merged_data = pd.merge(users_rides, subscriptions, on='subscription_type', how='inner')\n",
    "merged_data"
   ]
  },
  {
   "cell_type": "code",
   "execution_count": 29,
   "id": "8d13f682",
   "metadata": {},
   "outputs": [
    {
     "data": {
      "text/plain": [
       "user_id              0\n",
       "name                 0\n",
       "age                  0\n",
       "city                 0\n",
       "subscription_type    0\n",
       "distance             0\n",
       "duration             0\n",
       "date                 0\n",
       "month                0\n",
       "minute_price         0\n",
       "start_ride_price     0\n",
       "subscription_fee     0\n",
       "dtype: int64"
      ]
     },
     "execution_count": 29,
     "metadata": {},
     "output_type": "execute_result"
    }
   ],
   "source": [
    "#проверяем, не возникли ли пропуски\n",
    "merged_data.isna().sum()"
   ]
  },
  {
   "cell_type": "code",
   "execution_count": 30,
   "id": "5fb7304b",
   "metadata": {
    "scrolled": true
   },
   "outputs": [
    {
     "data": {
      "text/plain": [
       "17973"
      ]
     },
     "execution_count": 30,
     "metadata": {},
     "output_type": "execute_result"
    }
   ],
   "source": [
    "#проверяем размер, соответсвует ли ожиданиям \n",
    "expected_size = len(merged_data)\n",
    "expected_size"
   ]
  },
  {
   "cell_type": "code",
   "execution_count": 31,
   "id": "8f3d839c",
   "metadata": {
    "scrolled": true
   },
   "outputs": [
    {
     "data": {
      "text/plain": [
       "free     11473\n",
       "ultra     6500\n",
       "Name: subscription_type, dtype: int64"
      ]
     },
     "execution_count": 31,
     "metadata": {},
     "output_type": "execute_result"
    }
   ],
   "source": [
    "#сколько всего юзеров с подпиской и без\n",
    "merged_data['subscription_type'].value_counts()"
   ]
  },
  {
   "cell_type": "code",
   "execution_count": 32,
   "id": "a4522a7a",
   "metadata": {},
   "outputs": [
    {
     "data": {
      "text/html": [
       "<div>\n",
       "<style scoped>\n",
       "    .dataframe tbody tr th:only-of-type {\n",
       "        vertical-align: middle;\n",
       "    }\n",
       "\n",
       "    .dataframe tbody tr th {\n",
       "        vertical-align: top;\n",
       "    }\n",
       "\n",
       "    .dataframe thead th {\n",
       "        text-align: right;\n",
       "    }\n",
       "</style>\n",
       "<table border=\"1\" class=\"dataframe\">\n",
       "  <thead>\n",
       "    <tr style=\"text-align: right;\">\n",
       "      <th></th>\n",
       "      <th>user_id</th>\n",
       "      <th>name</th>\n",
       "      <th>age</th>\n",
       "      <th>city</th>\n",
       "      <th>subscription_type</th>\n",
       "      <th>distance</th>\n",
       "      <th>duration</th>\n",
       "      <th>date</th>\n",
       "      <th>month</th>\n",
       "      <th>minute_price</th>\n",
       "      <th>start_ride_price</th>\n",
       "      <th>subscription_fee</th>\n",
       "    </tr>\n",
       "  </thead>\n",
       "  <tbody>\n",
       "    <tr>\n",
       "      <th>0</th>\n",
       "      <td>1</td>\n",
       "      <td>Кира</td>\n",
       "      <td>22</td>\n",
       "      <td>Тюмень</td>\n",
       "      <td>ultra</td>\n",
       "      <td>4409.919140</td>\n",
       "      <td>25.599769</td>\n",
       "      <td>2021-01-01</td>\n",
       "      <td>1</td>\n",
       "      <td>6</td>\n",
       "      <td>0</td>\n",
       "      <td>199</td>\n",
       "    </tr>\n",
       "    <tr>\n",
       "      <th>1</th>\n",
       "      <td>1</td>\n",
       "      <td>Кира</td>\n",
       "      <td>22</td>\n",
       "      <td>Тюмень</td>\n",
       "      <td>ultra</td>\n",
       "      <td>2617.592153</td>\n",
       "      <td>15.816871</td>\n",
       "      <td>2021-01-18</td>\n",
       "      <td>1</td>\n",
       "      <td>6</td>\n",
       "      <td>0</td>\n",
       "      <td>199</td>\n",
       "    </tr>\n",
       "    <tr>\n",
       "      <th>2</th>\n",
       "      <td>1</td>\n",
       "      <td>Кира</td>\n",
       "      <td>22</td>\n",
       "      <td>Тюмень</td>\n",
       "      <td>ultra</td>\n",
       "      <td>754.159807</td>\n",
       "      <td>6.232113</td>\n",
       "      <td>2021-04-20</td>\n",
       "      <td>4</td>\n",
       "      <td>6</td>\n",
       "      <td>0</td>\n",
       "      <td>199</td>\n",
       "    </tr>\n",
       "    <tr>\n",
       "      <th>3</th>\n",
       "      <td>1</td>\n",
       "      <td>Кира</td>\n",
       "      <td>22</td>\n",
       "      <td>Тюмень</td>\n",
       "      <td>ultra</td>\n",
       "      <td>2694.783254</td>\n",
       "      <td>18.511000</td>\n",
       "      <td>2021-08-11</td>\n",
       "      <td>8</td>\n",
       "      <td>6</td>\n",
       "      <td>0</td>\n",
       "      <td>199</td>\n",
       "    </tr>\n",
       "    <tr>\n",
       "      <th>4</th>\n",
       "      <td>1</td>\n",
       "      <td>Кира</td>\n",
       "      <td>22</td>\n",
       "      <td>Тюмень</td>\n",
       "      <td>ultra</td>\n",
       "      <td>4028.687306</td>\n",
       "      <td>26.265803</td>\n",
       "      <td>2021-08-28</td>\n",
       "      <td>8</td>\n",
       "      <td>6</td>\n",
       "      <td>0</td>\n",
       "      <td>199</td>\n",
       "    </tr>\n",
       "    <tr>\n",
       "      <th>...</th>\n",
       "      <td>...</td>\n",
       "      <td>...</td>\n",
       "      <td>...</td>\n",
       "      <td>...</td>\n",
       "      <td>...</td>\n",
       "      <td>...</td>\n",
       "      <td>...</td>\n",
       "      <td>...</td>\n",
       "      <td>...</td>\n",
       "      <td>...</td>\n",
       "      <td>...</td>\n",
       "      <td>...</td>\n",
       "    </tr>\n",
       "    <tr>\n",
       "      <th>6495</th>\n",
       "      <td>699</td>\n",
       "      <td>Оксана</td>\n",
       "      <td>22</td>\n",
       "      <td>Москва</td>\n",
       "      <td>ultra</td>\n",
       "      <td>3973.046497</td>\n",
       "      <td>24.671163</td>\n",
       "      <td>2021-08-29</td>\n",
       "      <td>8</td>\n",
       "      <td>6</td>\n",
       "      <td>0</td>\n",
       "      <td>199</td>\n",
       "    </tr>\n",
       "    <tr>\n",
       "      <th>6496</th>\n",
       "      <td>699</td>\n",
       "      <td>Оксана</td>\n",
       "      <td>22</td>\n",
       "      <td>Москва</td>\n",
       "      <td>ultra</td>\n",
       "      <td>3288.702563</td>\n",
       "      <td>15.892886</td>\n",
       "      <td>2021-09-12</td>\n",
       "      <td>9</td>\n",
       "      <td>6</td>\n",
       "      <td>0</td>\n",
       "      <td>199</td>\n",
       "    </tr>\n",
       "    <tr>\n",
       "      <th>6497</th>\n",
       "      <td>699</td>\n",
       "      <td>Оксана</td>\n",
       "      <td>22</td>\n",
       "      <td>Москва</td>\n",
       "      <td>ultra</td>\n",
       "      <td>3076.159348</td>\n",
       "      <td>14.389525</td>\n",
       "      <td>2021-09-26</td>\n",
       "      <td>9</td>\n",
       "      <td>6</td>\n",
       "      <td>0</td>\n",
       "      <td>199</td>\n",
       "    </tr>\n",
       "    <tr>\n",
       "      <th>6498</th>\n",
       "      <td>699</td>\n",
       "      <td>Оксана</td>\n",
       "      <td>22</td>\n",
       "      <td>Москва</td>\n",
       "      <td>ultra</td>\n",
       "      <td>4707.845501</td>\n",
       "      <td>15.839579</td>\n",
       "      <td>2021-10-17</td>\n",
       "      <td>10</td>\n",
       "      <td>6</td>\n",
       "      <td>0</td>\n",
       "      <td>199</td>\n",
       "    </tr>\n",
       "    <tr>\n",
       "      <th>6499</th>\n",
       "      <td>699</td>\n",
       "      <td>Оксана</td>\n",
       "      <td>22</td>\n",
       "      <td>Москва</td>\n",
       "      <td>ultra</td>\n",
       "      <td>3202.890770</td>\n",
       "      <td>25.217345</td>\n",
       "      <td>2021-12-03</td>\n",
       "      <td>12</td>\n",
       "      <td>6</td>\n",
       "      <td>0</td>\n",
       "      <td>199</td>\n",
       "    </tr>\n",
       "  </tbody>\n",
       "</table>\n",
       "<p>6500 rows × 12 columns</p>\n",
       "</div>"
      ],
      "text/plain": [
       "      user_id    name  age    city subscription_type     distance   duration  \\\n",
       "0           1    Кира   22  Тюмень             ultra  4409.919140  25.599769   \n",
       "1           1    Кира   22  Тюмень             ultra  2617.592153  15.816871   \n",
       "2           1    Кира   22  Тюмень             ultra   754.159807   6.232113   \n",
       "3           1    Кира   22  Тюмень             ultra  2694.783254  18.511000   \n",
       "4           1    Кира   22  Тюмень             ultra  4028.687306  26.265803   \n",
       "...       ...     ...  ...     ...               ...          ...        ...   \n",
       "6495      699  Оксана   22  Москва             ultra  3973.046497  24.671163   \n",
       "6496      699  Оксана   22  Москва             ultra  3288.702563  15.892886   \n",
       "6497      699  Оксана   22  Москва             ultra  3076.159348  14.389525   \n",
       "6498      699  Оксана   22  Москва             ultra  4707.845501  15.839579   \n",
       "6499      699  Оксана   22  Москва             ultra  3202.890770  25.217345   \n",
       "\n",
       "           date  month  minute_price  start_ride_price  subscription_fee  \n",
       "0    2021-01-01      1             6                 0               199  \n",
       "1    2021-01-18      1             6                 0               199  \n",
       "2    2021-04-20      4             6                 0               199  \n",
       "3    2021-08-11      8             6                 0               199  \n",
       "4    2021-08-28      8             6                 0               199  \n",
       "...         ...    ...           ...               ...               ...  \n",
       "6495 2021-08-29      8             6                 0               199  \n",
       "6496 2021-09-12      9             6                 0               199  \n",
       "6497 2021-09-26      9             6                 0               199  \n",
       "6498 2021-10-17     10             6                 0               199  \n",
       "6499 2021-12-03     12             6                 0               199  \n",
       "\n",
       "[6500 rows x 12 columns]"
      ]
     },
     "execution_count": 32,
     "metadata": {},
     "output_type": "execute_result"
    }
   ],
   "source": [
    "#создаем датафрейм с данными о юзерах с подпиской\n",
    "users_ultra = merged_data[merged_data['subscription_type'] == 'ultra']\n",
    "users_ultra"
   ]
  },
  {
   "cell_type": "code",
   "execution_count": 33,
   "id": "1666f6fa",
   "metadata": {},
   "outputs": [
    {
     "data": {
      "text/html": [
       "<div>\n",
       "<style scoped>\n",
       "    .dataframe tbody tr th:only-of-type {\n",
       "        vertical-align: middle;\n",
       "    }\n",
       "\n",
       "    .dataframe tbody tr th {\n",
       "        vertical-align: top;\n",
       "    }\n",
       "\n",
       "    .dataframe thead th {\n",
       "        text-align: right;\n",
       "    }\n",
       "</style>\n",
       "<table border=\"1\" class=\"dataframe\">\n",
       "  <thead>\n",
       "    <tr style=\"text-align: right;\">\n",
       "      <th></th>\n",
       "      <th>user_id</th>\n",
       "      <th>name</th>\n",
       "      <th>age</th>\n",
       "      <th>city</th>\n",
       "      <th>subscription_type</th>\n",
       "      <th>distance</th>\n",
       "      <th>duration</th>\n",
       "      <th>date</th>\n",
       "      <th>month</th>\n",
       "      <th>minute_price</th>\n",
       "      <th>start_ride_price</th>\n",
       "      <th>subscription_fee</th>\n",
       "    </tr>\n",
       "  </thead>\n",
       "  <tbody>\n",
       "    <tr>\n",
       "      <th>6500</th>\n",
       "      <td>700</td>\n",
       "      <td>Айдар</td>\n",
       "      <td>22</td>\n",
       "      <td>Омск</td>\n",
       "      <td>free</td>\n",
       "      <td>2515.690719</td>\n",
       "      <td>14.944286</td>\n",
       "      <td>2021-01-02</td>\n",
       "      <td>1</td>\n",
       "      <td>8</td>\n",
       "      <td>50</td>\n",
       "      <td>0</td>\n",
       "    </tr>\n",
       "    <tr>\n",
       "      <th>6501</th>\n",
       "      <td>700</td>\n",
       "      <td>Айдар</td>\n",
       "      <td>22</td>\n",
       "      <td>Омск</td>\n",
       "      <td>free</td>\n",
       "      <td>846.932642</td>\n",
       "      <td>16.234663</td>\n",
       "      <td>2021-02-01</td>\n",
       "      <td>2</td>\n",
       "      <td>8</td>\n",
       "      <td>50</td>\n",
       "      <td>0</td>\n",
       "    </tr>\n",
       "    <tr>\n",
       "      <th>6502</th>\n",
       "      <td>700</td>\n",
       "      <td>Айдар</td>\n",
       "      <td>22</td>\n",
       "      <td>Омск</td>\n",
       "      <td>free</td>\n",
       "      <td>4004.434142</td>\n",
       "      <td>20.016628</td>\n",
       "      <td>2021-02-04</td>\n",
       "      <td>2</td>\n",
       "      <td>8</td>\n",
       "      <td>50</td>\n",
       "      <td>0</td>\n",
       "    </tr>\n",
       "    <tr>\n",
       "      <th>6503</th>\n",
       "      <td>700</td>\n",
       "      <td>Айдар</td>\n",
       "      <td>22</td>\n",
       "      <td>Омск</td>\n",
       "      <td>free</td>\n",
       "      <td>1205.911290</td>\n",
       "      <td>9.782872</td>\n",
       "      <td>2021-02-10</td>\n",
       "      <td>2</td>\n",
       "      <td>8</td>\n",
       "      <td>50</td>\n",
       "      <td>0</td>\n",
       "    </tr>\n",
       "    <tr>\n",
       "      <th>6504</th>\n",
       "      <td>700</td>\n",
       "      <td>Айдар</td>\n",
       "      <td>22</td>\n",
       "      <td>Омск</td>\n",
       "      <td>free</td>\n",
       "      <td>3047.379435</td>\n",
       "      <td>17.427673</td>\n",
       "      <td>2021-02-14</td>\n",
       "      <td>2</td>\n",
       "      <td>8</td>\n",
       "      <td>50</td>\n",
       "      <td>0</td>\n",
       "    </tr>\n",
       "    <tr>\n",
       "      <th>...</th>\n",
       "      <td>...</td>\n",
       "      <td>...</td>\n",
       "      <td>...</td>\n",
       "      <td>...</td>\n",
       "      <td>...</td>\n",
       "      <td>...</td>\n",
       "      <td>...</td>\n",
       "      <td>...</td>\n",
       "      <td>...</td>\n",
       "      <td>...</td>\n",
       "      <td>...</td>\n",
       "      <td>...</td>\n",
       "    </tr>\n",
       "    <tr>\n",
       "      <th>17968</th>\n",
       "      <td>1534</td>\n",
       "      <td>Альберт</td>\n",
       "      <td>25</td>\n",
       "      <td>Краснодар</td>\n",
       "      <td>free</td>\n",
       "      <td>3781.098080</td>\n",
       "      <td>19.822962</td>\n",
       "      <td>2021-11-04</td>\n",
       "      <td>11</td>\n",
       "      <td>8</td>\n",
       "      <td>50</td>\n",
       "      <td>0</td>\n",
       "    </tr>\n",
       "    <tr>\n",
       "      <th>17969</th>\n",
       "      <td>1534</td>\n",
       "      <td>Альберт</td>\n",
       "      <td>25</td>\n",
       "      <td>Краснодар</td>\n",
       "      <td>free</td>\n",
       "      <td>2840.423057</td>\n",
       "      <td>21.409799</td>\n",
       "      <td>2021-11-16</td>\n",
       "      <td>11</td>\n",
       "      <td>8</td>\n",
       "      <td>50</td>\n",
       "      <td>0</td>\n",
       "    </tr>\n",
       "    <tr>\n",
       "      <th>17970</th>\n",
       "      <td>1534</td>\n",
       "      <td>Альберт</td>\n",
       "      <td>25</td>\n",
       "      <td>Краснодар</td>\n",
       "      <td>free</td>\n",
       "      <td>3826.185507</td>\n",
       "      <td>18.435051</td>\n",
       "      <td>2021-11-18</td>\n",
       "      <td>11</td>\n",
       "      <td>8</td>\n",
       "      <td>50</td>\n",
       "      <td>0</td>\n",
       "    </tr>\n",
       "    <tr>\n",
       "      <th>17971</th>\n",
       "      <td>1534</td>\n",
       "      <td>Альберт</td>\n",
       "      <td>25</td>\n",
       "      <td>Краснодар</td>\n",
       "      <td>free</td>\n",
       "      <td>2902.308661</td>\n",
       "      <td>16.674362</td>\n",
       "      <td>2021-11-27</td>\n",
       "      <td>11</td>\n",
       "      <td>8</td>\n",
       "      <td>50</td>\n",
       "      <td>0</td>\n",
       "    </tr>\n",
       "    <tr>\n",
       "      <th>17972</th>\n",
       "      <td>1534</td>\n",
       "      <td>Альберт</td>\n",
       "      <td>25</td>\n",
       "      <td>Краснодар</td>\n",
       "      <td>free</td>\n",
       "      <td>2371.711192</td>\n",
       "      <td>15.893917</td>\n",
       "      <td>2021-12-29</td>\n",
       "      <td>12</td>\n",
       "      <td>8</td>\n",
       "      <td>50</td>\n",
       "      <td>0</td>\n",
       "    </tr>\n",
       "  </tbody>\n",
       "</table>\n",
       "<p>11473 rows × 12 columns</p>\n",
       "</div>"
      ],
      "text/plain": [
       "       user_id     name  age       city subscription_type     distance  \\\n",
       "6500       700    Айдар   22       Омск              free  2515.690719   \n",
       "6501       700    Айдар   22       Омск              free   846.932642   \n",
       "6502       700    Айдар   22       Омск              free  4004.434142   \n",
       "6503       700    Айдар   22       Омск              free  1205.911290   \n",
       "6504       700    Айдар   22       Омск              free  3047.379435   \n",
       "...        ...      ...  ...        ...               ...          ...   \n",
       "17968     1534  Альберт   25  Краснодар              free  3781.098080   \n",
       "17969     1534  Альберт   25  Краснодар              free  2840.423057   \n",
       "17970     1534  Альберт   25  Краснодар              free  3826.185507   \n",
       "17971     1534  Альберт   25  Краснодар              free  2902.308661   \n",
       "17972     1534  Альберт   25  Краснодар              free  2371.711192   \n",
       "\n",
       "        duration       date  month  minute_price  start_ride_price  \\\n",
       "6500   14.944286 2021-01-02      1             8                50   \n",
       "6501   16.234663 2021-02-01      2             8                50   \n",
       "6502   20.016628 2021-02-04      2             8                50   \n",
       "6503    9.782872 2021-02-10      2             8                50   \n",
       "6504   17.427673 2021-02-14      2             8                50   \n",
       "...          ...        ...    ...           ...               ...   \n",
       "17968  19.822962 2021-11-04     11             8                50   \n",
       "17969  21.409799 2021-11-16     11             8                50   \n",
       "17970  18.435051 2021-11-18     11             8                50   \n",
       "17971  16.674362 2021-11-27     11             8                50   \n",
       "17972  15.893917 2021-12-29     12             8                50   \n",
       "\n",
       "       subscription_fee  \n",
       "6500                  0  \n",
       "6501                  0  \n",
       "6502                  0  \n",
       "6503                  0  \n",
       "6504                  0  \n",
       "...                 ...  \n",
       "17968                 0  \n",
       "17969                 0  \n",
       "17970                 0  \n",
       "17971                 0  \n",
       "17972                 0  \n",
       "\n",
       "[11473 rows x 12 columns]"
      ]
     },
     "execution_count": 33,
     "metadata": {},
     "output_type": "execute_result"
    }
   ],
   "source": [
    "#и без подписки\n",
    "users_free = merged_data[merged_data['subscription_type'] == 'free']\n",
    "users_free"
   ]
  },
  {
   "cell_type": "code",
   "execution_count": 34,
   "id": "6a845e57",
   "metadata": {},
   "outputs": [
    {
     "data": {
      "image/png": "[encoded data removed]",
      "text/plain": [
       "<Figure size 720x432 with 1 Axes>"
      ]
     },
     "metadata": {
      "needs_background": "light"
     },
     "output_type": "display_data"
    },
    {
     "data": {
      "image/png": "[encoded data removed]",
      "text/plain": [
       "<Figure size 720x432 with 1 Axes>"
      ]
     },
     "metadata": {
      "needs_background": "light"
     },
     "output_type": "display_data"
    }
   ],
   "source": [
    "#строим гистограммы для инфо о расстоянии поездки для юзеров обоих категорий\n",
    "plt.figure(figsize=(10, 6))\n",
    "sns.histplot(data=merged_data, x='distance', hue='subscription_type', hue_order=['free', 'ultra'], kde=True, palette='Set1')\n",
    "plt.title('Распределение расстояния поездок по типу подписки')\n",
    "plt.xlabel('Расстояние (м)')\n",
    "plt.ylabel('Частота')\n",
    "plt.legend(title='Тип подписки', labels=['Без подписки', 'С подпиской'])\n",
    "plt.show()\n",
    "\n",
    "#для продолжительности поездок\n",
    "plt.figure(figsize=(10, 6))\n",
    "sns.histplot(data=merged_data, x='duration', hue='subscription_type', hue_order=['free', 'ultra'], kde=True, palette='Set1')\n",
    "plt.title('Распределение продолжительности поездок по типу подписки')\n",
    "plt.xlabel('Продолжительность (минуты)')\n",
    "plt.ylabel('Частота')\n",
    "plt.legend(title='Тип подписки', labels=['Без подписки', 'С подпиской'])\n",
    "plt.show()"
   ]
  },
  {
   "cell_type": "markdown",
   "id": "59d8dfaa",
   "metadata": {},
   "source": [
    "Юзеры без подписки преодолевают большее расстояние в среднем, чем с подпиской. Но юзеры с подпиской стабильнее ездят в примерно одни и те же расстояния, т.к. распределение получилось более плавным. \n",
    "\n",
    "По продолжительности поездок люди с подпиской чаще ездят. Возможно, из-за выгодных условий по времени. И вообще, думаю, подписки \"обязывают\" ездить чаще."
   ]
  },
  {
   "cell_type": "markdown",
   "id": "402d620f",
   "metadata": {},
   "source": [
    "## Подсчёт выручки"
   ]
  },
  {
   "cell_type": "code",
   "execution_count": 35,
   "id": "9c36fa4a",
   "metadata": {},
   "outputs": [
    {
     "data": {
      "text/html": [
       "<div>\n",
       "<style scoped>\n",
       "    .dataframe tbody tr th:only-of-type {\n",
       "        vertical-align: middle;\n",
       "    }\n",
       "\n",
       "    .dataframe tbody tr th {\n",
       "        vertical-align: top;\n",
       "    }\n",
       "\n",
       "    .dataframe thead th {\n",
       "        text-align: right;\n",
       "    }\n",
       "</style>\n",
       "<table border=\"1\" class=\"dataframe\">\n",
       "  <thead>\n",
       "    <tr style=\"text-align: right;\">\n",
       "      <th></th>\n",
       "      <th>user_id</th>\n",
       "      <th>name</th>\n",
       "      <th>age</th>\n",
       "      <th>city</th>\n",
       "      <th>subscription_type</th>\n",
       "      <th>distance</th>\n",
       "      <th>duration</th>\n",
       "      <th>date</th>\n",
       "      <th>month</th>\n",
       "      <th>minute_price</th>\n",
       "      <th>start_ride_price</th>\n",
       "      <th>subscription_fee</th>\n",
       "    </tr>\n",
       "  </thead>\n",
       "  <tbody>\n",
       "    <tr>\n",
       "      <th>0</th>\n",
       "      <td>1</td>\n",
       "      <td>Кира</td>\n",
       "      <td>22</td>\n",
       "      <td>Тюмень</td>\n",
       "      <td>ultra</td>\n",
       "      <td>4409.919140</td>\n",
       "      <td>26</td>\n",
       "      <td>2021-01-01</td>\n",
       "      <td>1</td>\n",
       "      <td>6</td>\n",
       "      <td>0</td>\n",
       "      <td>199</td>\n",
       "    </tr>\n",
       "    <tr>\n",
       "      <th>1</th>\n",
       "      <td>1</td>\n",
       "      <td>Кира</td>\n",
       "      <td>22</td>\n",
       "      <td>Тюмень</td>\n",
       "      <td>ultra</td>\n",
       "      <td>2617.592153</td>\n",
       "      <td>16</td>\n",
       "      <td>2021-01-18</td>\n",
       "      <td>1</td>\n",
       "      <td>6</td>\n",
       "      <td>0</td>\n",
       "      <td>199</td>\n",
       "    </tr>\n",
       "    <tr>\n",
       "      <th>2</th>\n",
       "      <td>1</td>\n",
       "      <td>Кира</td>\n",
       "      <td>22</td>\n",
       "      <td>Тюмень</td>\n",
       "      <td>ultra</td>\n",
       "      <td>754.159807</td>\n",
       "      <td>7</td>\n",
       "      <td>2021-04-20</td>\n",
       "      <td>4</td>\n",
       "      <td>6</td>\n",
       "      <td>0</td>\n",
       "      <td>199</td>\n",
       "    </tr>\n",
       "    <tr>\n",
       "      <th>3</th>\n",
       "      <td>1</td>\n",
       "      <td>Кира</td>\n",
       "      <td>22</td>\n",
       "      <td>Тюмень</td>\n",
       "      <td>ultra</td>\n",
       "      <td>2694.783254</td>\n",
       "      <td>19</td>\n",
       "      <td>2021-08-11</td>\n",
       "      <td>8</td>\n",
       "      <td>6</td>\n",
       "      <td>0</td>\n",
       "      <td>199</td>\n",
       "    </tr>\n",
       "    <tr>\n",
       "      <th>4</th>\n",
       "      <td>1</td>\n",
       "      <td>Кира</td>\n",
       "      <td>22</td>\n",
       "      <td>Тюмень</td>\n",
       "      <td>ultra</td>\n",
       "      <td>4028.687306</td>\n",
       "      <td>27</td>\n",
       "      <td>2021-08-28</td>\n",
       "      <td>8</td>\n",
       "      <td>6</td>\n",
       "      <td>0</td>\n",
       "      <td>199</td>\n",
       "    </tr>\n",
       "    <tr>\n",
       "      <th>...</th>\n",
       "      <td>...</td>\n",
       "      <td>...</td>\n",
       "      <td>...</td>\n",
       "      <td>...</td>\n",
       "      <td>...</td>\n",
       "      <td>...</td>\n",
       "      <td>...</td>\n",
       "      <td>...</td>\n",
       "      <td>...</td>\n",
       "      <td>...</td>\n",
       "      <td>...</td>\n",
       "      <td>...</td>\n",
       "    </tr>\n",
       "    <tr>\n",
       "      <th>17968</th>\n",
       "      <td>1534</td>\n",
       "      <td>Альберт</td>\n",
       "      <td>25</td>\n",
       "      <td>Краснодар</td>\n",
       "      <td>free</td>\n",
       "      <td>3781.098080</td>\n",
       "      <td>20</td>\n",
       "      <td>2021-11-04</td>\n",
       "      <td>11</td>\n",
       "      <td>8</td>\n",
       "      <td>50</td>\n",
       "      <td>0</td>\n",
       "    </tr>\n",
       "    <tr>\n",
       "      <th>17969</th>\n",
       "      <td>1534</td>\n",
       "      <td>Альберт</td>\n",
       "      <td>25</td>\n",
       "      <td>Краснодар</td>\n",
       "      <td>free</td>\n",
       "      <td>2840.423057</td>\n",
       "      <td>22</td>\n",
       "      <td>2021-11-16</td>\n",
       "      <td>11</td>\n",
       "      <td>8</td>\n",
       "      <td>50</td>\n",
       "      <td>0</td>\n",
       "    </tr>\n",
       "    <tr>\n",
       "      <th>17970</th>\n",
       "      <td>1534</td>\n",
       "      <td>Альберт</td>\n",
       "      <td>25</td>\n",
       "      <td>Краснодар</td>\n",
       "      <td>free</td>\n",
       "      <td>3826.185507</td>\n",
       "      <td>19</td>\n",
       "      <td>2021-11-18</td>\n",
       "      <td>11</td>\n",
       "      <td>8</td>\n",
       "      <td>50</td>\n",
       "      <td>0</td>\n",
       "    </tr>\n",
       "    <tr>\n",
       "      <th>17971</th>\n",
       "      <td>1534</td>\n",
       "      <td>Альберт</td>\n",
       "      <td>25</td>\n",
       "      <td>Краснодар</td>\n",
       "      <td>free</td>\n",
       "      <td>2902.308661</td>\n",
       "      <td>17</td>\n",
       "      <td>2021-11-27</td>\n",
       "      <td>11</td>\n",
       "      <td>8</td>\n",
       "      <td>50</td>\n",
       "      <td>0</td>\n",
       "    </tr>\n",
       "    <tr>\n",
       "      <th>17972</th>\n",
       "      <td>1534</td>\n",
       "      <td>Альберт</td>\n",
       "      <td>25</td>\n",
       "      <td>Краснодар</td>\n",
       "      <td>free</td>\n",
       "      <td>2371.711192</td>\n",
       "      <td>16</td>\n",
       "      <td>2021-12-29</td>\n",
       "      <td>12</td>\n",
       "      <td>8</td>\n",
       "      <td>50</td>\n",
       "      <td>0</td>\n",
       "    </tr>\n",
       "  </tbody>\n",
       "</table>\n",
       "<p>17973 rows × 12 columns</p>\n",
       "</div>"
      ],
      "text/plain": [
       "       user_id     name  age       city subscription_type     distance  \\\n",
       "0            1     Кира   22     Тюмень             ultra  4409.919140   \n",
       "1            1     Кира   22     Тюмень             ultra  2617.592153   \n",
       "2            1     Кира   22     Тюмень             ultra   754.159807   \n",
       "3            1     Кира   22     Тюмень             ultra  2694.783254   \n",
       "4            1     Кира   22     Тюмень             ultra  4028.687306   \n",
       "...        ...      ...  ...        ...               ...          ...   \n",
       "17968     1534  Альберт   25  Краснодар              free  3781.098080   \n",
       "17969     1534  Альберт   25  Краснодар              free  2840.423057   \n",
       "17970     1534  Альберт   25  Краснодар              free  3826.185507   \n",
       "17971     1534  Альберт   25  Краснодар              free  2902.308661   \n",
       "17972     1534  Альберт   25  Краснодар              free  2371.711192   \n",
       "\n",
       "       duration       date  month  minute_price  start_ride_price  \\\n",
       "0            26 2021-01-01      1             6                 0   \n",
       "1            16 2021-01-18      1             6                 0   \n",
       "2             7 2021-04-20      4             6                 0   \n",
       "3            19 2021-08-11      8             6                 0   \n",
       "4            27 2021-08-28      8             6                 0   \n",
       "...         ...        ...    ...           ...               ...   \n",
       "17968        20 2021-11-04     11             8                50   \n",
       "17969        22 2021-11-16     11             8                50   \n",
       "17970        19 2021-11-18     11             8                50   \n",
       "17971        17 2021-11-27     11             8                50   \n",
       "17972        16 2021-12-29     12             8                50   \n",
       "\n",
       "       subscription_fee  \n",
       "0                   199  \n",
       "1                   199  \n",
       "2                   199  \n",
       "3                   199  \n",
       "4                   199  \n",
       "...                 ...  \n",
       "17968                 0  \n",
       "17969                 0  \n",
       "17970                 0  \n",
       "17971                 0  \n",
       "17972                 0  \n",
       "\n",
       "[17973 rows x 12 columns]"
      ]
     },
     "execution_count": 35,
     "metadata": {},
     "output_type": "execute_result"
    }
   ],
   "source": [
    "#округляем для подсчета стоимости до следующего целого числа\n",
    "merged_data['duration'] = np.ceil(merged_data['duration']).astype(int)\n",
    "merged_data"
   ]
  },
  {
   "cell_type": "code",
   "execution_count": 36,
   "id": "53049e0a",
   "metadata": {},
   "outputs": [
    {
     "data": {
      "text/html": [
       "<div>\n",
       "<style scoped>\n",
       "    .dataframe tbody tr th:only-of-type {\n",
       "        vertical-align: middle;\n",
       "    }\n",
       "\n",
       "    .dataframe tbody tr th {\n",
       "        vertical-align: top;\n",
       "    }\n",
       "\n",
       "    .dataframe thead th {\n",
       "        text-align: right;\n",
       "    }\n",
       "</style>\n",
       "<table border=\"1\" class=\"dataframe\">\n",
       "  <thead>\n",
       "    <tr style=\"text-align: right;\">\n",
       "      <th></th>\n",
       "      <th>user_id</th>\n",
       "      <th>month</th>\n",
       "      <th>subscription_type</th>\n",
       "      <th>total_distance</th>\n",
       "      <th>total_trips</th>\n",
       "      <th>total_duration</th>\n",
       "    </tr>\n",
       "  </thead>\n",
       "  <tbody>\n",
       "    <tr>\n",
       "      <th>0</th>\n",
       "      <td>1</td>\n",
       "      <td>1</td>\n",
       "      <td>ultra</td>\n",
       "      <td>7027.511294</td>\n",
       "      <td>2</td>\n",
       "      <td>42</td>\n",
       "    </tr>\n",
       "    <tr>\n",
       "      <th>1</th>\n",
       "      <td>1</td>\n",
       "      <td>4</td>\n",
       "      <td>ultra</td>\n",
       "      <td>754.159807</td>\n",
       "      <td>1</td>\n",
       "      <td>7</td>\n",
       "    </tr>\n",
       "    <tr>\n",
       "      <th>2</th>\n",
       "      <td>1</td>\n",
       "      <td>8</td>\n",
       "      <td>ultra</td>\n",
       "      <td>6723.470560</td>\n",
       "      <td>2</td>\n",
       "      <td>46</td>\n",
       "    </tr>\n",
       "    <tr>\n",
       "      <th>3</th>\n",
       "      <td>1</td>\n",
       "      <td>10</td>\n",
       "      <td>ultra</td>\n",
       "      <td>5809.911100</td>\n",
       "      <td>2</td>\n",
       "      <td>32</td>\n",
       "    </tr>\n",
       "    <tr>\n",
       "      <th>4</th>\n",
       "      <td>1</td>\n",
       "      <td>11</td>\n",
       "      <td>ultra</td>\n",
       "      <td>7003.499363</td>\n",
       "      <td>3</td>\n",
       "      <td>56</td>\n",
       "    </tr>\n",
       "    <tr>\n",
       "      <th>...</th>\n",
       "      <td>...</td>\n",
       "      <td>...</td>\n",
       "      <td>...</td>\n",
       "      <td>...</td>\n",
       "      <td>...</td>\n",
       "      <td>...</td>\n",
       "    </tr>\n",
       "    <tr>\n",
       "      <th>11295</th>\n",
       "      <td>1534</td>\n",
       "      <td>6</td>\n",
       "      <td>free</td>\n",
       "      <td>3409.468534</td>\n",
       "      <td>2</td>\n",
       "      <td>26</td>\n",
       "    </tr>\n",
       "    <tr>\n",
       "      <th>11296</th>\n",
       "      <td>1534</td>\n",
       "      <td>8</td>\n",
       "      <td>free</td>\n",
       "      <td>7622.453034</td>\n",
       "      <td>2</td>\n",
       "      <td>48</td>\n",
       "    </tr>\n",
       "    <tr>\n",
       "      <th>11297</th>\n",
       "      <td>1534</td>\n",
       "      <td>9</td>\n",
       "      <td>free</td>\n",
       "      <td>4928.173852</td>\n",
       "      <td>1</td>\n",
       "      <td>23</td>\n",
       "    </tr>\n",
       "    <tr>\n",
       "      <th>11298</th>\n",
       "      <td>1534</td>\n",
       "      <td>11</td>\n",
       "      <td>free</td>\n",
       "      <td>13350.015305</td>\n",
       "      <td>4</td>\n",
       "      <td>78</td>\n",
       "    </tr>\n",
       "    <tr>\n",
       "      <th>11299</th>\n",
       "      <td>1534</td>\n",
       "      <td>12</td>\n",
       "      <td>free</td>\n",
       "      <td>2371.711192</td>\n",
       "      <td>1</td>\n",
       "      <td>16</td>\n",
       "    </tr>\n",
       "  </tbody>\n",
       "</table>\n",
       "<p>11300 rows × 6 columns</p>\n",
       "</div>"
      ],
      "text/plain": [
       "       user_id  month subscription_type  total_distance  total_trips  \\\n",
       "0            1      1             ultra     7027.511294            2   \n",
       "1            1      4             ultra      754.159807            1   \n",
       "2            1      8             ultra     6723.470560            2   \n",
       "3            1     10             ultra     5809.911100            2   \n",
       "4            1     11             ultra     7003.499363            3   \n",
       "...        ...    ...               ...             ...          ...   \n",
       "11295     1534      6              free     3409.468534            2   \n",
       "11296     1534      8              free     7622.453034            2   \n",
       "11297     1534      9              free     4928.173852            1   \n",
       "11298     1534     11              free    13350.015305            4   \n",
       "11299     1534     12              free     2371.711192            1   \n",
       "\n",
       "       total_duration  \n",
       "0                  42  \n",
       "1                   7  \n",
       "2                  46  \n",
       "3                  32  \n",
       "4                  56  \n",
       "...               ...  \n",
       "11295              26  \n",
       "11296              48  \n",
       "11297              23  \n",
       "11298              78  \n",
       "11299              16  \n",
       "\n",
       "[11300 rows x 6 columns]"
      ]
     },
     "execution_count": 36,
     "metadata": {},
     "output_type": "execute_result"
    }
   ],
   "source": [
    "#найдем суммарное расстояние, количество поездок и суммарное время для каждого юзера за каждый месяц\n",
    "aggregated = merged_data.groupby(['user_id', 'month', 'subscription_type']).agg(\n",
    "    total_distance=('distance', 'sum'),\n",
    "    total_trips=('distance', 'count'),\n",
    "    total_duration=('duration', 'sum')\n",
    ").reset_index()\n",
    "aggregated\n"
   ]
  },
  {
   "cell_type": "code",
   "execution_count": 37,
   "id": "4249f801",
   "metadata": {},
   "outputs": [
    {
     "data": {
      "text/html": [
       "<div>\n",
       "<style scoped>\n",
       "    .dataframe tbody tr th:only-of-type {\n",
       "        vertical-align: middle;\n",
       "    }\n",
       "\n",
       "    .dataframe tbody tr th {\n",
       "        vertical-align: top;\n",
       "    }\n",
       "\n",
       "    .dataframe thead th {\n",
       "        text-align: right;\n",
       "    }\n",
       "</style>\n",
       "<table border=\"1\" class=\"dataframe\">\n",
       "  <thead>\n",
       "    <tr style=\"text-align: right;\">\n",
       "      <th></th>\n",
       "      <th>user_id</th>\n",
       "      <th>month</th>\n",
       "      <th>subscription_type</th>\n",
       "      <th>total_distance</th>\n",
       "      <th>total_trips</th>\n",
       "      <th>total_duration</th>\n",
       "      <th>profit</th>\n",
       "    </tr>\n",
       "  </thead>\n",
       "  <tbody>\n",
       "    <tr>\n",
       "      <th>0</th>\n",
       "      <td>1</td>\n",
       "      <td>1</td>\n",
       "      <td>ultra</td>\n",
       "      <td>7027.511294</td>\n",
       "      <td>2</td>\n",
       "      <td>42</td>\n",
       "      <td>451.0</td>\n",
       "    </tr>\n",
       "    <tr>\n",
       "      <th>1</th>\n",
       "      <td>1</td>\n",
       "      <td>4</td>\n",
       "      <td>ultra</td>\n",
       "      <td>754.159807</td>\n",
       "      <td>1</td>\n",
       "      <td>7</td>\n",
       "      <td>241.0</td>\n",
       "    </tr>\n",
       "    <tr>\n",
       "      <th>2</th>\n",
       "      <td>1</td>\n",
       "      <td>8</td>\n",
       "      <td>ultra</td>\n",
       "      <td>6723.470560</td>\n",
       "      <td>2</td>\n",
       "      <td>46</td>\n",
       "      <td>475.0</td>\n",
       "    </tr>\n",
       "    <tr>\n",
       "      <th>3</th>\n",
       "      <td>1</td>\n",
       "      <td>10</td>\n",
       "      <td>ultra</td>\n",
       "      <td>5809.911100</td>\n",
       "      <td>2</td>\n",
       "      <td>32</td>\n",
       "      <td>391.0</td>\n",
       "    </tr>\n",
       "    <tr>\n",
       "      <th>4</th>\n",
       "      <td>1</td>\n",
       "      <td>11</td>\n",
       "      <td>ultra</td>\n",
       "      <td>7003.499363</td>\n",
       "      <td>3</td>\n",
       "      <td>56</td>\n",
       "      <td>535.0</td>\n",
       "    </tr>\n",
       "    <tr>\n",
       "      <th>...</th>\n",
       "      <td>...</td>\n",
       "      <td>...</td>\n",
       "      <td>...</td>\n",
       "      <td>...</td>\n",
       "      <td>...</td>\n",
       "      <td>...</td>\n",
       "      <td>...</td>\n",
       "    </tr>\n",
       "    <tr>\n",
       "      <th>11295</th>\n",
       "      <td>1534</td>\n",
       "      <td>6</td>\n",
       "      <td>free</td>\n",
       "      <td>3409.468534</td>\n",
       "      <td>2</td>\n",
       "      <td>26</td>\n",
       "      <td>308.0</td>\n",
       "    </tr>\n",
       "    <tr>\n",
       "      <th>11296</th>\n",
       "      <td>1534</td>\n",
       "      <td>8</td>\n",
       "      <td>free</td>\n",
       "      <td>7622.453034</td>\n",
       "      <td>2</td>\n",
       "      <td>48</td>\n",
       "      <td>484.0</td>\n",
       "    </tr>\n",
       "    <tr>\n",
       "      <th>11297</th>\n",
       "      <td>1534</td>\n",
       "      <td>9</td>\n",
       "      <td>free</td>\n",
       "      <td>4928.173852</td>\n",
       "      <td>1</td>\n",
       "      <td>23</td>\n",
       "      <td>234.0</td>\n",
       "    </tr>\n",
       "    <tr>\n",
       "      <th>11298</th>\n",
       "      <td>1534</td>\n",
       "      <td>11</td>\n",
       "      <td>free</td>\n",
       "      <td>13350.015305</td>\n",
       "      <td>4</td>\n",
       "      <td>78</td>\n",
       "      <td>824.0</td>\n",
       "    </tr>\n",
       "    <tr>\n",
       "      <th>11299</th>\n",
       "      <td>1534</td>\n",
       "      <td>12</td>\n",
       "      <td>free</td>\n",
       "      <td>2371.711192</td>\n",
       "      <td>1</td>\n",
       "      <td>16</td>\n",
       "      <td>178.0</td>\n",
       "    </tr>\n",
       "  </tbody>\n",
       "</table>\n",
       "<p>11300 rows × 7 columns</p>\n",
       "</div>"
      ],
      "text/plain": [
       "       user_id  month subscription_type  total_distance  total_trips  \\\n",
       "0            1      1             ultra     7027.511294            2   \n",
       "1            1      4             ultra      754.159807            1   \n",
       "2            1      8             ultra     6723.470560            2   \n",
       "3            1     10             ultra     5809.911100            2   \n",
       "4            1     11             ultra     7003.499363            3   \n",
       "...        ...    ...               ...             ...          ...   \n",
       "11295     1534      6              free     3409.468534            2   \n",
       "11296     1534      8              free     7622.453034            2   \n",
       "11297     1534      9              free     4928.173852            1   \n",
       "11298     1534     11              free    13350.015305            4   \n",
       "11299     1534     12              free     2371.711192            1   \n",
       "\n",
       "       total_duration  profit  \n",
       "0                  42   451.0  \n",
       "1                   7   241.0  \n",
       "2                  46   475.0  \n",
       "3                  32   391.0  \n",
       "4                  56   535.0  \n",
       "...               ...     ...  \n",
       "11295              26   308.0  \n",
       "11296              48   484.0  \n",
       "11297              23   234.0  \n",
       "11298              78   824.0  \n",
       "11299              16   178.0  \n",
       "\n",
       "[11300 rows x 7 columns]"
      ]
     },
     "execution_count": 37,
     "metadata": {},
     "output_type": "execute_result"
    }
   ],
   "source": [
    "#добаввляем столбец с помесячной выручкой, которую принес каждый юзер\n",
    "aggregated['profit'] = (merged_data['start_ride_price'] * aggregated['total_trips'] + merged_data['minute_price'] * aggregated['total_duration'] + merged_data['subscription_fee'])\n",
    "aggregated"
   ]
  },
  {
   "cell_type": "code",
   "execution_count": 38,
   "id": "142040d5",
   "metadata": {
    "scrolled": true
   },
   "outputs": [
    {
     "data": {
      "text/html": [
       "<div>\n",
       "<style scoped>\n",
       "    .dataframe tbody tr th:only-of-type {\n",
       "        vertical-align: middle;\n",
       "    }\n",
       "\n",
       "    .dataframe tbody tr th {\n",
       "        vertical-align: top;\n",
       "    }\n",
       "\n",
       "    .dataframe thead th {\n",
       "        text-align: right;\n",
       "    }\n",
       "</style>\n",
       "<table border=\"1\" class=\"dataframe\">\n",
       "  <thead>\n",
       "    <tr style=\"text-align: right;\">\n",
       "      <th></th>\n",
       "      <th>free</th>\n",
       "      <th>ultra</th>\n",
       "    </tr>\n",
       "    <tr>\n",
       "      <th>month</th>\n",
       "      <th></th>\n",
       "      <th></th>\n",
       "    </tr>\n",
       "  </thead>\n",
       "  <tbody>\n",
       "    <tr>\n",
       "      <th>1</th>\n",
       "      <td>203593.0</td>\n",
       "      <td>144108.0</td>\n",
       "    </tr>\n",
       "    <tr>\n",
       "      <th>2</th>\n",
       "      <td>173477.0</td>\n",
       "      <td>124572.0</td>\n",
       "    </tr>\n",
       "    <tr>\n",
       "      <th>3</th>\n",
       "      <td>194113.0</td>\n",
       "      <td>142608.0</td>\n",
       "    </tr>\n",
       "    <tr>\n",
       "      <th>4</th>\n",
       "      <td>193294.0</td>\n",
       "      <td>137318.0</td>\n",
       "    </tr>\n",
       "    <tr>\n",
       "      <th>5</th>\n",
       "      <td>197182.0</td>\n",
       "      <td>149235.0</td>\n",
       "    </tr>\n",
       "    <tr>\n",
       "      <th>6</th>\n",
       "      <td>200527.0</td>\n",
       "      <td>143834.0</td>\n",
       "    </tr>\n",
       "    <tr>\n",
       "      <th>7</th>\n",
       "      <td>193257.0</td>\n",
       "      <td>143466.0</td>\n",
       "    </tr>\n",
       "    <tr>\n",
       "      <th>8</th>\n",
       "      <td>195404.0</td>\n",
       "      <td>138534.0</td>\n",
       "    </tr>\n",
       "    <tr>\n",
       "      <th>9</th>\n",
       "      <td>202552.0</td>\n",
       "      <td>129337.0</td>\n",
       "    </tr>\n",
       "    <tr>\n",
       "      <th>10</th>\n",
       "      <td>189088.0</td>\n",
       "      <td>133932.0</td>\n",
       "    </tr>\n",
       "    <tr>\n",
       "      <th>11</th>\n",
       "      <td>187981.0</td>\n",
       "      <td>126546.0</td>\n",
       "    </tr>\n",
       "    <tr>\n",
       "      <th>12</th>\n",
       "      <td>201963.0</td>\n",
       "      <td>131047.0</td>\n",
       "    </tr>\n",
       "  </tbody>\n",
       "</table>\n",
       "</div>"
      ],
      "text/plain": [
       "           free     ultra\n",
       "month                    \n",
       "1      203593.0  144108.0\n",
       "2      173477.0  124572.0\n",
       "3      194113.0  142608.0\n",
       "4      193294.0  137318.0\n",
       "5      197182.0  149235.0\n",
       "6      200527.0  143834.0\n",
       "7      193257.0  143466.0\n",
       "8      195404.0  138534.0\n",
       "9      202552.0  129337.0\n",
       "10     189088.0  133932.0\n",
       "11     187981.0  126546.0\n",
       "12     201963.0  131047.0"
      ]
     },
     "execution_count": 38,
     "metadata": {},
     "output_type": "execute_result"
    }
   ],
   "source": [
    "#смотрим выручку юзеров с подпиской и без по месяцам\n",
    "monthly_revenue = aggregated.pivot_table(index='month', columns='subscription_type', values='profit', aggfunc = 'sum')\n",
    "monthly_revenue.columns = ['free', 'ultra']\n",
    "monthly_revenue"
   ]
  },
  {
   "cell_type": "code",
   "execution_count": 39,
   "id": "4475fb40",
   "metadata": {},
   "outputs": [
    {
     "data": {
      "image/png": "[encoded data removed]",
      "text/plain": [
       "<Figure size 432x288 with 1 Axes>"
      ]
     },
     "metadata": {
      "needs_background": "light"
     },
     "output_type": "display_data"
    }
   ],
   "source": [
    "#визуализируем помесячную выручку\n",
    "\n",
    "monthly_revenue.plot(kind='bar', stacked=True)\n",
    "\n",
    "# Adding labels and title\n",
    "plt.xlabel('Month')\n",
    "plt.ylabel('Profit')\n",
    "plt.title('Monthly Revenue by Subscription Type')\n",
    "plt.legend(title='Subscription Type')\n",
    "\n",
    "# Show the plot\n",
    "plt.show()"
   ]
  },
  {
   "cell_type": "markdown",
   "id": "2d359ece",
   "metadata": {},
   "source": [
    "Видно, что юзеры без подписки приносят больше выручки. Причинами для отказа от подписки могут быть:\n",
    "1. Сезонность\n",
    "2. Редкость использования\n",
    "3. Сложность покупки подписки \n",
    "4. Недостаток информации о выгодности подписки\n",
    "5. Высокая стоимость\n",
    "\n",
    "и прочие причины, из-за которых подписок может быть меньше"
   ]
  },
  {
   "cell_type": "markdown",
   "id": "41545ac0",
   "metadata": {},
   "source": [
    "## Проверка гипотез"
   ]
  },
  {
   "cell_type": "markdown",
   "id": "691f8838",
   "metadata": {},
   "source": [
    "**6.1** Нулевая гипотеза: средняя продолж-ть поездок юзеров с подпиской равна средней прод-ти поездок без подписки.\n",
    "\n",
    "Альтернативная гипотеза: средняя продолжительность поездок для пользователей с подпиской больше, чем для пользователей без подписки"
   ]
  },
  {
   "cell_type": "code",
   "execution_count": 40,
   "id": "cb88f111",
   "metadata": {},
   "outputs": [
    {
     "name": "stdout",
     "output_type": "stream",
     "text": [
      "Средняя продолжительность поездок для пользователей с подпиской: 18.54198516280583\n",
      "Средняя продолжительность поездок для пользователей без подписки: 17.530771268800226\n",
      "p-значение: 4.704468074453899e-28\n",
      "Отвергаем нулевую гипотезу: Пользователи с подпиской тратят значимо больше времени на поездки.\n"
     ]
    }
   ],
   "source": [
    "#вычисляем среднюю продолжительность\n",
    "\n",
    "mean_duration_free = users_free['duration'].mean()\n",
    "mean_duration_ultra = users_ultra['duration'].mean()\n",
    "\n",
    "print(f\"Средняя продолжительность поездок для пользователей с подпиской: {mean_duration_ultra}\")\n",
    "print(f\"Средняя продолжительность поездок для пользователей без подписки: {mean_duration_free}\")\n",
    "\n",
    "results = st.ttest_ind( users_ultra['duration'], users_free['duration'], alternative='greater')\n",
    "print('p-значение:', results.pvalue)\n",
    "\n",
    "alpha = 0.05\n",
    "if results.pvalue < alpha:\n",
    "    print(\"Отвергаем нулевую гипотезу: Пользователи с подпиской тратят значимо больше времени на поездки.\")\n",
    "else:\n",
    "    print(\"Не отвергаем нулевую гипотезу: Нет значимой разницы в продолжительности поездок между пользователями с подпиской и без подписки.\")"
   ]
  },
  {
   "cell_type": "markdown",
   "id": "c2ace9b8",
   "metadata": {},
   "source": [
    "*Нулевая гипотеза отвергнута, так как p-value больше выбранному уровню статистической значимости. \n",
    "Юзеры с подпиской тратят больше времени*"
   ]
  },
  {
   "cell_type": "markdown",
   "id": "7a9625d2",
   "metadata": {},
   "source": [
    "**6.2** Нулевая гипотеза: среднее расстояние, которое проезжают юзеры с подпиской за одну поездку, равно 3130 метров.\n",
    "    \n",
    "Альтернативная гипотеза: среднее расстояние меньше 3130 метров."
   ]
  },
  {
   "cell_type": "code",
   "execution_count": 41,
   "id": "7e59bbc0",
   "metadata": {},
   "outputs": [
    {
     "name": "stdout",
     "output_type": "stream",
     "text": [
      "p-значение: 0.08046311521502146\n",
      "Не отклоняем нулевую гипотезу: среднее расстояние поездок пользователей с подпиской не превышает 3130 метров\n"
     ]
    }
   ],
   "source": [
    "value = 3130\n",
    "alpha = 0.05\n",
    "\n",
    "results = st.ttest_1samp(users_ultra['distance'], value, alternative='less')\n",
    "\n",
    "print('p-значение:', results.pvalue)\n",
    "\n",
    "if results.pvalue < alpha:\n",
    "    print(\"Отклоняем нулевую гипотезу\")\n",
    "else:\n",
    "    print(\"Не отклоняем нулевую гипотезу: среднее расстояние поездок пользователей с подпиской не превышает 3130 метров\")"
   ]
  },
  {
   "cell_type": "markdown",
   "id": "020971e1",
   "metadata": {},
   "source": [
    "**6.3** Нулевая гипотеза: помесячная выручка от юзеров с подпиской равна выручке от юзер без подписки.\n",
    "\n",
    "Альтернативная гипотеза: помесячная выручка от юзеров с подпиской выше."
   ]
  },
  {
   "cell_type": "code",
   "execution_count": 42,
   "id": "943eb52b",
   "metadata": {},
   "outputs": [
    {
     "name": "stdout",
     "output_type": "stream",
     "text": [
      "p-значение: 1.3949659707835752e-14\n",
      "Отвергаем нулевую гипотезу: Есть значимая разница в выручке между подписчиками и неподписчиками.\n"
     ]
    }
   ],
   "source": [
    "alpha = 0.05\n",
    "\n",
    "results = st.ttest_ind(monthly_revenue['free'], monthly_revenue['ultra'], alternative='greater')\n",
    "print('p-значение:', results.pvalue)\n",
    "\n",
    "\n",
    "\n",
    "if results.pvalue < alpha:\n",
    "     print(\"Отвергаем нулевую гипотезу: Есть значимая разница в выручке между подписчиками и неподписчиками.\")\n",
    "else:\n",
    "    print(\"Не отвергаем нулевую гипотезу: Нет значимой разницы в выручке между подписчиками и неподписчиками.\")\n"
   ]
  },
  {
   "cell_type": "markdown",
   "id": "d46bf335",
   "metadata": {},
   "source": [
    "**6.4**. Для проверки гипотезы о техподдержке, где нужно проверить количество обращений до и после обновления серверов, подойдет двухвыборочный t-тест для зависимых выборок (st.ttest_rel), так как мы проверяем изменения в парных данных. Этот способ поможет нам определить, действительно ли обновление серверов привело к уменьшению обращений в техподдержку, что может быть полезно для оценки эффективности обновления.  "
   ]
  },
  {
   "cell_type": "markdown",
   "id": "0c9586b6",
   "metadata": {},
   "source": [
    "# Общий вывод"
   ]
  },
  {
   "cell_type": "markdown",
   "id": "2faf3bb5",
   "metadata": {},
   "source": [
    "Юзеров без подписки больше на 16%, чем с подпиской. Посчитав выручку по месяцам, пришли к выводу, что выручка от юзеров без подписки ощутимо больше. Причины для отказа могут быть сезонность, непонимание выгоды, для кого-то дорогая стоимость, нежелание быть привязанным к одному транспорту, наличие конкурентов, сформированные привычки и прочее. Также немаловажным фактором может являться случайный выбор, когда юзер хочет добраться до места быстро и недорого. \n",
    "\n",
    "Пользователи с подпиской тратят ездят чаще, возможно, потому что подписка может подразумевать привязанность к определенному транспортному средству.\n",
    "\n",
    "Способы привлечения пользователей к покупке подписки:\n",
    "1. Скидки и акции для новых подписчиков и программы лояльности\n",
    "2. Информирование пользователей, рекламные кампании\n",
    "3. Анализ конкурентов\n",
    "4. Улучшение качества самокатов\n",
    "5. Улучшение приложения, алгоритмов, техподдержки, простой понятный интерфейс\n",
    "6. Персонализированные предложения\n",
    "\n",
    "Эти способы могут повысить лояльность юзеров, чтобы в дальшейшем улучшать работу и показатели сервиса.\n"
   ]
  }
 ],
 "metadata": {
  "ExecuteTimeLog": [
   {
    "duration": 1401,
    "start_time": "2024-10-16T15:25:56.721Z"
   },
   {
    "duration": 100,
    "start_time": "2024-10-16T15:27:54.999Z"
   },
   {
    "duration": 122,
    "start_time": "2024-10-16T15:28:06.337Z"
   },
   {
    "duration": 38,
    "start_time": "2024-10-16T15:28:28.865Z"
   },
   {
    "duration": 37,
    "start_time": "2024-10-16T15:28:45.046Z"
   },
   {
    "duration": 48,
    "start_time": "2024-10-16T15:29:18.325Z"
   },
   {
    "duration": 35,
    "start_time": "2024-10-16T15:29:40.771Z"
   },
   {
    "duration": 32,
    "start_time": "2024-10-16T15:29:57.750Z"
   },
   {
    "duration": 31,
    "start_time": "2024-10-16T15:30:30.517Z"
   },
   {
    "duration": 36,
    "start_time": "2024-10-16T15:30:34.716Z"
   },
   {
    "duration": 44,
    "start_time": "2024-10-16T16:06:32.957Z"
   },
   {
    "duration": 284,
    "start_time": "2024-10-16T16:07:22.922Z"
   },
   {
    "duration": 77,
    "start_time": "2024-10-16T16:07:33.646Z"
   },
   {
    "duration": 78,
    "start_time": "2024-10-16T16:08:07.161Z"
   },
   {
    "duration": 47,
    "start_time": "2024-10-16T16:08:23.207Z"
   },
   {
    "duration": 33,
    "start_time": "2024-10-16T16:08:39.139Z"
   },
   {
    "duration": 32,
    "start_time": "2024-10-16T16:08:46.616Z"
   },
   {
    "duration": 36,
    "start_time": "2024-10-16T16:08:52.802Z"
   },
   {
    "duration": 19,
    "start_time": "2024-10-16T16:10:58.460Z"
   },
   {
    "duration": 7,
    "start_time": "2024-10-16T16:11:50.121Z"
   },
   {
    "duration": 20,
    "start_time": "2024-10-16T16:11:55.501Z"
   },
   {
    "duration": 15,
    "start_time": "2024-10-16T16:13:20.826Z"
   },
   {
    "duration": 14,
    "start_time": "2024-10-16T16:14:52.475Z"
   },
   {
    "duration": 12,
    "start_time": "2024-10-16T16:15:43.551Z"
   },
   {
    "duration": 3,
    "start_time": "2024-10-16T16:15:50.947Z"
   },
   {
    "duration": 6,
    "start_time": "2024-10-16T16:15:54.999Z"
   },
   {
    "duration": 7,
    "start_time": "2024-10-16T16:16:07.099Z"
   },
   {
    "duration": 5,
    "start_time": "2024-10-16T16:16:34.019Z"
   },
   {
    "duration": 16,
    "start_time": "2024-10-16T16:16:49.066Z"
   },
   {
    "duration": 7,
    "start_time": "2024-10-16T16:17:17.359Z"
   },
   {
    "duration": 7,
    "start_time": "2024-10-16T16:18:12.112Z"
   },
   {
    "duration": 13,
    "start_time": "2024-10-16T16:20:59.359Z"
   },
   {
    "duration": 11,
    "start_time": "2024-10-16T16:21:01.836Z"
   },
   {
    "duration": 8,
    "start_time": "2024-10-16T16:21:04.867Z"
   },
   {
    "duration": 10,
    "start_time": "2024-10-16T16:22:34.054Z"
   },
   {
    "duration": 10,
    "start_time": "2024-10-16T16:22:41.359Z"
   },
   {
    "duration": 9,
    "start_time": "2024-10-16T16:22:50.642Z"
   },
   {
    "duration": 8,
    "start_time": "2024-10-16T16:23:19.985Z"
   },
   {
    "duration": 8,
    "start_time": "2024-10-16T16:23:23.536Z"
   },
   {
    "duration": 6,
    "start_time": "2024-10-16T16:23:30.936Z"
   },
   {
    "duration": 13,
    "start_time": "2024-10-16T16:25:15.354Z"
   },
   {
    "duration": 14,
    "start_time": "2024-10-16T16:25:20.966Z"
   },
   {
    "duration": 10,
    "start_time": "2024-10-16T16:25:38.715Z"
   },
   {
    "duration": 7,
    "start_time": "2024-10-16T16:40:45.335Z"
   },
   {
    "duration": 10,
    "start_time": "2024-10-16T16:41:15.781Z"
   },
   {
    "duration": 8,
    "start_time": "2024-10-16T16:41:22.626Z"
   },
   {
    "duration": 6,
    "start_time": "2024-10-16T16:42:40.535Z"
   },
   {
    "duration": 6,
    "start_time": "2024-10-16T16:42:49.762Z"
   },
   {
    "duration": 16,
    "start_time": "2024-10-16T16:44:28.019Z"
   },
   {
    "duration": 12,
    "start_time": "2024-10-16T16:44:50.340Z"
   },
   {
    "duration": 12,
    "start_time": "2024-10-16T16:45:41.581Z"
   },
   {
    "duration": 16,
    "start_time": "2024-10-16T16:45:51.001Z"
   },
   {
    "duration": 61,
    "start_time": "2024-10-16T16:46:31.966Z"
   },
   {
    "duration": 3,
    "start_time": "2024-10-16T16:49:00.650Z"
   },
   {
    "duration": 4,
    "start_time": "2024-10-16T16:49:07.510Z"
   },
   {
    "duration": 6,
    "start_time": "2024-10-16T16:49:12.055Z"
   },
   {
    "duration": 182,
    "start_time": "2024-10-16T16:49:24.816Z"
   },
   {
    "duration": 5,
    "start_time": "2024-10-16T16:51:12.369Z"
   },
   {
    "duration": 12,
    "start_time": "2024-10-16T16:51:18.379Z"
   },
   {
    "duration": 6,
    "start_time": "2024-10-16T16:52:44.638Z"
   },
   {
    "duration": 5,
    "start_time": "2024-10-16T16:52:59.551Z"
   },
   {
    "duration": 6,
    "start_time": "2024-10-16T16:53:07.072Z"
   },
   {
    "duration": 56,
    "start_time": "2024-10-16T16:53:30.169Z"
   },
   {
    "duration": 9,
    "start_time": "2024-10-16T16:53:33.288Z"
   },
   {
    "duration": 5,
    "start_time": "2024-10-16T16:54:06.417Z"
   },
   {
    "duration": 5,
    "start_time": "2024-10-16T16:54:14.106Z"
   },
   {
    "duration": 146,
    "start_time": "2024-10-16T16:55:03.763Z"
   },
   {
    "duration": 128,
    "start_time": "2024-10-16T16:55:20.207Z"
   },
   {
    "duration": 109,
    "start_time": "2024-10-16T16:55:30.386Z"
   },
   {
    "duration": 208,
    "start_time": "2024-10-16T16:55:35.828Z"
   },
   {
    "duration": 130,
    "start_time": "2024-10-16T16:55:42.493Z"
   },
   {
    "duration": 6,
    "start_time": "2024-10-16T16:56:19.682Z"
   },
   {
    "duration": 4,
    "start_time": "2024-10-16T16:56:40.126Z"
   },
   {
    "duration": 4,
    "start_time": "2024-10-16T16:56:48.928Z"
   },
   {
    "duration": 5,
    "start_time": "2024-10-16T16:56:51.548Z"
   },
   {
    "duration": 118,
    "start_time": "2024-10-16T16:57:25.586Z"
   },
   {
    "duration": 126,
    "start_time": "2024-10-16T16:57:30.974Z"
   },
   {
    "duration": 118,
    "start_time": "2024-10-16T16:57:36.700Z"
   },
   {
    "duration": 118,
    "start_time": "2024-10-16T16:57:41.049Z"
   },
   {
    "duration": 287,
    "start_time": "2024-10-16T16:57:51.513Z"
   },
   {
    "duration": 326,
    "start_time": "2024-10-16T16:57:58.457Z"
   },
   {
    "duration": 717,
    "start_time": "2024-10-16T16:58:06.239Z"
   },
   {
    "duration": 300,
    "start_time": "2024-10-16T16:58:11.892Z"
   },
   {
    "duration": 61,
    "start_time": "2024-10-16T16:58:16.582Z"
   },
   {
    "duration": 458,
    "start_time": "2024-10-16T16:58:27.027Z"
   },
   {
    "duration": 347,
    "start_time": "2024-10-16T16:58:31.020Z"
   },
   {
    "duration": 325,
    "start_time": "2024-10-16T16:58:35.974Z"
   },
   {
    "duration": 327,
    "start_time": "2024-10-16T16:58:40.450Z"
   },
   {
    "duration": 422,
    "start_time": "2024-10-16T16:59:52.383Z"
   },
   {
    "duration": 6,
    "start_time": "2024-10-16T17:00:53.173Z"
   },
   {
    "duration": 7,
    "start_time": "2024-10-16T17:01:06.087Z"
   },
   {
    "duration": 4,
    "start_time": "2024-10-16T17:01:11.996Z"
   },
   {
    "duration": 12,
    "start_time": "2024-10-16T17:02:35.699Z"
   },
   {
    "duration": 407,
    "start_time": "2024-10-16T17:02:44.988Z"
   },
   {
    "duration": 170,
    "start_time": "2024-10-16T17:03:14.911Z"
   },
   {
    "duration": 196,
    "start_time": "2024-10-16T17:04:52.205Z"
   },
   {
    "duration": 19,
    "start_time": "2024-10-16T17:05:42.067Z"
   },
   {
    "duration": 107,
    "start_time": "2024-10-16T17:05:52.278Z"
   },
   {
    "duration": 175,
    "start_time": "2024-10-16T17:06:11.346Z"
   },
   {
    "duration": 177,
    "start_time": "2024-10-16T17:08:06.723Z"
   },
   {
    "duration": 58,
    "start_time": "2024-10-16T17:08:49.572Z"
   },
   {
    "duration": 187,
    "start_time": "2024-10-16T17:09:00.887Z"
   },
   {
    "duration": 282,
    "start_time": "2024-10-16T17:09:08.272Z"
   },
   {
    "duration": 63,
    "start_time": "2024-10-16T17:18:52.002Z"
   },
   {
    "duration": 26,
    "start_time": "2024-10-16T17:19:12.218Z"
   },
   {
    "duration": 24,
    "start_time": "2024-10-16T17:19:39.673Z"
   },
   {
    "duration": 25,
    "start_time": "2024-10-16T17:20:42.170Z"
   },
   {
    "duration": 5,
    "start_time": "2024-10-16T17:22:09.890Z"
   },
   {
    "duration": 20,
    "start_time": "2024-10-16T17:22:31.009Z"
   },
   {
    "duration": 21,
    "start_time": "2024-10-16T17:23:17.116Z"
   },
   {
    "duration": 6,
    "start_time": "2024-10-16T17:24:37.169Z"
   },
   {
    "duration": 13,
    "start_time": "2024-10-16T17:27:55.076Z"
   },
   {
    "duration": 677,
    "start_time": "2024-10-16T17:28:08.017Z"
   },
   {
    "duration": 13,
    "start_time": "2024-10-16T17:28:56.348Z"
   },
   {
    "duration": 298,
    "start_time": "2024-10-16T17:29:03.590Z"
   },
   {
    "duration": 13,
    "start_time": "2024-10-16T17:31:18.562Z"
   },
   {
    "duration": 1698,
    "start_time": "2024-10-16T17:31:31.975Z"
   },
   {
    "duration": 916,
    "start_time": "2024-10-16T17:32:21.726Z"
   },
   {
    "duration": 1230,
    "start_time": "2024-10-16T17:33:44.898Z"
   },
   {
    "duration": 39,
    "start_time": "2024-10-16T17:33:46.130Z"
   },
   {
    "duration": 36,
    "start_time": "2024-10-16T17:33:46.171Z"
   },
   {
    "duration": 20,
    "start_time": "2024-10-16T17:33:46.209Z"
   },
   {
    "duration": 12,
    "start_time": "2024-10-16T17:33:46.231Z"
   },
   {
    "duration": 14,
    "start_time": "2024-10-16T17:33:46.244Z"
   },
   {
    "duration": 15,
    "start_time": "2024-10-16T17:33:46.260Z"
   },
   {
    "duration": 7,
    "start_time": "2024-10-16T17:33:46.297Z"
   },
   {
    "duration": 12,
    "start_time": "2024-10-16T17:33:46.305Z"
   },
   {
    "duration": 28,
    "start_time": "2024-10-16T17:33:46.320Z"
   },
   {
    "duration": 13,
    "start_time": "2024-10-16T17:33:46.350Z"
   },
   {
    "duration": 8,
    "start_time": "2024-10-16T17:33:46.364Z"
   },
   {
    "duration": 61,
    "start_time": "2024-10-16T17:33:46.374Z"
   },
   {
    "duration": 5,
    "start_time": "2024-10-16T17:33:46.437Z"
   },
   {
    "duration": 171,
    "start_time": "2024-10-16T17:33:46.444Z"
   },
   {
    "duration": 5,
    "start_time": "2024-10-16T17:33:46.617Z"
   },
   {
    "duration": 135,
    "start_time": "2024-10-16T17:33:46.623Z"
   },
   {
    "duration": 5,
    "start_time": "2024-10-16T17:33:46.759Z"
   },
   {
    "duration": 197,
    "start_time": "2024-10-16T17:33:46.766Z"
   },
   {
    "duration": 4,
    "start_time": "2024-10-16T17:33:46.965Z"
   },
   {
    "duration": 191,
    "start_time": "2024-10-16T17:33:46.970Z"
   },
   {
    "duration": 176,
    "start_time": "2024-10-16T17:33:47.162Z"
   },
   {
    "duration": 23,
    "start_time": "2024-10-16T17:33:47.340Z"
   },
   {
    "duration": 42,
    "start_time": "2024-10-16T17:33:47.365Z"
   },
   {
    "duration": 7,
    "start_time": "2024-10-16T17:33:47.408Z"
   },
   {
    "duration": 33,
    "start_time": "2024-10-16T17:33:47.417Z"
   },
   {
    "duration": 31,
    "start_time": "2024-10-16T17:33:47.452Z"
   },
   {
    "duration": 866,
    "start_time": "2024-10-16T17:33:47.486Z"
   },
   {
    "duration": 46,
    "start_time": "2024-10-22T14:13:16.606Z"
   },
   {
    "duration": 1284,
    "start_time": "2024-10-22T14:13:27.076Z"
   },
   {
    "duration": 87,
    "start_time": "2024-10-22T14:13:28.364Z"
   },
   {
    "duration": 152,
    "start_time": "2024-10-22T14:13:28.452Z"
   },
   {
    "duration": 73,
    "start_time": "2024-10-22T14:13:28.606Z"
   },
   {
    "duration": 13,
    "start_time": "2024-10-22T14:13:28.680Z"
   },
   {
    "duration": 15,
    "start_time": "2024-10-22T14:13:28.694Z"
   },
   {
    "duration": 15,
    "start_time": "2024-10-22T14:13:28.710Z"
   },
   {
    "duration": 5,
    "start_time": "2024-10-22T14:13:28.727Z"
   },
   {
    "duration": 85,
    "start_time": "2024-10-22T14:13:28.736Z"
   },
   {
    "duration": 7,
    "start_time": "2024-10-22T14:13:28.823Z"
   },
   {
    "duration": 8,
    "start_time": "2024-10-22T14:13:28.832Z"
   },
   {
    "duration": 7,
    "start_time": "2024-10-22T14:13:28.842Z"
   },
   {
    "duration": 10,
    "start_time": "2024-10-22T14:13:28.851Z"
   },
   {
    "duration": 6,
    "start_time": "2024-10-22T14:13:28.862Z"
   },
   {
    "duration": 183,
    "start_time": "2024-10-22T14:13:28.870Z"
   },
   {
    "duration": 5,
    "start_time": "2024-10-22T14:13:29.055Z"
   },
   {
    "duration": 115,
    "start_time": "2024-10-22T14:13:29.061Z"
   },
   {
    "duration": 5,
    "start_time": "2024-10-22T14:13:29.178Z"
   },
   {
    "duration": 221,
    "start_time": "2024-10-22T14:13:29.185Z"
   },
   {
    "duration": 4,
    "start_time": "2024-10-22T14:13:29.408Z"
   },
   {
    "duration": 180,
    "start_time": "2024-10-22T14:13:29.414Z"
   },
   {
    "duration": 177,
    "start_time": "2024-10-22T14:13:29.595Z"
   },
   {
    "duration": 22,
    "start_time": "2024-10-22T14:13:29.773Z"
   },
   {
    "duration": 22,
    "start_time": "2024-10-22T14:13:29.796Z"
   },
   {
    "duration": 7,
    "start_time": "2024-10-22T14:13:29.819Z"
   },
   {
    "duration": 80,
    "start_time": "2024-10-22T14:13:29.843Z"
   },
   {
    "duration": 30,
    "start_time": "2024-10-22T14:13:29.927Z"
   },
   {
    "duration": 929,
    "start_time": "2024-10-22T14:13:29.959Z"
   },
   {
    "duration": 121,
    "start_time": "2024-10-22T14:24:49.987Z"
   },
   {
    "duration": 128,
    "start_time": "2024-10-22T14:25:30.671Z"
   },
   {
    "duration": 120,
    "start_time": "2024-10-22T14:27:25.233Z"
   },
   {
    "duration": 1278,
    "start_time": "2024-10-22T14:35:45.733Z"
   },
   {
    "duration": 1157,
    "start_time": "2024-10-22T14:54:09.606Z"
   },
   {
    "duration": 1300,
    "start_time": "2024-10-22T14:54:19.913Z"
   },
   {
    "duration": 20,
    "start_time": "2024-10-22T15:10:39.236Z"
   },
   {
    "duration": 26,
    "start_time": "2024-10-22T15:11:16.439Z"
   },
   {
    "duration": 22,
    "start_time": "2024-10-22T15:11:53.386Z"
   },
   {
    "duration": 26,
    "start_time": "2024-10-22T15:13:03.315Z"
   },
   {
    "duration": 26,
    "start_time": "2024-10-22T15:15:30.362Z"
   },
   {
    "duration": 9,
    "start_time": "2024-10-22T15:22:49.168Z"
   },
   {
    "duration": 18,
    "start_time": "2024-10-22T15:22:59.564Z"
   },
   {
    "duration": 14,
    "start_time": "2024-10-22T15:24:12.922Z"
   },
   {
    "duration": 11,
    "start_time": "2024-10-22T15:24:57.663Z"
   },
   {
    "duration": 1226,
    "start_time": "2024-10-22T15:25:25.018Z"
   },
   {
    "duration": 38,
    "start_time": "2024-10-22T15:25:26.246Z"
   },
   {
    "duration": 34,
    "start_time": "2024-10-22T15:25:26.286Z"
   },
   {
    "duration": 19,
    "start_time": "2024-10-22T15:25:26.322Z"
   },
   {
    "duration": 11,
    "start_time": "2024-10-22T15:25:26.343Z"
   },
   {
    "duration": 14,
    "start_time": "2024-10-22T15:25:26.355Z"
   },
   {
    "duration": 14,
    "start_time": "2024-10-22T15:25:26.370Z"
   },
   {
    "duration": 6,
    "start_time": "2024-10-22T15:25:26.386Z"
   },
   {
    "duration": 13,
    "start_time": "2024-10-22T15:25:26.393Z"
   },
   {
    "duration": 25,
    "start_time": "2024-10-22T15:25:26.408Z"
   },
   {
    "duration": 12,
    "start_time": "2024-10-22T15:25:26.435Z"
   },
   {
    "duration": 10,
    "start_time": "2024-10-22T15:25:26.449Z"
   },
   {
    "duration": 9,
    "start_time": "2024-10-22T15:25:26.460Z"
   },
   {
    "duration": 15,
    "start_time": "2024-10-22T15:25:26.471Z"
   },
   {
    "duration": 187,
    "start_time": "2024-10-22T15:25:26.488Z"
   },
   {
    "duration": 6,
    "start_time": "2024-10-22T15:25:26.676Z"
   },
   {
    "duration": 131,
    "start_time": "2024-10-22T15:25:26.683Z"
   },
   {
    "duration": 6,
    "start_time": "2024-10-22T15:25:26.816Z"
   },
   {
    "duration": 221,
    "start_time": "2024-10-22T15:25:26.824Z"
   },
   {
    "duration": 5,
    "start_time": "2024-10-22T15:25:27.047Z"
   },
   {
    "duration": 192,
    "start_time": "2024-10-22T15:25:27.053Z"
   },
   {
    "duration": 180,
    "start_time": "2024-10-22T15:25:27.246Z"
   },
   {
    "duration": 31,
    "start_time": "2024-10-22T15:25:27.428Z"
   },
   {
    "duration": 23,
    "start_time": "2024-10-22T15:25:27.461Z"
   },
   {
    "duration": 7,
    "start_time": "2024-10-22T15:25:27.485Z"
   },
   {
    "duration": 114,
    "start_time": "2024-10-22T15:25:27.493Z"
   },
   {
    "duration": 19,
    "start_time": "2024-10-22T15:25:27.608Z"
   },
   {
    "duration": 862,
    "start_time": "2024-10-22T15:25:27.630Z"
   },
   {
    "duration": 1309,
    "start_time": "2024-10-22T15:25:28.494Z"
   },
   {
    "duration": 30,
    "start_time": "2024-10-22T15:25:29.804Z"
   },
   {
    "duration": 4,
    "start_time": "2024-10-22T15:25:29.836Z"
   },
   {
    "duration": 33,
    "start_time": "2024-10-22T15:25:29.842Z"
   },
   {
    "duration": 21,
    "start_time": "2024-10-22T15:25:29.877Z"
   },
   {
    "duration": 19,
    "start_time": "2024-10-22T15:25:48.246Z"
   },
   {
    "duration": 17,
    "start_time": "2024-10-22T15:29:57.709Z"
   },
   {
    "duration": 19,
    "start_time": "2024-10-22T15:30:03.813Z"
   },
   {
    "duration": 1063,
    "start_time": "2024-10-22T15:34:54.692Z"
   },
   {
    "duration": 38,
    "start_time": "2024-10-22T15:34:55.756Z"
   },
   {
    "duration": 35,
    "start_time": "2024-10-22T15:34:55.796Z"
   },
   {
    "duration": 21,
    "start_time": "2024-10-22T15:34:55.832Z"
   },
   {
    "duration": 13,
    "start_time": "2024-10-22T15:34:55.855Z"
   },
   {
    "duration": 13,
    "start_time": "2024-10-22T15:34:55.869Z"
   },
   {
    "duration": 32,
    "start_time": "2024-10-22T15:34:55.883Z"
   },
   {
    "duration": 5,
    "start_time": "2024-10-22T15:34:55.917Z"
   },
   {
    "duration": 111,
    "start_time": "2024-10-22T15:34:55.924Z"
   },
   {
    "duration": 6,
    "start_time": "2024-10-22T15:34:56.039Z"
   },
   {
    "duration": 26,
    "start_time": "2024-10-22T15:34:56.047Z"
   },
   {
    "duration": 11,
    "start_time": "2024-10-22T15:34:56.074Z"
   },
   {
    "duration": 92,
    "start_time": "2024-10-22T15:34:56.087Z"
   },
   {
    "duration": 15,
    "start_time": "2024-10-22T15:34:56.180Z"
   },
   {
    "duration": 179,
    "start_time": "2024-10-22T15:34:56.196Z"
   },
   {
    "duration": 5,
    "start_time": "2024-10-22T15:34:56.376Z"
   },
   {
    "duration": 107,
    "start_time": "2024-10-22T15:34:56.383Z"
   },
   {
    "duration": 5,
    "start_time": "2024-10-22T15:34:56.492Z"
   },
   {
    "duration": 201,
    "start_time": "2024-10-22T15:34:56.499Z"
   },
   {
    "duration": 5,
    "start_time": "2024-10-22T15:34:56.702Z"
   },
   {
    "duration": 196,
    "start_time": "2024-10-22T15:34:56.708Z"
   },
   {
    "duration": 162,
    "start_time": "2024-10-22T15:34:56.906Z"
   },
   {
    "duration": 23,
    "start_time": "2024-10-22T15:34:57.070Z"
   },
   {
    "duration": 22,
    "start_time": "2024-10-22T15:34:57.094Z"
   },
   {
    "duration": 74,
    "start_time": "2024-10-22T15:34:57.118Z"
   },
   {
    "duration": 25,
    "start_time": "2024-10-22T15:34:57.193Z"
   },
   {
    "duration": 18,
    "start_time": "2024-10-22T15:34:57.220Z"
   },
   {
    "duration": 836,
    "start_time": "2024-10-22T15:34:57.241Z"
   },
   {
    "duration": 1368,
    "start_time": "2024-10-22T15:34:58.079Z"
   },
   {
    "duration": 26,
    "start_time": "2024-10-22T15:34:59.449Z"
   },
   {
    "duration": 13,
    "start_time": "2024-10-22T15:34:59.476Z"
   },
   {
    "duration": 26,
    "start_time": "2024-10-22T15:34:59.492Z"
   },
   {
    "duration": 33,
    "start_time": "2024-10-22T15:34:59.519Z"
   },
   {
    "duration": 95,
    "start_time": "2024-10-22T15:36:33.141Z"
   },
   {
    "duration": 97,
    "start_time": "2024-10-22T15:40:53.394Z"
   },
   {
    "duration": 1275,
    "start_time": "2024-10-22T15:42:02.800Z"
   },
   {
    "duration": 40,
    "start_time": "2024-10-22T15:42:04.077Z"
   },
   {
    "duration": 58,
    "start_time": "2024-10-22T15:42:04.119Z"
   },
   {
    "duration": 40,
    "start_time": "2024-10-22T15:42:04.179Z"
   },
   {
    "duration": 14,
    "start_time": "2024-10-22T15:42:04.220Z"
   },
   {
    "duration": 35,
    "start_time": "2024-10-22T15:42:04.236Z"
   },
   {
    "duration": 36,
    "start_time": "2024-10-22T15:42:04.273Z"
   },
   {
    "duration": 10,
    "start_time": "2024-10-22T15:42:04.312Z"
   },
   {
    "duration": 34,
    "start_time": "2024-10-22T15:42:04.324Z"
   },
   {
    "duration": 53,
    "start_time": "2024-10-22T15:42:04.362Z"
   },
   {
    "duration": 13,
    "start_time": "2024-10-22T15:42:04.417Z"
   },
   {
    "duration": 15,
    "start_time": "2024-10-22T15:42:04.432Z"
   },
   {
    "duration": 12,
    "start_time": "2024-10-22T15:42:04.449Z"
   },
   {
    "duration": 6,
    "start_time": "2024-10-22T15:42:04.463Z"
   },
   {
    "duration": 210,
    "start_time": "2024-10-22T15:42:04.471Z"
   },
   {
    "duration": 6,
    "start_time": "2024-10-22T15:42:04.682Z"
   },
   {
    "duration": 136,
    "start_time": "2024-10-22T15:42:04.690Z"
   },
   {
    "duration": 6,
    "start_time": "2024-10-22T15:42:04.828Z"
   },
   {
    "duration": 244,
    "start_time": "2024-10-22T15:42:04.844Z"
   },
   {
    "duration": 5,
    "start_time": "2024-10-22T15:42:05.090Z"
   },
   {
    "duration": 256,
    "start_time": "2024-10-22T15:42:05.096Z"
   },
   {
    "duration": 168,
    "start_time": "2024-10-22T15:42:05.354Z"
   },
   {
    "duration": 31,
    "start_time": "2024-10-22T15:42:05.523Z"
   },
   {
    "duration": 124,
    "start_time": "2024-10-22T15:42:05.556Z"
   },
   {
    "duration": 31,
    "start_time": "2024-10-22T15:42:05.681Z"
   },
   {
    "duration": 59,
    "start_time": "2024-10-22T15:42:05.714Z"
   },
   {
    "duration": 26,
    "start_time": "2024-10-22T15:42:05.775Z"
   },
   {
    "duration": 790,
    "start_time": "2024-10-22T15:42:05.804Z"
   },
   {
    "duration": 1372,
    "start_time": "2024-10-22T15:42:06.595Z"
   },
   {
    "duration": 26,
    "start_time": "2024-10-22T15:42:07.969Z"
   },
   {
    "duration": 167,
    "start_time": "2024-10-22T15:42:07.997Z"
   },
   {
    "duration": 61,
    "start_time": "2024-10-22T15:42:08.166Z"
   },
   {
    "duration": 119,
    "start_time": "2024-10-22T15:42:08.229Z"
   },
   {
    "duration": 118,
    "start_time": "2024-10-22T15:42:08.349Z"
   },
   {
    "duration": 13,
    "start_time": "2024-10-22T15:43:46.314Z"
   },
   {
    "duration": 8,
    "start_time": "2024-10-22T15:44:07.388Z"
   },
   {
    "duration": 131,
    "start_time": "2024-10-22T15:45:40.811Z"
   },
   {
    "duration": 134,
    "start_time": "2024-10-22T15:46:15.490Z"
   },
   {
    "duration": 797,
    "start_time": "2024-10-25T08:59:43.140Z"
   },
   {
    "duration": 9,
    "start_time": "2024-10-25T09:08:08.490Z"
   },
   {
    "duration": 1347,
    "start_time": "2024-10-25T09:08:32.759Z"
   },
   {
    "duration": 115,
    "start_time": "2024-10-25T09:08:34.109Z"
   },
   {
    "duration": 145,
    "start_time": "2024-10-25T09:08:34.226Z"
   },
   {
    "duration": 74,
    "start_time": "2024-10-25T09:08:34.373Z"
   },
   {
    "duration": 12,
    "start_time": "2024-10-25T09:08:34.449Z"
   },
   {
    "duration": 28,
    "start_time": "2024-10-25T09:08:34.463Z"
   },
   {
    "duration": 25,
    "start_time": "2024-10-25T09:08:34.492Z"
   },
   {
    "duration": 9,
    "start_time": "2024-10-25T09:08:34.519Z"
   },
   {
    "duration": 10,
    "start_time": "2024-10-25T09:08:34.529Z"
   },
   {
    "duration": 9,
    "start_time": "2024-10-25T09:08:34.540Z"
   },
   {
    "duration": 16,
    "start_time": "2024-10-25T09:08:34.551Z"
   },
   {
    "duration": 22,
    "start_time": "2024-10-25T09:08:34.569Z"
   },
   {
    "duration": 17,
    "start_time": "2024-10-25T09:08:34.592Z"
   },
   {
    "duration": 11,
    "start_time": "2024-10-25T09:08:34.612Z"
   },
   {
    "duration": 169,
    "start_time": "2024-10-25T09:08:34.625Z"
   },
   {
    "duration": 7,
    "start_time": "2024-10-25T09:08:34.796Z"
   },
   {
    "duration": 123,
    "start_time": "2024-10-25T09:08:34.804Z"
   },
   {
    "duration": 6,
    "start_time": "2024-10-25T09:08:34.929Z"
   },
   {
    "duration": 211,
    "start_time": "2024-10-25T09:08:34.936Z"
   },
   {
    "duration": 4,
    "start_time": "2024-10-25T09:08:35.149Z"
   },
   {
    "duration": 186,
    "start_time": "2024-10-25T09:08:35.155Z"
   },
   {
    "duration": 174,
    "start_time": "2024-10-25T09:08:35.343Z"
   },
   {
    "duration": 24,
    "start_time": "2024-10-25T09:08:35.518Z"
   },
   {
    "duration": 41,
    "start_time": "2024-10-25T09:08:35.544Z"
   },
   {
    "duration": 7,
    "start_time": "2024-10-25T09:08:35.587Z"
   },
   {
    "duration": 28,
    "start_time": "2024-10-25T09:08:35.595Z"
   },
   {
    "duration": 69,
    "start_time": "2024-10-25T09:08:35.625Z"
   },
   {
    "duration": 984,
    "start_time": "2024-10-25T09:08:35.695Z"
   },
   {
    "duration": 1616,
    "start_time": "2024-10-25T09:08:36.680Z"
   },
   {
    "duration": 32,
    "start_time": "2024-10-25T09:08:38.298Z"
   },
   {
    "duration": 3,
    "start_time": "2024-10-25T09:08:38.331Z"
   },
   {
    "duration": 31,
    "start_time": "2024-10-25T09:08:38.335Z"
   },
   {
    "duration": 19,
    "start_time": "2024-10-25T09:08:38.367Z"
   },
   {
    "duration": 2,
    "start_time": "2024-10-25T09:08:38.388Z"
   },
   {
    "duration": 1051,
    "start_time": "2024-10-25T09:08:38.391Z"
   },
   {
    "duration": 0,
    "start_time": "2024-10-25T09:08:39.444Z"
   },
   {
    "duration": 0,
    "start_time": "2024-10-25T09:08:39.445Z"
   },
   {
    "duration": 0,
    "start_time": "2024-10-25T09:08:39.446Z"
   },
   {
    "duration": 0,
    "start_time": "2024-10-25T09:08:39.447Z"
   },
   {
    "duration": 6,
    "start_time": "2024-10-25T09:08:56.164Z"
   },
   {
    "duration": 9,
    "start_time": "2024-10-25T09:08:58.914Z"
   },
   {
    "duration": 6,
    "start_time": "2024-10-25T09:09:05.834Z"
   },
   {
    "duration": 9,
    "start_time": "2024-10-25T09:11:39.331Z"
   },
   {
    "duration": 10,
    "start_time": "2024-10-25T09:12:23.711Z"
   },
   {
    "duration": 6,
    "start_time": "2024-10-25T09:14:08.734Z"
   },
   {
    "duration": 5,
    "start_time": "2024-10-25T09:16:27.785Z"
   },
   {
    "duration": 29,
    "start_time": "2024-10-25T09:20:37.186Z"
   },
   {
    "duration": 27,
    "start_time": "2024-10-25T09:20:51.421Z"
   },
   {
    "duration": 30,
    "start_time": "2024-10-25T09:20:57.414Z"
   },
   {
    "duration": 37,
    "start_time": "2024-10-25T09:21:33.767Z"
   },
   {
    "duration": 1171,
    "start_time": "2024-10-25T09:21:52.916Z"
   },
   {
    "duration": 39,
    "start_time": "2024-10-25T09:21:54.088Z"
   },
   {
    "duration": 35,
    "start_time": "2024-10-25T09:21:54.128Z"
   },
   {
    "duration": 19,
    "start_time": "2024-10-25T09:21:54.165Z"
   },
   {
    "duration": 16,
    "start_time": "2024-10-25T09:21:54.186Z"
   },
   {
    "duration": 14,
    "start_time": "2024-10-25T09:21:54.203Z"
   },
   {
    "duration": 14,
    "start_time": "2024-10-25T09:21:54.219Z"
   },
   {
    "duration": 5,
    "start_time": "2024-10-25T09:21:54.235Z"
   },
   {
    "duration": 12,
    "start_time": "2024-10-25T09:21:54.242Z"
   },
   {
    "duration": 28,
    "start_time": "2024-10-25T09:21:54.255Z"
   },
   {
    "duration": 7,
    "start_time": "2024-10-25T09:21:54.284Z"
   },
   {
    "duration": 9,
    "start_time": "2024-10-25T09:21:54.292Z"
   },
   {
    "duration": 8,
    "start_time": "2024-10-25T09:21:54.302Z"
   },
   {
    "duration": 10,
    "start_time": "2024-10-25T09:21:54.312Z"
   },
   {
    "duration": 204,
    "start_time": "2024-10-25T09:21:54.324Z"
   },
   {
    "duration": 5,
    "start_time": "2024-10-25T09:21:54.530Z"
   },
   {
    "duration": 119,
    "start_time": "2024-10-25T09:21:54.536Z"
   },
   {
    "duration": 5,
    "start_time": "2024-10-25T09:21:54.656Z"
   },
   {
    "duration": 205,
    "start_time": "2024-10-25T09:21:54.663Z"
   },
   {
    "duration": 8,
    "start_time": "2024-10-25T09:21:54.870Z"
   },
   {
    "duration": 188,
    "start_time": "2024-10-25T09:21:54.879Z"
   },
   {
    "duration": 181,
    "start_time": "2024-10-25T09:21:55.069Z"
   },
   {
    "duration": 31,
    "start_time": "2024-10-25T09:21:55.251Z"
   },
   {
    "duration": 63,
    "start_time": "2024-10-25T09:21:55.284Z"
   },
   {
    "duration": 7,
    "start_time": "2024-10-25T09:21:55.348Z"
   },
   {
    "duration": 20,
    "start_time": "2024-10-25T09:21:55.357Z"
   },
   {
    "duration": 18,
    "start_time": "2024-10-25T09:21:55.379Z"
   },
   {
    "duration": 828,
    "start_time": "2024-10-25T09:21:55.399Z"
   },
   {
    "duration": 1355,
    "start_time": "2024-10-25T09:21:56.229Z"
   },
   {
    "duration": 103,
    "start_time": "2024-10-25T09:21:57.586Z"
   },
   {
    "duration": 0,
    "start_time": "2024-10-25T09:21:57.690Z"
   },
   {
    "duration": 0,
    "start_time": "2024-10-25T09:21:57.691Z"
   },
   {
    "duration": 0,
    "start_time": "2024-10-25T09:21:57.692Z"
   },
   {
    "duration": 0,
    "start_time": "2024-10-25T09:21:57.693Z"
   },
   {
    "duration": 0,
    "start_time": "2024-10-25T09:21:57.694Z"
   },
   {
    "duration": 0,
    "start_time": "2024-10-25T09:21:57.695Z"
   },
   {
    "duration": 0,
    "start_time": "2024-10-25T09:21:57.696Z"
   },
   {
    "duration": 0,
    "start_time": "2024-10-25T09:21:57.697Z"
   },
   {
    "duration": 0,
    "start_time": "2024-10-25T09:21:57.698Z"
   },
   {
    "duration": 0,
    "start_time": "2024-10-25T09:21:57.700Z"
   },
   {
    "duration": 0,
    "start_time": "2024-10-25T09:21:57.700Z"
   },
   {
    "duration": 16,
    "start_time": "2024-10-25T14:45:40.738Z"
   },
   {
    "duration": 35,
    "start_time": "2024-10-25T14:46:19.783Z"
   },
   {
    "duration": 48,
    "start_time": "2024-10-25T14:46:27.497Z"
   },
   {
    "duration": 16,
    "start_time": "2024-10-25T14:46:42.382Z"
   },
   {
    "duration": 20,
    "start_time": "2024-10-25T14:46:52.929Z"
   },
   {
    "duration": 2,
    "start_time": "2024-10-25T14:47:02.070Z"
   },
   {
    "duration": 20,
    "start_time": "2024-10-25T14:47:07.845Z"
   },
   {
    "duration": 937,
    "start_time": "2024-10-25T14:47:17.358Z"
   },
   {
    "duration": 966,
    "start_time": "2024-10-25T14:49:44.189Z"
   },
   {
    "duration": 21,
    "start_time": "2024-10-25T14:49:52.889Z"
   },
   {
    "duration": 9,
    "start_time": "2024-10-25T14:50:21.376Z"
   },
   {
    "duration": 13,
    "start_time": "2024-10-25T14:51:15.794Z"
   },
   {
    "duration": 240,
    "start_time": "2024-10-25T14:51:25.252Z"
   },
   {
    "duration": 230,
    "start_time": "2024-10-25T14:51:37.716Z"
   },
   {
    "duration": 229,
    "start_time": "2024-10-25T14:51:42.053Z"
   },
   {
    "duration": 260,
    "start_time": "2024-10-25T14:52:04.480Z"
   },
   {
    "duration": 228,
    "start_time": "2024-10-25T14:54:19.808Z"
   },
   {
    "duration": 8,
    "start_time": "2024-10-25T14:55:07.996Z"
   },
   {
    "duration": 219,
    "start_time": "2024-10-25T14:55:28.734Z"
   },
   {
    "duration": 8,
    "start_time": "2024-10-25T14:55:40.946Z"
   },
   {
    "duration": 9,
    "start_time": "2024-10-25T14:55:49.208Z"
   },
   {
    "duration": 7,
    "start_time": "2024-10-25T14:57:10.149Z"
   },
   {
    "duration": 6,
    "start_time": "2024-10-25T14:57:14.324Z"
   },
   {
    "duration": 7,
    "start_time": "2024-10-25T15:00:49.543Z"
   },
   {
    "duration": 49,
    "start_time": "2024-10-25T15:08:21.494Z"
   },
   {
    "duration": 19,
    "start_time": "2024-10-25T15:08:35.569Z"
   },
   {
    "duration": 13,
    "start_time": "2024-10-25T15:08:59.327Z"
   },
   {
    "duration": 9,
    "start_time": "2024-10-25T15:09:20.114Z"
   },
   {
    "duration": 13,
    "start_time": "2024-10-25T15:10:01.176Z"
   },
   {
    "duration": 4,
    "start_time": "2024-10-25T15:12:11.239Z"
   },
   {
    "duration": 8,
    "start_time": "2024-10-25T15:13:42.976Z"
   },
   {
    "duration": 8,
    "start_time": "2024-10-25T15:14:25.830Z"
   },
   {
    "duration": 6,
    "start_time": "2024-10-25T15:15:28.821Z"
   },
   {
    "duration": 71,
    "start_time": "2024-10-25T15:16:03.432Z"
   },
   {
    "duration": 7,
    "start_time": "2024-10-25T15:16:07.471Z"
   },
   {
    "duration": 167,
    "start_time": "2024-10-25T15:43:50.383Z"
   },
   {
    "duration": 161,
    "start_time": "2024-10-25T15:44:05.731Z"
   },
   {
    "duration": 12,
    "start_time": "2024-10-25T15:50:26.442Z"
   },
   {
    "duration": 5,
    "start_time": "2024-10-25T15:50:35.252Z"
   },
   {
    "duration": 4,
    "start_time": "2024-10-25T15:50:59.718Z"
   },
   {
    "duration": 6,
    "start_time": "2024-10-25T15:51:13.233Z"
   },
   {
    "duration": 5,
    "start_time": "2024-10-25T15:57:45.553Z"
   },
   {
    "duration": 281,
    "start_time": "2024-10-25T16:02:40.061Z"
   },
   {
    "duration": 1591,
    "start_time": "2024-10-25T16:13:30.488Z"
   },
   {
    "duration": 1420,
    "start_time": "2024-10-25T16:14:34.994Z"
   },
   {
    "duration": 53,
    "start_time": "2024-10-25T16:33:50.207Z"
   },
   {
    "duration": 8,
    "start_time": "2024-10-25T16:33:56.780Z"
   },
   {
    "duration": 9,
    "start_time": "2024-10-25T16:34:08.141Z"
   },
   {
    "duration": 8,
    "start_time": "2024-10-25T16:34:29.343Z"
   },
   {
    "duration": 36,
    "start_time": "2024-10-25T16:36:08.517Z"
   },
   {
    "duration": 14,
    "start_time": "2024-10-25T16:36:14.520Z"
   },
   {
    "duration": 20,
    "start_time": "2024-10-25T16:36:20.294Z"
   },
   {
    "duration": 20,
    "start_time": "2024-10-25T16:36:28.622Z"
   },
   {
    "duration": 54,
    "start_time": "2024-10-25T16:48:46.282Z"
   },
   {
    "duration": 58,
    "start_time": "2024-10-25T16:50:39.188Z"
   },
   {
    "duration": 55,
    "start_time": "2024-10-25T16:50:48.139Z"
   },
   {
    "duration": 127,
    "start_time": "2024-10-25T16:50:53.668Z"
   },
   {
    "duration": 126,
    "start_time": "2024-10-25T16:52:59.318Z"
   },
   {
    "duration": 116,
    "start_time": "2024-10-25T16:53:13.603Z"
   },
   {
    "duration": 4,
    "start_time": "2024-10-25T16:53:35.880Z"
   },
   {
    "duration": 4,
    "start_time": "2024-10-25T16:53:45.906Z"
   },
   {
    "duration": 5,
    "start_time": "2024-10-25T16:53:48.466Z"
   },
   {
    "duration": 6,
    "start_time": "2024-10-25T16:56:02.522Z"
   },
   {
    "duration": 107,
    "start_time": "2024-10-25T16:56:51.070Z"
   },
   {
    "duration": 7,
    "start_time": "2024-10-25T16:58:20.063Z"
   },
   {
    "duration": 7,
    "start_time": "2024-10-25T17:03:41.103Z"
   },
   {
    "duration": 7,
    "start_time": "2024-10-25T17:05:21.096Z"
   },
   {
    "duration": 7,
    "start_time": "2024-10-25T17:05:55.605Z"
   },
   {
    "duration": 7,
    "start_time": "2024-10-25T17:06:04.616Z"
   },
   {
    "duration": 7,
    "start_time": "2024-10-25T17:06:09.680Z"
   },
   {
    "duration": 7,
    "start_time": "2024-10-25T17:06:16.956Z"
   },
   {
    "duration": 58,
    "start_time": "2024-10-25T17:11:54.827Z"
   },
   {
    "duration": 5,
    "start_time": "2024-10-25T17:12:47.972Z"
   },
   {
    "duration": 5,
    "start_time": "2024-10-25T17:13:02.243Z"
   },
   {
    "duration": 57,
    "start_time": "2024-10-25T17:17:22.508Z"
   },
   {
    "duration": 1257,
    "start_time": "2024-10-25T17:35:31.551Z"
   },
   {
    "duration": 38,
    "start_time": "2024-10-25T17:35:32.810Z"
   },
   {
    "duration": 36,
    "start_time": "2024-10-25T17:35:32.849Z"
   },
   {
    "duration": 19,
    "start_time": "2024-10-25T17:35:32.887Z"
   },
   {
    "duration": 11,
    "start_time": "2024-10-25T17:35:32.908Z"
   },
   {
    "duration": 29,
    "start_time": "2024-10-25T17:35:32.921Z"
   },
   {
    "duration": 14,
    "start_time": "2024-10-25T17:35:32.952Z"
   },
   {
    "duration": 7,
    "start_time": "2024-10-25T17:35:32.969Z"
   },
   {
    "duration": 19,
    "start_time": "2024-10-25T17:35:32.977Z"
   },
   {
    "duration": 8,
    "start_time": "2024-10-25T17:35:32.998Z"
   },
   {
    "duration": 17,
    "start_time": "2024-10-25T17:35:33.008Z"
   },
   {
    "duration": 8,
    "start_time": "2024-10-25T17:35:33.026Z"
   },
   {
    "duration": 28,
    "start_time": "2024-10-25T17:35:33.035Z"
   },
   {
    "duration": 18,
    "start_time": "2024-10-25T17:35:33.064Z"
   },
   {
    "duration": 198,
    "start_time": "2024-10-25T17:35:33.084Z"
   },
   {
    "duration": 6,
    "start_time": "2024-10-25T17:35:33.284Z"
   },
   {
    "duration": 129,
    "start_time": "2024-10-25T17:35:33.291Z"
   },
   {
    "duration": 6,
    "start_time": "2024-10-25T17:35:33.422Z"
   },
   {
    "duration": 215,
    "start_time": "2024-10-25T17:35:33.430Z"
   },
   {
    "duration": 4,
    "start_time": "2024-10-25T17:35:33.647Z"
   },
   {
    "duration": 190,
    "start_time": "2024-10-25T17:35:33.653Z"
   },
   {
    "duration": 178,
    "start_time": "2024-10-25T17:35:33.845Z"
   },
   {
    "duration": 24,
    "start_time": "2024-10-25T17:35:34.025Z"
   },
   {
    "duration": 41,
    "start_time": "2024-10-25T17:35:34.051Z"
   },
   {
    "duration": 38,
    "start_time": "2024-10-25T17:35:34.093Z"
   },
   {
    "duration": 45,
    "start_time": "2024-10-25T17:35:34.133Z"
   },
   {
    "duration": 21,
    "start_time": "2024-10-25T17:35:34.180Z"
   },
   {
    "duration": 1489,
    "start_time": "2024-10-25T17:35:34.206Z"
   },
   {
    "duration": 35,
    "start_time": "2024-10-25T17:35:35.698Z"
   },
   {
    "duration": 115,
    "start_time": "2024-10-25T17:35:35.735Z"
   },
   {
    "duration": 0,
    "start_time": "2024-10-25T17:35:35.852Z"
   },
   {
    "duration": 0,
    "start_time": "2024-10-25T17:35:35.854Z"
   },
   {
    "duration": 0,
    "start_time": "2024-10-25T17:35:35.855Z"
   },
   {
    "duration": 0,
    "start_time": "2024-10-25T17:35:35.857Z"
   },
   {
    "duration": 0,
    "start_time": "2024-10-25T17:35:35.858Z"
   },
   {
    "duration": 0,
    "start_time": "2024-10-25T17:35:35.860Z"
   },
   {
    "duration": 13,
    "start_time": "2024-10-25T17:36:12.036Z"
   },
   {
    "duration": 1216,
    "start_time": "2024-10-25T17:36:17.981Z"
   },
   {
    "duration": 38,
    "start_time": "2024-10-25T17:36:19.199Z"
   },
   {
    "duration": 34,
    "start_time": "2024-10-25T17:36:19.239Z"
   },
   {
    "duration": 51,
    "start_time": "2024-10-25T17:36:19.275Z"
   },
   {
    "duration": 12,
    "start_time": "2024-10-25T17:36:19.327Z"
   },
   {
    "duration": 23,
    "start_time": "2024-10-25T17:36:19.340Z"
   },
   {
    "duration": 15,
    "start_time": "2024-10-25T17:36:19.365Z"
   },
   {
    "duration": 5,
    "start_time": "2024-10-25T17:36:19.381Z"
   },
   {
    "duration": 13,
    "start_time": "2024-10-25T17:36:19.387Z"
   },
   {
    "duration": 14,
    "start_time": "2024-10-25T17:36:19.403Z"
   },
   {
    "duration": 6,
    "start_time": "2024-10-25T17:36:19.418Z"
   },
   {
    "duration": 8,
    "start_time": "2024-10-25T17:36:19.425Z"
   },
   {
    "duration": 8,
    "start_time": "2024-10-25T17:36:19.434Z"
   },
   {
    "duration": 6,
    "start_time": "2024-10-25T17:36:19.443Z"
   },
   {
    "duration": 206,
    "start_time": "2024-10-25T17:36:19.450Z"
   },
   {
    "duration": 7,
    "start_time": "2024-10-25T17:36:19.658Z"
   },
   {
    "duration": 128,
    "start_time": "2024-10-25T17:36:19.666Z"
   },
   {
    "duration": 8,
    "start_time": "2024-10-25T17:36:19.796Z"
   },
   {
    "duration": 219,
    "start_time": "2024-10-25T17:36:19.805Z"
   },
   {
    "duration": 4,
    "start_time": "2024-10-25T17:36:20.026Z"
   },
   {
    "duration": 195,
    "start_time": "2024-10-25T17:36:20.032Z"
   },
   {
    "duration": 184,
    "start_time": "2024-10-25T17:36:20.228Z"
   },
   {
    "duration": 25,
    "start_time": "2024-10-25T17:36:20.414Z"
   },
   {
    "duration": 46,
    "start_time": "2024-10-25T17:36:20.441Z"
   },
   {
    "duration": 7,
    "start_time": "2024-10-25T17:36:20.489Z"
   },
   {
    "duration": 26,
    "start_time": "2024-10-25T17:36:20.498Z"
   },
   {
    "duration": 21,
    "start_time": "2024-10-25T17:36:20.526Z"
   },
   {
    "duration": 1530,
    "start_time": "2024-10-25T17:36:20.576Z"
   },
   {
    "duration": 35,
    "start_time": "2024-10-25T17:36:22.107Z"
   },
   {
    "duration": 13,
    "start_time": "2024-10-25T17:36:22.144Z"
   },
   {
    "duration": 118,
    "start_time": "2024-10-25T17:36:22.158Z"
   },
   {
    "duration": 0,
    "start_time": "2024-10-25T17:36:22.278Z"
   },
   {
    "duration": 0,
    "start_time": "2024-10-25T17:36:22.279Z"
   },
   {
    "duration": 0,
    "start_time": "2024-10-25T17:36:22.280Z"
   },
   {
    "duration": 0,
    "start_time": "2024-10-25T17:36:22.282Z"
   },
   {
    "duration": 0,
    "start_time": "2024-10-25T17:36:22.282Z"
   },
   {
    "duration": 1186,
    "start_time": "2024-10-25T17:37:01.352Z"
   },
   {
    "duration": 38,
    "start_time": "2024-10-25T17:37:02.539Z"
   },
   {
    "duration": 34,
    "start_time": "2024-10-25T17:37:02.579Z"
   },
   {
    "duration": 21,
    "start_time": "2024-10-25T17:37:02.616Z"
   },
   {
    "duration": 12,
    "start_time": "2024-10-25T17:37:02.638Z"
   },
   {
    "duration": 14,
    "start_time": "2024-10-25T17:37:02.651Z"
   },
   {
    "duration": 22,
    "start_time": "2024-10-25T17:37:02.666Z"
   },
   {
    "duration": 7,
    "start_time": "2024-10-25T17:37:02.690Z"
   },
   {
    "duration": 8,
    "start_time": "2024-10-25T17:37:02.699Z"
   },
   {
    "duration": 25,
    "start_time": "2024-10-25T17:37:02.710Z"
   },
   {
    "duration": 8,
    "start_time": "2024-10-25T17:37:02.736Z"
   },
   {
    "duration": 35,
    "start_time": "2024-10-25T17:37:02.746Z"
   },
   {
    "duration": 18,
    "start_time": "2024-10-25T17:37:02.782Z"
   },
   {
    "duration": 15,
    "start_time": "2024-10-25T17:37:02.801Z"
   },
   {
    "duration": 184,
    "start_time": "2024-10-25T17:37:02.817Z"
   },
   {
    "duration": 6,
    "start_time": "2024-10-25T17:37:03.002Z"
   },
   {
    "duration": 122,
    "start_time": "2024-10-25T17:37:03.010Z"
   },
   {
    "duration": 7,
    "start_time": "2024-10-25T17:37:03.133Z"
   },
   {
    "duration": 220,
    "start_time": "2024-10-25T17:37:03.141Z"
   },
   {
    "duration": 14,
    "start_time": "2024-10-25T17:37:03.363Z"
   },
   {
    "duration": 192,
    "start_time": "2024-10-25T17:37:03.379Z"
   },
   {
    "duration": 179,
    "start_time": "2024-10-25T17:37:03.577Z"
   },
   {
    "duration": 32,
    "start_time": "2024-10-25T17:37:03.759Z"
   },
   {
    "duration": 25,
    "start_time": "2024-10-25T17:37:03.792Z"
   },
   {
    "duration": 7,
    "start_time": "2024-10-25T17:37:03.818Z"
   },
   {
    "duration": 34,
    "start_time": "2024-10-25T17:37:03.826Z"
   },
   {
    "duration": 30,
    "start_time": "2024-10-25T17:37:03.861Z"
   },
   {
    "duration": 1512,
    "start_time": "2024-10-25T17:37:03.894Z"
   },
   {
    "duration": 34,
    "start_time": "2024-10-25T17:37:05.408Z"
   },
   {
    "duration": 14,
    "start_time": "2024-10-25T17:37:05.444Z"
   },
   {
    "duration": 34,
    "start_time": "2024-10-25T17:37:05.459Z"
   },
   {
    "duration": 19,
    "start_time": "2024-10-25T17:37:05.494Z"
   },
   {
    "duration": 237,
    "start_time": "2024-10-25T17:37:05.515Z"
   },
   {
    "duration": 111,
    "start_time": "2024-10-25T17:37:05.754Z"
   },
   {
    "duration": 0,
    "start_time": "2024-10-25T17:37:05.867Z"
   },
   {
    "duration": 0,
    "start_time": "2024-10-25T17:37:05.868Z"
   },
   {
    "duration": 13,
    "start_time": "2024-10-25T17:37:32.063Z"
   },
   {
    "duration": 7,
    "start_time": "2024-10-25T17:37:43.634Z"
   },
   {
    "duration": 1083,
    "start_time": "2024-10-25T17:37:51.212Z"
   },
   {
    "duration": 39,
    "start_time": "2024-10-25T17:37:52.297Z"
   },
   {
    "duration": 35,
    "start_time": "2024-10-25T17:37:52.338Z"
   },
   {
    "duration": 19,
    "start_time": "2024-10-25T17:37:52.374Z"
   },
   {
    "duration": 12,
    "start_time": "2024-10-25T17:37:52.395Z"
   },
   {
    "duration": 14,
    "start_time": "2024-10-25T17:37:52.409Z"
   },
   {
    "duration": 15,
    "start_time": "2024-10-25T17:37:52.424Z"
   },
   {
    "duration": 5,
    "start_time": "2024-10-25T17:37:52.441Z"
   },
   {
    "duration": 5,
    "start_time": "2024-10-25T17:37:52.448Z"
   },
   {
    "duration": 6,
    "start_time": "2024-10-25T17:37:52.475Z"
   },
   {
    "duration": 7,
    "start_time": "2024-10-25T17:37:52.482Z"
   },
   {
    "duration": 7,
    "start_time": "2024-10-25T17:37:52.491Z"
   },
   {
    "duration": 9,
    "start_time": "2024-10-25T17:37:52.499Z"
   },
   {
    "duration": 6,
    "start_time": "2024-10-25T17:37:52.510Z"
   },
   {
    "duration": 201,
    "start_time": "2024-10-25T17:37:52.517Z"
   },
   {
    "duration": 5,
    "start_time": "2024-10-25T17:37:52.719Z"
   },
   {
    "duration": 126,
    "start_time": "2024-10-25T17:37:52.726Z"
   },
   {
    "duration": 5,
    "start_time": "2024-10-25T17:37:52.853Z"
   },
   {
    "duration": 204,
    "start_time": "2024-10-25T17:37:52.860Z"
   },
   {
    "duration": 11,
    "start_time": "2024-10-25T17:37:53.065Z"
   },
   {
    "duration": 177,
    "start_time": "2024-10-25T17:37:53.077Z"
   },
   {
    "duration": 173,
    "start_time": "2024-10-25T17:37:53.255Z"
   },
   {
    "duration": 23,
    "start_time": "2024-10-25T17:37:53.429Z"
   },
   {
    "duration": 41,
    "start_time": "2024-10-25T17:37:53.454Z"
   },
   {
    "duration": 6,
    "start_time": "2024-10-25T17:37:53.496Z"
   },
   {
    "duration": 23,
    "start_time": "2024-10-25T17:37:53.504Z"
   },
   {
    "duration": 19,
    "start_time": "2024-10-25T17:37:53.528Z"
   },
   {
    "duration": 1542,
    "start_time": "2024-10-25T17:37:53.549Z"
   },
   {
    "duration": 32,
    "start_time": "2024-10-25T17:37:55.093Z"
   },
   {
    "duration": 14,
    "start_time": "2024-10-25T17:37:55.126Z"
   },
   {
    "duration": 39,
    "start_time": "2024-10-25T17:37:55.141Z"
   },
   {
    "duration": 19,
    "start_time": "2024-10-25T17:37:55.181Z"
   },
   {
    "duration": 247,
    "start_time": "2024-10-25T17:37:55.201Z"
   },
   {
    "duration": 7,
    "start_time": "2024-10-25T17:37:55.449Z"
   },
   {
    "duration": 22,
    "start_time": "2024-10-25T17:37:55.457Z"
   },
   {
    "duration": 102,
    "start_time": "2024-10-25T17:37:55.481Z"
   },
   {
    "duration": 4,
    "start_time": "2024-10-25T17:38:31.353Z"
   },
   {
    "duration": 1177,
    "start_time": "2024-10-25T17:38:36.720Z"
   },
   {
    "duration": 39,
    "start_time": "2024-10-25T17:38:37.899Z"
   },
   {
    "duration": 34,
    "start_time": "2024-10-25T17:38:37.940Z"
   },
   {
    "duration": 19,
    "start_time": "2024-10-25T17:38:37.976Z"
   },
   {
    "duration": 41,
    "start_time": "2024-10-25T17:38:37.997Z"
   },
   {
    "duration": 13,
    "start_time": "2024-10-25T17:38:38.040Z"
   },
   {
    "duration": 14,
    "start_time": "2024-10-25T17:38:38.055Z"
   },
   {
    "duration": 5,
    "start_time": "2024-10-25T17:38:38.071Z"
   },
   {
    "duration": 54,
    "start_time": "2024-10-25T17:38:38.077Z"
   },
   {
    "duration": 12,
    "start_time": "2024-10-25T17:38:38.133Z"
   },
   {
    "duration": 11,
    "start_time": "2024-10-25T17:38:38.146Z"
   },
   {
    "duration": 8,
    "start_time": "2024-10-25T17:38:38.159Z"
   },
   {
    "duration": 16,
    "start_time": "2024-10-25T17:38:38.169Z"
   },
   {
    "duration": 8,
    "start_time": "2024-10-25T17:38:38.187Z"
   },
   {
    "duration": 191,
    "start_time": "2024-10-25T17:38:38.197Z"
   },
   {
    "duration": 5,
    "start_time": "2024-10-25T17:38:38.389Z"
   },
   {
    "duration": 115,
    "start_time": "2024-10-25T17:38:38.396Z"
   },
   {
    "duration": 5,
    "start_time": "2024-10-25T17:38:38.513Z"
   },
   {
    "duration": 217,
    "start_time": "2024-10-25T17:38:38.519Z"
   },
   {
    "duration": 4,
    "start_time": "2024-10-25T17:38:38.738Z"
   },
   {
    "duration": 179,
    "start_time": "2024-10-25T17:38:38.743Z"
   },
   {
    "duration": 177,
    "start_time": "2024-10-25T17:38:38.924Z"
   },
   {
    "duration": 24,
    "start_time": "2024-10-25T17:38:39.103Z"
   },
   {
    "duration": 47,
    "start_time": "2024-10-25T17:38:39.129Z"
   },
   {
    "duration": 8,
    "start_time": "2024-10-25T17:38:39.177Z"
   },
   {
    "duration": 61,
    "start_time": "2024-10-25T17:38:39.188Z"
   },
   {
    "duration": 21,
    "start_time": "2024-10-25T17:38:39.251Z"
   },
   {
    "duration": 1538,
    "start_time": "2024-10-25T17:38:39.275Z"
   },
   {
    "duration": 32,
    "start_time": "2024-10-25T17:38:40.815Z"
   },
   {
    "duration": 27,
    "start_time": "2024-10-25T17:38:40.849Z"
   },
   {
    "duration": 18,
    "start_time": "2024-10-25T17:38:40.877Z"
   },
   {
    "duration": 18,
    "start_time": "2024-10-25T17:38:40.897Z"
   },
   {
    "duration": 230,
    "start_time": "2024-10-25T17:38:40.916Z"
   },
   {
    "duration": 7,
    "start_time": "2024-10-25T17:38:41.147Z"
   },
   {
    "duration": 22,
    "start_time": "2024-10-25T17:38:41.155Z"
   },
   {
    "duration": 48,
    "start_time": "2024-10-25T17:38:41.178Z"
   },
   {
    "duration": 1183,
    "start_time": "2024-10-25T17:38:57.711Z"
   },
   {
    "duration": 37,
    "start_time": "2024-10-25T17:38:58.896Z"
   },
   {
    "duration": 33,
    "start_time": "2024-10-25T17:38:58.935Z"
   },
   {
    "duration": 18,
    "start_time": "2024-10-25T17:38:58.971Z"
   },
   {
    "duration": 12,
    "start_time": "2024-10-25T17:38:58.991Z"
   },
   {
    "duration": 16,
    "start_time": "2024-10-25T17:38:59.005Z"
   },
   {
    "duration": 16,
    "start_time": "2024-10-25T17:38:59.023Z"
   },
   {
    "duration": 6,
    "start_time": "2024-10-25T17:38:59.041Z"
   },
   {
    "duration": 7,
    "start_time": "2024-10-25T17:38:59.077Z"
   },
   {
    "duration": 6,
    "start_time": "2024-10-25T17:38:59.086Z"
   },
   {
    "duration": 11,
    "start_time": "2024-10-25T17:38:59.093Z"
   },
   {
    "duration": 9,
    "start_time": "2024-10-25T17:38:59.105Z"
   },
   {
    "duration": 12,
    "start_time": "2024-10-25T17:38:59.115Z"
   },
   {
    "duration": 5,
    "start_time": "2024-10-25T17:38:59.129Z"
   },
   {
    "duration": 202,
    "start_time": "2024-10-25T17:38:59.136Z"
   },
   {
    "duration": 5,
    "start_time": "2024-10-25T17:38:59.339Z"
   },
   {
    "duration": 116,
    "start_time": "2024-10-25T17:38:59.346Z"
   },
   {
    "duration": 6,
    "start_time": "2024-10-25T17:38:59.463Z"
   },
   {
    "duration": 209,
    "start_time": "2024-10-25T17:38:59.476Z"
   },
   {
    "duration": 4,
    "start_time": "2024-10-25T17:38:59.687Z"
   },
   {
    "duration": 187,
    "start_time": "2024-10-25T17:38:59.692Z"
   },
   {
    "duration": 172,
    "start_time": "2024-10-25T17:38:59.880Z"
   },
   {
    "duration": 32,
    "start_time": "2024-10-25T17:39:00.054Z"
   },
   {
    "duration": 24,
    "start_time": "2024-10-25T17:39:00.088Z"
   },
   {
    "duration": 36,
    "start_time": "2024-10-25T17:39:00.113Z"
   },
   {
    "duration": 31,
    "start_time": "2024-10-25T17:39:00.150Z"
   },
   {
    "duration": 20,
    "start_time": "2024-10-25T17:39:00.182Z"
   },
   {
    "duration": 1498,
    "start_time": "2024-10-25T17:39:00.205Z"
   },
   {
    "duration": 34,
    "start_time": "2024-10-25T17:39:01.705Z"
   },
   {
    "duration": 14,
    "start_time": "2024-10-25T17:39:01.740Z"
   },
   {
    "duration": 25,
    "start_time": "2024-10-25T17:39:01.777Z"
   },
   {
    "duration": 33,
    "start_time": "2024-10-25T17:39:01.804Z"
   },
   {
    "duration": 221,
    "start_time": "2024-10-25T17:39:01.839Z"
   },
   {
    "duration": 15,
    "start_time": "2024-10-25T17:39:02.061Z"
   },
   {
    "duration": 73,
    "start_time": "2024-10-25T17:39:02.078Z"
   },
   {
    "duration": 30,
    "start_time": "2024-10-25T17:39:02.152Z"
   },
   {
    "duration": 1184,
    "start_time": "2024-10-25T17:41:05.533Z"
   },
   {
    "duration": 37,
    "start_time": "2024-10-25T17:41:06.719Z"
   },
   {
    "duration": 46,
    "start_time": "2024-10-25T17:41:06.758Z"
   },
   {
    "duration": 21,
    "start_time": "2024-10-25T17:41:06.806Z"
   },
   {
    "duration": 11,
    "start_time": "2024-10-25T17:41:06.828Z"
   },
   {
    "duration": 22,
    "start_time": "2024-10-25T17:41:06.841Z"
   },
   {
    "duration": 28,
    "start_time": "2024-10-25T17:41:06.864Z"
   },
   {
    "duration": 9,
    "start_time": "2024-10-25T17:41:06.895Z"
   },
   {
    "duration": 7,
    "start_time": "2024-10-25T17:41:06.907Z"
   },
   {
    "duration": 15,
    "start_time": "2024-10-25T17:41:06.917Z"
   },
   {
    "duration": 6,
    "start_time": "2024-10-25T17:41:06.933Z"
   },
   {
    "duration": 9,
    "start_time": "2024-10-25T17:41:06.941Z"
   },
   {
    "duration": 31,
    "start_time": "2024-10-25T17:41:06.952Z"
   },
   {
    "duration": 8,
    "start_time": "2024-10-25T17:41:06.986Z"
   },
   {
    "duration": 218,
    "start_time": "2024-10-25T17:41:06.996Z"
   },
   {
    "duration": 6,
    "start_time": "2024-10-25T17:41:07.217Z"
   },
   {
    "duration": 142,
    "start_time": "2024-10-25T17:41:07.225Z"
   },
   {
    "duration": 8,
    "start_time": "2024-10-25T17:41:07.369Z"
   },
   {
    "duration": 240,
    "start_time": "2024-10-25T17:41:07.378Z"
   },
   {
    "duration": 4,
    "start_time": "2024-10-25T17:41:07.621Z"
   },
   {
    "duration": 220,
    "start_time": "2024-10-25T17:41:07.627Z"
   },
   {
    "duration": 203,
    "start_time": "2024-10-25T17:41:07.848Z"
   },
   {
    "duration": 29,
    "start_time": "2024-10-25T17:41:08.053Z"
   },
   {
    "duration": 30,
    "start_time": "2024-10-25T17:41:08.085Z"
   },
   {
    "duration": 25,
    "start_time": "2024-10-25T17:41:08.117Z"
   },
   {
    "duration": 50,
    "start_time": "2024-10-25T17:41:08.143Z"
   },
   {
    "duration": 35,
    "start_time": "2024-10-25T17:41:08.194Z"
   },
   {
    "duration": 1796,
    "start_time": "2024-10-25T17:41:08.234Z"
   },
   {
    "duration": 52,
    "start_time": "2024-10-25T17:41:10.032Z"
   },
   {
    "duration": 14,
    "start_time": "2024-10-25T17:41:10.085Z"
   },
   {
    "duration": 41,
    "start_time": "2024-10-25T17:41:10.101Z"
   },
   {
    "duration": 20,
    "start_time": "2024-10-25T17:41:10.144Z"
   },
   {
    "duration": 239,
    "start_time": "2024-10-25T17:41:10.176Z"
   },
   {
    "duration": 7,
    "start_time": "2024-10-25T17:41:10.417Z"
   },
   {
    "duration": 6,
    "start_time": "2024-10-25T17:41:10.426Z"
   },
   {
    "duration": 7,
    "start_time": "2024-10-25T17:41:10.434Z"
   },
   {
    "duration": 1293,
    "start_time": "2024-10-25T21:04:51.988Z"
   },
   {
    "duration": 37,
    "start_time": "2024-10-25T21:04:53.283Z"
   },
   {
    "duration": 34,
    "start_time": "2024-10-25T21:04:53.322Z"
   },
   {
    "duration": 19,
    "start_time": "2024-10-25T21:04:53.358Z"
   },
   {
    "duration": 13,
    "start_time": "2024-10-25T21:04:53.379Z"
   },
   {
    "duration": 43,
    "start_time": "2024-10-25T21:04:53.395Z"
   },
   {
    "duration": 17,
    "start_time": "2024-10-25T21:04:53.439Z"
   },
   {
    "duration": 6,
    "start_time": "2024-10-25T21:04:53.458Z"
   },
   {
    "duration": 40,
    "start_time": "2024-10-25T21:04:53.465Z"
   },
   {
    "duration": 11,
    "start_time": "2024-10-25T21:04:53.507Z"
   },
   {
    "duration": 33,
    "start_time": "2024-10-25T21:04:53.519Z"
   },
   {
    "duration": 43,
    "start_time": "2024-10-25T21:04:53.554Z"
   },
   {
    "duration": 28,
    "start_time": "2024-10-25T21:04:53.599Z"
   },
   {
    "duration": 11,
    "start_time": "2024-10-25T21:04:53.629Z"
   },
   {
    "duration": 200,
    "start_time": "2024-10-25T21:04:53.641Z"
   },
   {
    "duration": 6,
    "start_time": "2024-10-25T21:04:53.843Z"
   },
   {
    "duration": 131,
    "start_time": "2024-10-25T21:04:53.851Z"
   },
   {
    "duration": 5,
    "start_time": "2024-10-25T21:04:53.984Z"
   },
   {
    "duration": 219,
    "start_time": "2024-10-25T21:04:53.991Z"
   },
   {
    "duration": 9,
    "start_time": "2024-10-25T21:04:54.211Z"
   },
   {
    "duration": 199,
    "start_time": "2024-10-25T21:04:54.221Z"
   },
   {
    "duration": 177,
    "start_time": "2024-10-25T21:04:54.421Z"
   },
   {
    "duration": 27,
    "start_time": "2024-10-25T21:04:54.600Z"
   },
   {
    "duration": 35,
    "start_time": "2024-10-25T21:04:54.628Z"
   },
   {
    "duration": 7,
    "start_time": "2024-10-25T21:04:54.665Z"
   },
   {
    "duration": 34,
    "start_time": "2024-10-25T21:04:54.674Z"
   },
   {
    "duration": 25,
    "start_time": "2024-10-25T21:04:54.710Z"
   },
   {
    "duration": 1528,
    "start_time": "2024-10-25T21:04:54.738Z"
   },
   {
    "duration": 35,
    "start_time": "2024-10-25T21:04:56.268Z"
   },
   {
    "duration": 24,
    "start_time": "2024-10-25T21:04:56.304Z"
   },
   {
    "duration": 19,
    "start_time": "2024-10-25T21:04:56.329Z"
   },
   {
    "duration": 20,
    "start_time": "2024-10-25T21:04:56.349Z"
   },
   {
    "duration": 233,
    "start_time": "2024-10-25T21:04:56.371Z"
   },
   {
    "duration": 11,
    "start_time": "2024-10-25T21:04:56.606Z"
   },
   {
    "duration": 18,
    "start_time": "2024-10-25T21:04:56.619Z"
   },
   {
    "duration": 48,
    "start_time": "2024-10-28T15:11:20.996Z"
   },
   {
    "duration": 1449,
    "start_time": "2024-10-28T15:11:31.481Z"
   },
   {
    "duration": 83,
    "start_time": "2024-10-28T15:11:32.932Z"
   },
   {
    "duration": 146,
    "start_time": "2024-10-28T15:11:33.017Z"
   },
   {
    "duration": 70,
    "start_time": "2024-10-28T15:11:33.165Z"
   },
   {
    "duration": 11,
    "start_time": "2024-10-28T15:11:33.237Z"
   },
   {
    "duration": 15,
    "start_time": "2024-10-28T15:11:33.250Z"
   },
   {
    "duration": 19,
    "start_time": "2024-10-28T15:11:33.266Z"
   },
   {
    "duration": 25,
    "start_time": "2024-10-28T15:11:33.286Z"
   },
   {
    "duration": 9,
    "start_time": "2024-10-28T15:11:33.313Z"
   },
   {
    "duration": 6,
    "start_time": "2024-10-28T15:11:33.324Z"
   },
   {
    "duration": 44,
    "start_time": "2024-10-28T15:11:33.332Z"
   },
   {
    "duration": 85,
    "start_time": "2024-10-28T15:11:33.379Z"
   },
   {
    "duration": 9,
    "start_time": "2024-10-28T15:11:33.465Z"
   },
   {
    "duration": 29,
    "start_time": "2024-10-28T15:11:33.475Z"
   },
   {
    "duration": 188,
    "start_time": "2024-10-28T15:11:33.505Z"
   },
   {
    "duration": 5,
    "start_time": "2024-10-28T15:11:33.695Z"
   },
   {
    "duration": 126,
    "start_time": "2024-10-28T15:11:33.701Z"
   },
   {
    "duration": 6,
    "start_time": "2024-10-28T15:11:33.828Z"
   },
   {
    "duration": 207,
    "start_time": "2024-10-28T15:11:33.836Z"
   },
   {
    "duration": 4,
    "start_time": "2024-10-28T15:11:34.045Z"
   },
   {
    "duration": 269,
    "start_time": "2024-10-28T15:11:34.050Z"
   },
   {
    "duration": 192,
    "start_time": "2024-10-28T15:11:34.321Z"
   },
   {
    "duration": 25,
    "start_time": "2024-10-28T15:11:34.515Z"
   },
   {
    "duration": 28,
    "start_time": "2024-10-28T15:11:34.542Z"
   },
   {
    "duration": 7,
    "start_time": "2024-10-28T15:11:34.571Z"
   },
   {
    "duration": 73,
    "start_time": "2024-10-28T15:11:34.580Z"
   },
   {
    "duration": 39,
    "start_time": "2024-10-28T15:11:34.654Z"
   },
   {
    "duration": 1692,
    "start_time": "2024-10-28T15:11:34.696Z"
   },
   {
    "duration": 38,
    "start_time": "2024-10-28T15:11:36.390Z"
   },
   {
    "duration": 14,
    "start_time": "2024-10-28T15:11:36.430Z"
   },
   {
    "duration": 20,
    "start_time": "2024-10-28T15:11:36.445Z"
   },
   {
    "duration": 44,
    "start_time": "2024-10-28T15:11:36.466Z"
   },
   {
    "duration": 216,
    "start_time": "2024-10-28T15:11:36.511Z"
   },
   {
    "duration": 8,
    "start_time": "2024-10-28T15:11:36.728Z"
   },
   {
    "duration": 31,
    "start_time": "2024-10-28T15:11:36.738Z"
   },
   {
    "duration": 19,
    "start_time": "2024-10-28T15:11:36.771Z"
   },
   {
    "duration": 190,
    "start_time": "2024-10-28T15:11:56.103Z"
   },
   {
    "duration": 314,
    "start_time": "2024-10-28T15:12:05.422Z"
   },
   {
    "duration": 246,
    "start_time": "2024-10-28T15:12:14.162Z"
   },
   {
    "duration": 225,
    "start_time": "2024-10-28T15:12:22.641Z"
   },
   {
    "duration": 230,
    "start_time": "2024-10-28T15:12:29.896Z"
   },
   {
    "duration": 366,
    "start_time": "2024-10-28T15:13:02.869Z"
   },
   {
    "duration": 233,
    "start_time": "2024-10-28T15:13:17.545Z"
   },
   {
    "duration": 164,
    "start_time": "2024-10-28T15:13:48.361Z"
   },
   {
    "duration": 173,
    "start_time": "2024-10-28T15:13:52.017Z"
   },
   {
    "duration": 185,
    "start_time": "2024-10-28T15:13:54.686Z"
   },
   {
    "duration": 249,
    "start_time": "2024-10-28T15:14:00.132Z"
   },
   {
    "duration": 215,
    "start_time": "2024-10-28T15:14:04.753Z"
   },
   {
    "duration": 224,
    "start_time": "2024-10-28T15:16:49.415Z"
   },
   {
    "duration": 258,
    "start_time": "2024-10-28T15:17:05.146Z"
   },
   {
    "duration": 213,
    "start_time": "2024-10-28T15:17:12.865Z"
   },
   {
    "duration": 10,
    "start_time": "2024-10-28T15:19:27.178Z"
   },
   {
    "duration": 5,
    "start_time": "2024-10-28T15:19:46.327Z"
   },
   {
    "duration": 7,
    "start_time": "2024-10-28T15:21:13.977Z"
   },
   {
    "duration": 6,
    "start_time": "2024-10-28T15:21:20.531Z"
   },
   {
    "duration": 7,
    "start_time": "2024-10-28T15:21:30.606Z"
   },
   {
    "duration": 6,
    "start_time": "2024-10-28T15:21:49.316Z"
   },
   {
    "duration": 8,
    "start_time": "2024-10-28T15:21:57.408Z"
   },
   {
    "duration": 8,
    "start_time": "2024-10-28T15:22:20.556Z"
   },
   {
    "duration": 8,
    "start_time": "2024-10-28T15:22:25.177Z"
   },
   {
    "duration": 8,
    "start_time": "2024-10-28T15:22:28.832Z"
   },
   {
    "duration": 8,
    "start_time": "2024-10-28T15:22:34.009Z"
   },
   {
    "duration": 8,
    "start_time": "2024-10-28T15:22:41.556Z"
   },
   {
    "duration": 8,
    "start_time": "2024-10-28T15:22:46.893Z"
   },
   {
    "duration": 8,
    "start_time": "2024-10-28T15:22:54.842Z"
   },
   {
    "duration": 8,
    "start_time": "2024-10-28T15:23:05.452Z"
   },
   {
    "duration": 7,
    "start_time": "2024-10-28T15:23:09.280Z"
   },
   {
    "duration": 8,
    "start_time": "2024-10-28T15:23:12.798Z"
   },
   {
    "duration": 8,
    "start_time": "2024-10-28T15:23:20.980Z"
   },
   {
    "duration": 8,
    "start_time": "2024-10-28T15:23:23.733Z"
   },
   {
    "duration": 7,
    "start_time": "2024-10-28T15:23:26.832Z"
   },
   {
    "duration": 9,
    "start_time": "2024-10-28T15:24:02.942Z"
   },
   {
    "duration": 9,
    "start_time": "2024-10-28T15:33:09.413Z"
   },
   {
    "duration": 47,
    "start_time": "2024-10-28T15:34:08.028Z"
   },
   {
    "duration": 52,
    "start_time": "2024-10-28T15:34:16.746Z"
   },
   {
    "duration": 68,
    "start_time": "2024-10-28T15:34:44.891Z"
   },
   {
    "duration": 58,
    "start_time": "2024-10-28T15:34:51.343Z"
   },
   {
    "duration": 152,
    "start_time": "2024-10-28T15:34:55.558Z"
   },
   {
    "duration": 1156,
    "start_time": "2024-10-28T15:37:25.559Z"
   },
   {
    "duration": 37,
    "start_time": "2024-10-28T15:37:26.717Z"
   },
   {
    "duration": 34,
    "start_time": "2024-10-28T15:37:26.755Z"
   },
   {
    "duration": 19,
    "start_time": "2024-10-28T15:37:26.790Z"
   },
   {
    "duration": 11,
    "start_time": "2024-10-28T15:37:26.811Z"
   },
   {
    "duration": 20,
    "start_time": "2024-10-28T15:37:26.823Z"
   },
   {
    "duration": 28,
    "start_time": "2024-10-28T15:37:26.845Z"
   },
   {
    "duration": 6,
    "start_time": "2024-10-28T15:37:26.874Z"
   },
   {
    "duration": 21,
    "start_time": "2024-10-28T15:37:26.881Z"
   },
   {
    "duration": 5,
    "start_time": "2024-10-28T15:37:26.905Z"
   },
   {
    "duration": 9,
    "start_time": "2024-10-28T15:37:26.912Z"
   },
   {
    "duration": 9,
    "start_time": "2024-10-28T15:37:26.922Z"
   },
   {
    "duration": 7,
    "start_time": "2024-10-28T15:37:26.932Z"
   },
   {
    "duration": 5,
    "start_time": "2024-10-28T15:37:26.941Z"
   },
   {
    "duration": 203,
    "start_time": "2024-10-28T15:37:26.947Z"
   },
   {
    "duration": 6,
    "start_time": "2024-10-28T15:37:27.152Z"
   },
   {
    "duration": 132,
    "start_time": "2024-10-28T15:37:27.160Z"
   },
   {
    "duration": 10,
    "start_time": "2024-10-28T15:37:27.294Z"
   },
   {
    "duration": 224,
    "start_time": "2024-10-28T15:37:27.306Z"
   },
   {
    "duration": 5,
    "start_time": "2024-10-28T15:37:27.532Z"
   },
   {
    "duration": 259,
    "start_time": "2024-10-28T15:37:27.538Z"
   },
   {
    "duration": 216,
    "start_time": "2024-10-28T15:37:27.800Z"
   },
   {
    "duration": 7,
    "start_time": "2024-10-28T15:37:28.018Z"
   },
   {
    "duration": 10,
    "start_time": "2024-10-28T15:37:28.026Z"
   },
   {
    "duration": 24,
    "start_time": "2024-10-28T15:37:28.038Z"
   },
   {
    "duration": 53,
    "start_time": "2024-10-28T15:37:28.064Z"
   },
   {
    "duration": 8,
    "start_time": "2024-10-28T15:37:28.118Z"
   },
   {
    "duration": 100,
    "start_time": "2024-10-28T15:37:28.129Z"
   },
   {
    "duration": 20,
    "start_time": "2024-10-28T15:37:28.231Z"
   },
   {
    "duration": 1566,
    "start_time": "2024-10-28T15:37:28.253Z"
   },
   {
    "duration": 34,
    "start_time": "2024-10-28T15:37:29.821Z"
   },
   {
    "duration": 13,
    "start_time": "2024-10-28T15:37:29.856Z"
   },
   {
    "duration": 40,
    "start_time": "2024-10-28T15:37:29.870Z"
   },
   {
    "duration": 20,
    "start_time": "2024-10-28T15:37:29.912Z"
   },
   {
    "duration": 252,
    "start_time": "2024-10-28T15:37:29.934Z"
   },
   {
    "duration": 12,
    "start_time": "2024-10-28T15:37:30.188Z"
   },
   {
    "duration": 95,
    "start_time": "2024-10-28T15:37:30.202Z"
   },
   {
    "duration": 86,
    "start_time": "2024-10-28T15:37:30.299Z"
   },
   {
    "duration": 10,
    "start_time": "2024-10-28T15:38:03.179Z"
   },
   {
    "duration": 62,
    "start_time": "2024-10-28T15:38:22.120Z"
   },
   {
    "duration": 10,
    "start_time": "2024-10-28T15:38:44.712Z"
   },
   {
    "duration": 1180,
    "start_time": "2024-10-28T15:38:59.416Z"
   },
   {
    "duration": 38,
    "start_time": "2024-10-28T15:39:00.600Z"
   },
   {
    "duration": 34,
    "start_time": "2024-10-28T15:39:00.639Z"
   },
   {
    "duration": 19,
    "start_time": "2024-10-28T15:39:00.675Z"
   },
   {
    "duration": 10,
    "start_time": "2024-10-28T15:39:00.696Z"
   },
   {
    "duration": 16,
    "start_time": "2024-10-28T15:39:00.708Z"
   },
   {
    "duration": 15,
    "start_time": "2024-10-28T15:39:00.726Z"
   },
   {
    "duration": 6,
    "start_time": "2024-10-28T15:39:00.743Z"
   },
   {
    "duration": 34,
    "start_time": "2024-10-28T15:39:00.751Z"
   },
   {
    "duration": 15,
    "start_time": "2024-10-28T15:39:00.787Z"
   },
   {
    "duration": 17,
    "start_time": "2024-10-28T15:39:00.804Z"
   },
   {
    "duration": 36,
    "start_time": "2024-10-28T15:39:00.822Z"
   },
   {
    "duration": 22,
    "start_time": "2024-10-28T15:39:00.859Z"
   },
   {
    "duration": 22,
    "start_time": "2024-10-28T15:39:00.883Z"
   },
   {
    "duration": 195,
    "start_time": "2024-10-28T15:39:00.907Z"
   },
   {
    "duration": 5,
    "start_time": "2024-10-28T15:39:01.103Z"
   },
   {
    "duration": 117,
    "start_time": "2024-10-28T15:39:01.110Z"
   },
   {
    "duration": 5,
    "start_time": "2024-10-28T15:39:01.229Z"
   },
   {
    "duration": 228,
    "start_time": "2024-10-28T15:39:01.235Z"
   },
   {
    "duration": 4,
    "start_time": "2024-10-28T15:39:01.465Z"
   },
   {
    "duration": 332,
    "start_time": "2024-10-28T15:39:01.471Z"
   },
   {
    "duration": 220,
    "start_time": "2024-10-28T15:39:01.804Z"
   },
   {
    "duration": 8,
    "start_time": "2024-10-28T15:39:02.026Z"
   },
   {
    "duration": 17,
    "start_time": "2024-10-28T15:39:02.035Z"
   },
   {
    "duration": 16,
    "start_time": "2024-10-28T15:39:02.054Z"
   },
   {
    "duration": 37,
    "start_time": "2024-10-28T15:39:02.071Z"
   },
   {
    "duration": 24,
    "start_time": "2024-10-28T15:39:02.110Z"
   },
   {
    "duration": 76,
    "start_time": "2024-10-28T15:39:02.137Z"
   },
   {
    "duration": 65,
    "start_time": "2024-10-28T15:39:02.214Z"
   },
   {
    "duration": 22,
    "start_time": "2024-10-28T15:39:02.281Z"
   },
   {
    "duration": 1618,
    "start_time": "2024-10-28T15:39:02.305Z"
   },
   {
    "duration": 33,
    "start_time": "2024-10-28T15:39:03.925Z"
   },
   {
    "duration": 14,
    "start_time": "2024-10-28T15:39:03.959Z"
   },
   {
    "duration": 39,
    "start_time": "2024-10-28T15:39:03.975Z"
   },
   {
    "duration": 19,
    "start_time": "2024-10-28T15:39:04.016Z"
   },
   {
    "duration": 232,
    "start_time": "2024-10-28T15:39:04.037Z"
   },
   {
    "duration": 8,
    "start_time": "2024-10-28T15:39:04.271Z"
   },
   {
    "duration": 79,
    "start_time": "2024-10-28T15:39:04.281Z"
   },
   {
    "duration": 30,
    "start_time": "2024-10-28T15:39:04.362Z"
   },
   {
    "duration": 64,
    "start_time": "2024-10-28T15:39:37.350Z"
   },
   {
    "duration": 59,
    "start_time": "2024-10-28T15:39:45.288Z"
   },
   {
    "duration": 141,
    "start_time": "2024-10-28T15:40:37.054Z"
   },
   {
    "duration": 58,
    "start_time": "2024-10-28T15:40:49.356Z"
   },
   {
    "duration": 17,
    "start_time": "2024-10-28T15:40:57.525Z"
   },
   {
    "duration": 1202,
    "start_time": "2024-10-28T15:41:09.736Z"
   },
   {
    "duration": 39,
    "start_time": "2024-10-28T15:41:10.939Z"
   },
   {
    "duration": 35,
    "start_time": "2024-10-28T15:41:10.979Z"
   },
   {
    "duration": 19,
    "start_time": "2024-10-28T15:41:11.017Z"
   },
   {
    "duration": 14,
    "start_time": "2024-10-28T15:41:11.038Z"
   },
   {
    "duration": 15,
    "start_time": "2024-10-28T15:41:11.054Z"
   },
   {
    "duration": 30,
    "start_time": "2024-10-28T15:41:11.071Z"
   },
   {
    "duration": 6,
    "start_time": "2024-10-28T15:41:11.103Z"
   },
   {
    "duration": 10,
    "start_time": "2024-10-28T15:41:11.110Z"
   },
   {
    "duration": 7,
    "start_time": "2024-10-28T15:41:11.122Z"
   },
   {
    "duration": 15,
    "start_time": "2024-10-28T15:41:11.130Z"
   },
   {
    "duration": 21,
    "start_time": "2024-10-28T15:41:11.147Z"
   },
   {
    "duration": 9,
    "start_time": "2024-10-28T15:41:11.170Z"
   },
   {
    "duration": 21,
    "start_time": "2024-10-28T15:41:11.180Z"
   },
   {
    "duration": 182,
    "start_time": "2024-10-28T15:41:11.203Z"
   },
   {
    "duration": 16,
    "start_time": "2024-10-28T15:41:11.388Z"
   },
   {
    "duration": 112,
    "start_time": "2024-10-28T15:41:11.406Z"
   },
   {
    "duration": 6,
    "start_time": "2024-10-28T15:41:11.519Z"
   },
   {
    "duration": 239,
    "start_time": "2024-10-28T15:41:11.527Z"
   },
   {
    "duration": 5,
    "start_time": "2024-10-28T15:41:11.769Z"
   },
   {
    "duration": 267,
    "start_time": "2024-10-28T15:41:11.776Z"
   },
   {
    "duration": 242,
    "start_time": "2024-10-28T15:41:12.045Z"
   },
   {
    "duration": 18,
    "start_time": "2024-10-28T15:41:12.289Z"
   },
   {
    "duration": 78,
    "start_time": "2024-10-28T15:41:12.309Z"
   },
   {
    "duration": 13,
    "start_time": "2024-10-28T15:41:12.389Z"
   },
   {
    "duration": 27,
    "start_time": "2024-10-28T15:41:12.403Z"
   },
   {
    "duration": 26,
    "start_time": "2024-10-28T15:41:12.431Z"
   },
   {
    "duration": 7,
    "start_time": "2024-10-28T15:41:12.461Z"
   },
   {
    "duration": 43,
    "start_time": "2024-10-28T15:41:12.470Z"
   },
   {
    "duration": 20,
    "start_time": "2024-10-28T15:41:12.516Z"
   },
   {
    "duration": 1714,
    "start_time": "2024-10-28T15:41:12.539Z"
   },
   {
    "duration": 51,
    "start_time": "2024-10-28T15:41:14.255Z"
   },
   {
    "duration": 16,
    "start_time": "2024-10-28T15:41:14.308Z"
   },
   {
    "duration": 73,
    "start_time": "2024-10-28T15:41:14.326Z"
   },
   {
    "duration": 21,
    "start_time": "2024-10-28T15:41:14.401Z"
   },
   {
    "duration": 228,
    "start_time": "2024-10-28T15:41:14.424Z"
   },
   {
    "duration": 9,
    "start_time": "2024-10-28T15:41:14.654Z"
   },
   {
    "duration": 9,
    "start_time": "2024-10-28T15:41:14.665Z"
   },
   {
    "duration": 26,
    "start_time": "2024-10-28T15:41:14.677Z"
   },
   {
    "duration": 10,
    "start_time": "2024-10-28T15:41:37.665Z"
   },
   {
    "duration": 12,
    "start_time": "2024-10-28T15:41:59.988Z"
   },
   {
    "duration": 5,
    "start_time": "2024-10-28T15:43:08.199Z"
   },
   {
    "duration": 13,
    "start_time": "2024-10-28T15:43:57.981Z"
   },
   {
    "duration": 6,
    "start_time": "2024-10-28T15:44:06.379Z"
   },
   {
    "duration": 9,
    "start_time": "2024-10-28T15:46:25.563Z"
   },
   {
    "duration": 3,
    "start_time": "2024-10-28T15:49:09.553Z"
   },
   {
    "duration": 4,
    "start_time": "2024-10-28T15:49:20.204Z"
   },
   {
    "duration": 13,
    "start_time": "2024-10-28T15:51:18.077Z"
   },
   {
    "duration": 19,
    "start_time": "2024-10-28T16:00:15.260Z"
   },
   {
    "duration": 1225,
    "start_time": "2024-10-28T16:00:49.690Z"
   },
   {
    "duration": 37,
    "start_time": "2024-10-28T16:00:50.917Z"
   },
   {
    "duration": 35,
    "start_time": "2024-10-28T16:00:50.956Z"
   },
   {
    "duration": 20,
    "start_time": "2024-10-28T16:00:50.993Z"
   },
   {
    "duration": 12,
    "start_time": "2024-10-28T16:00:51.014Z"
   },
   {
    "duration": 16,
    "start_time": "2024-10-28T16:00:51.028Z"
   },
   {
    "duration": 14,
    "start_time": "2024-10-28T16:00:51.045Z"
   },
   {
    "duration": 5,
    "start_time": "2024-10-28T16:00:51.061Z"
   },
   {
    "duration": 14,
    "start_time": "2024-10-28T16:00:51.068Z"
   },
   {
    "duration": 18,
    "start_time": "2024-10-28T16:00:51.085Z"
   },
   {
    "duration": 8,
    "start_time": "2024-10-28T16:00:51.105Z"
   },
   {
    "duration": 8,
    "start_time": "2024-10-28T16:00:51.114Z"
   },
   {
    "duration": 9,
    "start_time": "2024-10-28T16:00:51.124Z"
   },
   {
    "duration": 16,
    "start_time": "2024-10-28T16:00:51.134Z"
   },
   {
    "duration": 199,
    "start_time": "2024-10-28T16:00:51.151Z"
   },
   {
    "duration": 6,
    "start_time": "2024-10-28T16:00:51.352Z"
   },
   {
    "duration": 118,
    "start_time": "2024-10-28T16:00:51.360Z"
   },
   {
    "duration": 5,
    "start_time": "2024-10-28T16:00:51.480Z"
   },
   {
    "duration": 226,
    "start_time": "2024-10-28T16:00:51.486Z"
   },
   {
    "duration": 4,
    "start_time": "2024-10-28T16:00:51.714Z"
   },
   {
    "duration": 239,
    "start_time": "2024-10-28T16:00:51.719Z"
   },
   {
    "duration": 235,
    "start_time": "2024-10-28T16:00:51.960Z"
   },
   {
    "duration": 10,
    "start_time": "2024-10-28T16:00:52.196Z"
   },
   {
    "duration": 22,
    "start_time": "2024-10-28T16:00:52.207Z"
   },
   {
    "duration": 16,
    "start_time": "2024-10-28T16:00:52.231Z"
   },
   {
    "duration": 30,
    "start_time": "2024-10-28T16:00:52.248Z"
   },
   {
    "duration": 34,
    "start_time": "2024-10-28T16:00:52.280Z"
   },
   {
    "duration": 11,
    "start_time": "2024-10-28T16:00:52.318Z"
   },
   {
    "duration": 32,
    "start_time": "2024-10-28T16:00:52.330Z"
   },
   {
    "duration": 60,
    "start_time": "2024-10-28T16:00:52.363Z"
   },
   {
    "duration": 36,
    "start_time": "2024-10-28T16:00:52.424Z"
   },
   {
    "duration": 18,
    "start_time": "2024-10-28T16:00:52.462Z"
   },
   {
    "duration": 1509,
    "start_time": "2024-10-28T16:00:52.482Z"
   },
   {
    "duration": 19,
    "start_time": "2024-10-28T16:00:54.000Z"
   },
   {
    "duration": 34,
    "start_time": "2024-10-28T16:00:54.021Z"
   },
   {
    "duration": 18,
    "start_time": "2024-10-28T16:00:54.056Z"
   },
   {
    "duration": 41,
    "start_time": "2024-10-28T16:00:54.076Z"
   },
   {
    "duration": 242,
    "start_time": "2024-10-28T16:00:54.118Z"
   },
   {
    "duration": 8,
    "start_time": "2024-10-28T16:00:54.362Z"
   },
   {
    "duration": 53,
    "start_time": "2024-10-28T16:00:54.371Z"
   },
   {
    "duration": 14,
    "start_time": "2024-10-28T16:00:54.426Z"
   },
   {
    "duration": 64,
    "start_time": "2024-10-28T16:03:38.739Z"
   },
   {
    "duration": 7,
    "start_time": "2024-10-28T16:03:46.840Z"
   },
   {
    "duration": 72,
    "start_time": "2024-10-28T16:07:25.347Z"
   },
   {
    "duration": 64,
    "start_time": "2024-10-28T16:07:34.974Z"
   },
   {
    "duration": 73,
    "start_time": "2024-10-28T16:08:44.851Z"
   },
   {
    "duration": 1234,
    "start_time": "2024-10-28T16:10:31.979Z"
   },
   {
    "duration": 38,
    "start_time": "2024-10-28T16:10:33.215Z"
   },
   {
    "duration": 36,
    "start_time": "2024-10-28T16:10:33.255Z"
   },
   {
    "duration": 19,
    "start_time": "2024-10-28T16:10:33.293Z"
   },
   {
    "duration": 21,
    "start_time": "2024-10-28T16:10:33.313Z"
   },
   {
    "duration": 16,
    "start_time": "2024-10-28T16:10:33.336Z"
   },
   {
    "duration": 19,
    "start_time": "2024-10-28T16:10:33.353Z"
   },
   {
    "duration": 15,
    "start_time": "2024-10-28T16:10:33.374Z"
   },
   {
    "duration": 35,
    "start_time": "2024-10-28T16:10:33.391Z"
   },
   {
    "duration": 6,
    "start_time": "2024-10-28T16:10:33.429Z"
   },
   {
    "duration": 22,
    "start_time": "2024-10-28T16:10:33.437Z"
   },
   {
    "duration": 15,
    "start_time": "2024-10-28T16:10:33.461Z"
   },
   {
    "duration": 16,
    "start_time": "2024-10-28T16:10:33.479Z"
   },
   {
    "duration": 22,
    "start_time": "2024-10-28T16:10:33.497Z"
   },
   {
    "duration": 200,
    "start_time": "2024-10-28T16:10:33.521Z"
   },
   {
    "duration": 7,
    "start_time": "2024-10-28T16:10:33.723Z"
   },
   {
    "duration": 125,
    "start_time": "2024-10-28T16:10:33.732Z"
   },
   {
    "duration": 7,
    "start_time": "2024-10-28T16:10:33.859Z"
   },
   {
    "duration": 224,
    "start_time": "2024-10-28T16:10:33.868Z"
   },
   {
    "duration": 4,
    "start_time": "2024-10-28T16:10:34.101Z"
   },
   {
    "duration": 294,
    "start_time": "2024-10-28T16:10:34.107Z"
   },
   {
    "duration": 233,
    "start_time": "2024-10-28T16:10:34.403Z"
   },
   {
    "duration": 8,
    "start_time": "2024-10-28T16:10:34.638Z"
   },
   {
    "duration": 22,
    "start_time": "2024-10-28T16:10:34.647Z"
   },
   {
    "duration": 47,
    "start_time": "2024-10-28T16:10:34.671Z"
   },
   {
    "duration": 31,
    "start_time": "2024-10-28T16:10:34.720Z"
   },
   {
    "duration": 45,
    "start_time": "2024-10-28T16:10:34.753Z"
   },
   {
    "duration": 18,
    "start_time": "2024-10-28T16:10:34.802Z"
   },
   {
    "duration": 15,
    "start_time": "2024-10-28T16:10:34.822Z"
   },
   {
    "duration": 21,
    "start_time": "2024-10-28T16:10:34.839Z"
   },
   {
    "duration": 45,
    "start_time": "2024-10-28T16:10:34.862Z"
   },
   {
    "duration": 31,
    "start_time": "2024-10-28T16:10:34.908Z"
   },
   {
    "duration": 1499,
    "start_time": "2024-10-28T16:10:34.941Z"
   },
   {
    "duration": 20,
    "start_time": "2024-10-28T16:10:36.441Z"
   },
   {
    "duration": 49,
    "start_time": "2024-10-28T16:10:36.463Z"
   },
   {
    "duration": 26,
    "start_time": "2024-10-28T16:10:36.513Z"
   },
   {
    "duration": 44,
    "start_time": "2024-10-28T16:10:36.540Z"
   },
   {
    "duration": 250,
    "start_time": "2024-10-28T16:10:36.585Z"
   },
   {
    "duration": 8,
    "start_time": "2024-10-28T16:10:36.836Z"
   },
   {
    "duration": 18,
    "start_time": "2024-10-28T16:10:36.845Z"
   },
   {
    "duration": 22,
    "start_time": "2024-10-28T16:10:36.865Z"
   },
   {
    "duration": 221,
    "start_time": "2024-10-28T16:11:40.326Z"
   },
   {
    "duration": 9,
    "start_time": "2024-10-28T16:12:18.158Z"
   },
   {
    "duration": 8,
    "start_time": "2024-10-28T16:27:55.496Z"
   },
   {
    "duration": 1224,
    "start_time": "2024-10-28T16:28:29.481Z"
   },
   {
    "duration": 38,
    "start_time": "2024-10-28T16:28:30.707Z"
   },
   {
    "duration": 34,
    "start_time": "2024-10-28T16:28:30.747Z"
   },
   {
    "duration": 18,
    "start_time": "2024-10-28T16:28:30.783Z"
   },
   {
    "duration": 11,
    "start_time": "2024-10-28T16:28:30.803Z"
   },
   {
    "duration": 24,
    "start_time": "2024-10-28T16:28:30.815Z"
   },
   {
    "duration": 14,
    "start_time": "2024-10-28T16:28:30.841Z"
   },
   {
    "duration": 10,
    "start_time": "2024-10-28T16:28:30.857Z"
   },
   {
    "duration": 12,
    "start_time": "2024-10-28T16:28:30.869Z"
   },
   {
    "duration": 17,
    "start_time": "2024-10-28T16:28:30.883Z"
   },
   {
    "duration": 43,
    "start_time": "2024-10-28T16:28:30.902Z"
   },
   {
    "duration": 21,
    "start_time": "2024-10-28T16:28:30.947Z"
   },
   {
    "duration": 7,
    "start_time": "2024-10-28T16:28:30.970Z"
   },
   {
    "duration": 12,
    "start_time": "2024-10-28T16:28:30.978Z"
   },
   {
    "duration": 170,
    "start_time": "2024-10-28T16:28:30.992Z"
   },
   {
    "duration": 5,
    "start_time": "2024-10-28T16:28:31.163Z"
   },
   {
    "duration": 122,
    "start_time": "2024-10-28T16:28:31.170Z"
   },
   {
    "duration": 9,
    "start_time": "2024-10-28T16:28:31.293Z"
   },
   {
    "duration": 232,
    "start_time": "2024-10-28T16:28:31.304Z"
   },
   {
    "duration": 9,
    "start_time": "2024-10-28T16:28:31.537Z"
   },
   {
    "duration": 70,
    "start_time": "2024-10-28T16:28:31.547Z"
   },
   {
    "duration": 259,
    "start_time": "2024-10-28T16:28:31.618Z"
   },
   {
    "duration": 233,
    "start_time": "2024-10-28T16:28:31.878Z"
   },
   {
    "duration": 7,
    "start_time": "2024-10-28T16:28:32.112Z"
   },
   {
    "duration": 30,
    "start_time": "2024-10-28T16:28:32.120Z"
   },
   {
    "duration": 17,
    "start_time": "2024-10-28T16:28:32.152Z"
   },
   {
    "duration": 38,
    "start_time": "2024-10-28T16:28:32.171Z"
   },
   {
    "duration": 28,
    "start_time": "2024-10-28T16:28:32.212Z"
   },
   {
    "duration": 38,
    "start_time": "2024-10-28T16:28:32.241Z"
   },
   {
    "duration": 26,
    "start_time": "2024-10-28T16:28:32.280Z"
   },
   {
    "duration": 19,
    "start_time": "2024-10-28T16:28:32.308Z"
   },
   {
    "duration": 81,
    "start_time": "2024-10-28T16:28:32.329Z"
   },
   {
    "duration": 125,
    "start_time": "2024-10-28T16:28:32.412Z"
   },
   {
    "duration": 1467,
    "start_time": "2024-10-28T16:28:32.539Z"
   },
   {
    "duration": 20,
    "start_time": "2024-10-28T16:28:34.008Z"
   },
   {
    "duration": 50,
    "start_time": "2024-10-28T16:28:34.030Z"
   },
   {
    "duration": 21,
    "start_time": "2024-10-28T16:28:34.082Z"
   },
   {
    "duration": 37,
    "start_time": "2024-10-28T16:28:34.105Z"
   },
   {
    "duration": 234,
    "start_time": "2024-10-28T16:28:34.144Z"
   },
   {
    "duration": 20,
    "start_time": "2024-10-28T16:28:34.380Z"
   },
   {
    "duration": 120,
    "start_time": "2024-10-28T16:28:34.401Z"
   },
   {
    "duration": 31,
    "start_time": "2024-10-28T16:28:34.522Z"
   },
   {
    "duration": 12,
    "start_time": "2024-10-28T16:29:53.506Z"
   },
   {
    "duration": 13,
    "start_time": "2024-10-28T16:32:12.347Z"
   },
   {
    "duration": 18,
    "start_time": "2024-10-28T16:32:17.025Z"
   },
   {
    "duration": 12,
    "start_time": "2024-10-28T16:32:31.077Z"
   },
   {
    "duration": 1258,
    "start_time": "2025-08-18T04:29:15.816Z"
   },
   {
    "duration": 38,
    "start_time": "2025-08-18T04:29:17.078Z"
   },
   {
    "duration": 35,
    "start_time": "2025-08-18T04:29:17.118Z"
   },
   {
    "duration": 20,
    "start_time": "2025-08-18T04:29:17.155Z"
   },
   {
    "duration": 33,
    "start_time": "2025-08-18T04:29:17.177Z"
   },
   {
    "duration": 18,
    "start_time": "2025-08-18T04:29:17.212Z"
   },
   {
    "duration": 14,
    "start_time": "2025-08-18T04:29:17.232Z"
   },
   {
    "duration": 5,
    "start_time": "2025-08-18T04:29:17.248Z"
   },
   {
    "duration": 7,
    "start_time": "2025-08-18T04:29:17.254Z"
   },
   {
    "duration": 7,
    "start_time": "2025-08-18T04:29:17.265Z"
   },
   {
    "duration": 11,
    "start_time": "2025-08-18T04:29:17.274Z"
   },
   {
    "duration": 10,
    "start_time": "2025-08-18T04:29:17.287Z"
   },
   {
    "duration": 43,
    "start_time": "2025-08-18T04:29:17.300Z"
   },
   {
    "duration": 7,
    "start_time": "2025-08-18T04:29:17.345Z"
   },
   {
    "duration": 192,
    "start_time": "2025-08-18T04:29:17.354Z"
   },
   {
    "duration": 8,
    "start_time": "2025-08-18T04:29:17.549Z"
   },
   {
    "duration": 138,
    "start_time": "2025-08-18T04:29:17.559Z"
   },
   {
    "duration": 5,
    "start_time": "2025-08-18T04:29:17.699Z"
   },
   {
    "duration": 208,
    "start_time": "2025-08-18T04:29:17.705Z"
   },
   {
    "duration": 8,
    "start_time": "2025-08-18T04:29:17.914Z"
   },
   {
    "duration": 4,
    "start_time": "2025-08-18T04:29:17.939Z"
   },
   {
    "duration": 243,
    "start_time": "2025-08-18T04:29:17.945Z"
   },
   {
    "duration": 229,
    "start_time": "2025-08-18T04:29:18.190Z"
   },
   {
    "duration": 19,
    "start_time": "2025-08-18T04:29:18.421Z"
   },
   {
    "duration": 4,
    "start_time": "2025-08-18T04:29:18.441Z"
   },
   {
    "duration": 9,
    "start_time": "2025-08-18T04:29:18.447Z"
   },
   {
    "duration": 23,
    "start_time": "2025-08-18T04:29:18.457Z"
   },
   {
    "duration": 23,
    "start_time": "2025-08-18T04:29:18.483Z"
   },
   {
    "duration": 38,
    "start_time": "2025-08-18T04:29:18.507Z"
   },
   {
    "duration": 3,
    "start_time": "2025-08-18T04:29:18.547Z"
   },
   {
    "duration": 10,
    "start_time": "2025-08-18T04:29:18.552Z"
   },
   {
    "duration": 27,
    "start_time": "2025-08-18T04:29:18.563Z"
   },
   {
    "duration": 52,
    "start_time": "2025-08-18T04:29:18.592Z"
   },
   {
    "duration": 1486,
    "start_time": "2025-08-18T04:29:18.646Z"
   },
   {
    "duration": 22,
    "start_time": "2025-08-18T04:29:20.134Z"
   },
   {
    "duration": 33,
    "start_time": "2025-08-18T04:29:20.157Z"
   },
   {
    "duration": 21,
    "start_time": "2025-08-18T04:29:20.192Z"
   },
   {
    "duration": 21,
    "start_time": "2025-08-18T04:29:20.239Z"
   },
   {
    "duration": 236,
    "start_time": "2025-08-18T04:29:20.262Z"
   },
   {
    "duration": 7,
    "start_time": "2025-08-18T04:29:20.500Z"
   },
   {
    "duration": 12,
    "start_time": "2025-08-18T04:29:20.508Z"
   },
   {
    "duration": 18,
    "start_time": "2025-08-18T04:29:20.522Z"
   }
  ],
  "kernelspec": {
   "display_name": "Python 3 (ipykernel)",
   "language": "python",
   "name": "python3"
  },
  "language_info": {
   "codemirror_mode": {
    "name": "ipython",
    "version": 3
   },
   "file_extension": ".py",
   "mimetype": "text/x-python",
   "name": "python",
   "nbconvert_exporter": "python",
   "pygments_lexer": "ipython3",
   "version": "3.9.5"
  },
  "toc": {
   "base_numbering": 1,
   "nav_menu": {},
   "number_sections": true,
   "sideBar": true,
   "skip_h1_title": true,
   "title_cell": "Table of Contents",
   "title_sidebar": "Contents",
   "toc_cell": false,
   "toc_position": {},
   "toc_section_display": true,
   "toc_window_display": false
  }
 },
 "nbformat": 4,
 "nbformat_minor": 5
}
